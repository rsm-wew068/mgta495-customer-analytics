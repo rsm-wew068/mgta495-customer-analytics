{
 "cells": [
  {
   "cell_type": "markdown",
   "id": "aecff19f",
   "metadata": {},
   "source": [
    "# TZ Gaming: Optimal Targeting of Mobile Ads"
   ]
  },
  {
   "cell_type": "code",
   "execution_count": 1,
   "id": "4dd2ad5c",
   "metadata": {},
   "outputs": [],
   "source": [
    "import os\n",
    "\n",
    "import matplotlib as mpl\n",
    "import matplotlib.pyplot as plt\n",
    "import numpy as np\n",
    "import pandas as pd\n",
    "import pyrsm as rsm\n",
    "import seaborn as sns\n",
    "\n",
    "# increase plot resolution\n",
    "# mpl.rcParams[\"figure.dpi\"] = 200"
   ]
  },
  {
   "cell_type": "code",
   "execution_count": 2,
   "id": "f6496814",
   "metadata": {},
   "outputs": [
    {
     "data": {
      "text/plain": [
       "'1.3.0'"
      ]
     },
     "execution_count": 2,
     "metadata": {},
     "output_type": "execute_result"
    }
   ],
   "source": [
    "# if your pyrsm version is not 1.1.0 install in a\n",
    "# terminal using: pip install --user pyrsm --upgrade\n",
    "rsm.__version__"
   ]
  },
  {
   "cell_type": "code",
   "execution_count": 3,
   "id": "b7b8bc29",
   "metadata": {},
   "outputs": [
    {
     "ename": "FileNotFoundError",
     "evalue": "[Errno 2] No such file or directory: 'data/tz_gaming.parquet'",
     "output_type": "error",
     "traceback": [
      "\u001b[0;31m---------------------------------------------------------------------------\u001b[0m",
      "\u001b[0;31mFileNotFoundError\u001b[0m                         Traceback (most recent call last)",
      "Cell \u001b[0;32mIn[3], line 2\u001b[0m\n\u001b[1;32m      1\u001b[0m \u001b[38;5;66;03m# loading data tz_gaming.parquet\u001b[39;00m\n\u001b[0;32m----> 2\u001b[0m tz_gaming \u001b[38;5;241m=\u001b[39m \u001b[43mpd\u001b[49m\u001b[38;5;241;43m.\u001b[39;49m\u001b[43mread_parquet\u001b[49m\u001b[43m(\u001b[49m\u001b[38;5;124;43m\"\u001b[39;49m\u001b[38;5;124;43mdata/tz_gaming.parquet\u001b[39;49m\u001b[38;5;124;43m\"\u001b[39;49m\u001b[43m)\u001b[49m\n\u001b[1;32m      3\u001b[0m tz_gaming\u001b[38;5;241m.\u001b[39mhead()\n",
      "File \u001b[0;32m~/.rsm-msba/lib/python3.11/site-packages/pandas/io/parquet.py:667\u001b[0m, in \u001b[0;36mread_parquet\u001b[0;34m(path, engine, columns, storage_options, use_nullable_dtypes, dtype_backend, filesystem, filters, **kwargs)\u001b[0m\n\u001b[1;32m    664\u001b[0m     use_nullable_dtypes \u001b[38;5;241m=\u001b[39m \u001b[38;5;28;01mFalse\u001b[39;00m\n\u001b[1;32m    665\u001b[0m check_dtype_backend(dtype_backend)\n\u001b[0;32m--> 667\u001b[0m \u001b[38;5;28;01mreturn\u001b[39;00m \u001b[43mimpl\u001b[49m\u001b[38;5;241;43m.\u001b[39;49m\u001b[43mread\u001b[49m\u001b[43m(\u001b[49m\n\u001b[1;32m    668\u001b[0m \u001b[43m    \u001b[49m\u001b[43mpath\u001b[49m\u001b[43m,\u001b[49m\n\u001b[1;32m    669\u001b[0m \u001b[43m    \u001b[49m\u001b[43mcolumns\u001b[49m\u001b[38;5;241;43m=\u001b[39;49m\u001b[43mcolumns\u001b[49m\u001b[43m,\u001b[49m\n\u001b[1;32m    670\u001b[0m \u001b[43m    \u001b[49m\u001b[43mfilters\u001b[49m\u001b[38;5;241;43m=\u001b[39;49m\u001b[43mfilters\u001b[49m\u001b[43m,\u001b[49m\n\u001b[1;32m    671\u001b[0m \u001b[43m    \u001b[49m\u001b[43mstorage_options\u001b[49m\u001b[38;5;241;43m=\u001b[39;49m\u001b[43mstorage_options\u001b[49m\u001b[43m,\u001b[49m\n\u001b[1;32m    672\u001b[0m \u001b[43m    \u001b[49m\u001b[43muse_nullable_dtypes\u001b[49m\u001b[38;5;241;43m=\u001b[39;49m\u001b[43muse_nullable_dtypes\u001b[49m\u001b[43m,\u001b[49m\n\u001b[1;32m    673\u001b[0m \u001b[43m    \u001b[49m\u001b[43mdtype_backend\u001b[49m\u001b[38;5;241;43m=\u001b[39;49m\u001b[43mdtype_backend\u001b[49m\u001b[43m,\u001b[49m\n\u001b[1;32m    674\u001b[0m \u001b[43m    \u001b[49m\u001b[43mfilesystem\u001b[49m\u001b[38;5;241;43m=\u001b[39;49m\u001b[43mfilesystem\u001b[49m\u001b[43m,\u001b[49m\n\u001b[1;32m    675\u001b[0m \u001b[43m    \u001b[49m\u001b[38;5;241;43m*\u001b[39;49m\u001b[38;5;241;43m*\u001b[39;49m\u001b[43mkwargs\u001b[49m\u001b[43m,\u001b[49m\n\u001b[1;32m    676\u001b[0m \u001b[43m\u001b[49m\u001b[43m)\u001b[49m\n",
      "File \u001b[0;32m~/.rsm-msba/lib/python3.11/site-packages/pandas/io/parquet.py:267\u001b[0m, in \u001b[0;36mPyArrowImpl.read\u001b[0;34m(self, path, columns, filters, use_nullable_dtypes, dtype_backend, storage_options, filesystem, **kwargs)\u001b[0m\n\u001b[1;32m    264\u001b[0m \u001b[38;5;28;01mif\u001b[39;00m manager \u001b[38;5;241m==\u001b[39m \u001b[38;5;124m\"\u001b[39m\u001b[38;5;124marray\u001b[39m\u001b[38;5;124m\"\u001b[39m:\n\u001b[1;32m    265\u001b[0m     to_pandas_kwargs[\u001b[38;5;124m\"\u001b[39m\u001b[38;5;124msplit_blocks\u001b[39m\u001b[38;5;124m\"\u001b[39m] \u001b[38;5;241m=\u001b[39m \u001b[38;5;28;01mTrue\u001b[39;00m  \u001b[38;5;66;03m# type: ignore[assignment]\u001b[39;00m\n\u001b[0;32m--> 267\u001b[0m path_or_handle, handles, filesystem \u001b[38;5;241m=\u001b[39m \u001b[43m_get_path_or_handle\u001b[49m\u001b[43m(\u001b[49m\n\u001b[1;32m    268\u001b[0m \u001b[43m    \u001b[49m\u001b[43mpath\u001b[49m\u001b[43m,\u001b[49m\n\u001b[1;32m    269\u001b[0m \u001b[43m    \u001b[49m\u001b[43mfilesystem\u001b[49m\u001b[43m,\u001b[49m\n\u001b[1;32m    270\u001b[0m \u001b[43m    \u001b[49m\u001b[43mstorage_options\u001b[49m\u001b[38;5;241;43m=\u001b[39;49m\u001b[43mstorage_options\u001b[49m\u001b[43m,\u001b[49m\n\u001b[1;32m    271\u001b[0m \u001b[43m    \u001b[49m\u001b[43mmode\u001b[49m\u001b[38;5;241;43m=\u001b[39;49m\u001b[38;5;124;43m\"\u001b[39;49m\u001b[38;5;124;43mrb\u001b[39;49m\u001b[38;5;124;43m\"\u001b[39;49m\u001b[43m,\u001b[49m\n\u001b[1;32m    272\u001b[0m \u001b[43m\u001b[49m\u001b[43m)\u001b[49m\n\u001b[1;32m    273\u001b[0m \u001b[38;5;28;01mtry\u001b[39;00m:\n\u001b[1;32m    274\u001b[0m     pa_table \u001b[38;5;241m=\u001b[39m \u001b[38;5;28mself\u001b[39m\u001b[38;5;241m.\u001b[39mapi\u001b[38;5;241m.\u001b[39mparquet\u001b[38;5;241m.\u001b[39mread_table(\n\u001b[1;32m    275\u001b[0m         path_or_handle,\n\u001b[1;32m    276\u001b[0m         columns\u001b[38;5;241m=\u001b[39mcolumns,\n\u001b[0;32m   (...)\u001b[0m\n\u001b[1;32m    279\u001b[0m         \u001b[38;5;241m*\u001b[39m\u001b[38;5;241m*\u001b[39mkwargs,\n\u001b[1;32m    280\u001b[0m     )\n",
      "File \u001b[0;32m~/.rsm-msba/lib/python3.11/site-packages/pandas/io/parquet.py:140\u001b[0m, in \u001b[0;36m_get_path_or_handle\u001b[0;34m(path, fs, storage_options, mode, is_dir)\u001b[0m\n\u001b[1;32m    130\u001b[0m handles \u001b[38;5;241m=\u001b[39m \u001b[38;5;28;01mNone\u001b[39;00m\n\u001b[1;32m    131\u001b[0m \u001b[38;5;28;01mif\u001b[39;00m (\n\u001b[1;32m    132\u001b[0m     \u001b[38;5;129;01mnot\u001b[39;00m fs\n\u001b[1;32m    133\u001b[0m     \u001b[38;5;129;01mand\u001b[39;00m \u001b[38;5;129;01mnot\u001b[39;00m is_dir\n\u001b[0;32m   (...)\u001b[0m\n\u001b[1;32m    138\u001b[0m     \u001b[38;5;66;03m# fsspec resources can also point to directories\u001b[39;00m\n\u001b[1;32m    139\u001b[0m     \u001b[38;5;66;03m# this branch is used for example when reading from non-fsspec URLs\u001b[39;00m\n\u001b[0;32m--> 140\u001b[0m     handles \u001b[38;5;241m=\u001b[39m \u001b[43mget_handle\u001b[49m\u001b[43m(\u001b[49m\n\u001b[1;32m    141\u001b[0m \u001b[43m        \u001b[49m\u001b[43mpath_or_handle\u001b[49m\u001b[43m,\u001b[49m\u001b[43m \u001b[49m\u001b[43mmode\u001b[49m\u001b[43m,\u001b[49m\u001b[43m \u001b[49m\u001b[43mis_text\u001b[49m\u001b[38;5;241;43m=\u001b[39;49m\u001b[38;5;28;43;01mFalse\u001b[39;49;00m\u001b[43m,\u001b[49m\u001b[43m \u001b[49m\u001b[43mstorage_options\u001b[49m\u001b[38;5;241;43m=\u001b[39;49m\u001b[43mstorage_options\u001b[49m\n\u001b[1;32m    142\u001b[0m \u001b[43m    \u001b[49m\u001b[43m)\u001b[49m\n\u001b[1;32m    143\u001b[0m     fs \u001b[38;5;241m=\u001b[39m \u001b[38;5;28;01mNone\u001b[39;00m\n\u001b[1;32m    144\u001b[0m     path_or_handle \u001b[38;5;241m=\u001b[39m handles\u001b[38;5;241m.\u001b[39mhandle\n",
      "File \u001b[0;32m~/.rsm-msba/lib/python3.11/site-packages/pandas/io/common.py:882\u001b[0m, in \u001b[0;36mget_handle\u001b[0;34m(path_or_buf, mode, encoding, compression, memory_map, is_text, errors, storage_options)\u001b[0m\n\u001b[1;32m    873\u001b[0m         handle \u001b[38;5;241m=\u001b[39m \u001b[38;5;28mopen\u001b[39m(\n\u001b[1;32m    874\u001b[0m             handle,\n\u001b[1;32m    875\u001b[0m             ioargs\u001b[38;5;241m.\u001b[39mmode,\n\u001b[0;32m   (...)\u001b[0m\n\u001b[1;32m    878\u001b[0m             newline\u001b[38;5;241m=\u001b[39m\u001b[38;5;124m\"\u001b[39m\u001b[38;5;124m\"\u001b[39m,\n\u001b[1;32m    879\u001b[0m         )\n\u001b[1;32m    880\u001b[0m     \u001b[38;5;28;01melse\u001b[39;00m:\n\u001b[1;32m    881\u001b[0m         \u001b[38;5;66;03m# Binary mode\u001b[39;00m\n\u001b[0;32m--> 882\u001b[0m         handle \u001b[38;5;241m=\u001b[39m \u001b[38;5;28;43mopen\u001b[39;49m\u001b[43m(\u001b[49m\u001b[43mhandle\u001b[49m\u001b[43m,\u001b[49m\u001b[43m \u001b[49m\u001b[43mioargs\u001b[49m\u001b[38;5;241;43m.\u001b[39;49m\u001b[43mmode\u001b[49m\u001b[43m)\u001b[49m\n\u001b[1;32m    883\u001b[0m     handles\u001b[38;5;241m.\u001b[39mappend(handle)\n\u001b[1;32m    885\u001b[0m \u001b[38;5;66;03m# Convert BytesIO or file objects passed with an encoding\u001b[39;00m\n",
      "\u001b[0;31mFileNotFoundError\u001b[0m: [Errno 2] No such file or directory: 'data/tz_gaming.parquet'"
     ]
    }
   ],
   "source": [
    "# loading data tz_gaming.parquet\n",
    "tz_gaming = pd.read_parquet(\"data/tz_gaming.parquet\")\n",
    "tz_gaming.head()"
   ]
  },
  {
   "cell_type": "code",
   "execution_count": null,
   "id": "c95907dc",
   "metadata": {},
   "outputs": [
    {
     "data": {
      "text/markdown": [
       "### TZ Gaming: Optimal Targeting of Mobile Ads\n",
       "\n",
       "Each row in the `tz_gaming` dataset represents an impression. For each row (impression), we have data on 21 variables. All explanatory variables are created by Vneta based on one month tracking history of users, apps, and ads. The available variables are described in below. \n",
       "\n",
       "* _training_ -- Dummy variable that splits the dataset into a training (\"train\") and a test (\"test\") set\n",
       "* _inum_ -- Impression number\n",
       "* _click_ -- Click indicator for the TZ ad served in the impression. Equals \"yes\" if the ad was clicked and \"no\" otherwise\n",
       "* _time_ -- The hour of the day in which the impression occurred (1-24). For example, \"2\" indicates the impression occurred between 1 am and 2 am\n",
       "* _time\\_fct_ -- Same as _time_ but the is coded as categorical \n",
       "* _app_ -- The app in which the impression was shown. Ranges from 1 to 49\n",
       "* _mobile\\_os_ -- Customer's mobile OS\n",
       "* _impup_ -- Number of past impressions the user has seen in the app\n",
       "* _clup_ -- Number of past impressions the user has clicked on in the app\n",
       "* _ctrup_ -- Past CTR (Click-Through Rate) (x 100) for the user in the app\n",
       "* _impua_ -- Number of past impressions of the TZ ad that the user has seen across all apps\n",
       "* _clua_ -- Number of past impressions of the TZ ad that the user has clicked on across all apps\n",
       "* _ctrua_ -- Past CTR (x 100) of the TZ ad by the user across all apps\n",
       "* _imput_ -- Number of past impressions the user has seen within in the hour\n",
       "* _clut_ -- Number of past impressions the user has clicked on in the hour\n",
       "* _ctrut_ -- Past CTR (x 100) of the user in the hour\n",
       "* _imppat_ -- Number of past impressions that showed the TZ ad in the app in the hour\n",
       "* _clpat_ -- Number of past clicks the TZ ad has received in the app in the hour\n",
       "* _ctrpat_ -- Past CTR (x 100) of the TZ ad in the app in the hour\n",
       "* _rnd_ -- Simulated data from a normal distribution with mean 0 and a standard deviation of 1\n",
       "* _pred\\_vneta_ -- Predicted probability of click per impressions generated by Vneta's proprietary machine learning algorithm\n",
       "* id -- Anonymized user ID\n",
       "\n",
       "Note that there is a clear relationship between the impressions, clicks, and ctr variables within a strata. Specifically: \n",
       "\n",
       "* ctrup = clup/impup\n",
       "* ctru = clu/impu\n",
       "* ctrut = clut/imput\n",
       "* ctrpat = clpat/impat\n",
       "\n",
       "The last three letters of a feature indicate the sources of variation in a variable:\n",
       "\n",
       "* u — denotes user\n",
       "* t — denotes time\n",
       "* p — denotes app\n",
       "* a — denotes ad \n",
       "\n"
      ],
      "text/plain": [
       "<IPython.core.display.Markdown object>"
      ]
     },
     "metadata": {},
     "output_type": "display_data"
    }
   ],
   "source": [
    "# dataset description\n",
    "tz_gaming_description = rsm.md(\"data/tz_gaming_description.md\")"
   ]
  },
  {
   "cell_type": "markdown",
   "id": "8cb5253a",
   "metadata": {},
   "source": [
    "> Note: Review the data description carefully and watch the \"Video: TZ gaming preview (12 min)\" linked on Canvas"
   ]
  },
  {
   "cell_type": "markdown",
   "id": "ffc3eefb",
   "metadata": {},
   "source": [
    "> Note: Full case and question details are contained in the tz-gaming-msba.pdf file\n"
   ]
  },
  {
   "attachments": {},
   "cell_type": "markdown",
   "id": "af1428da",
   "metadata": {},
   "source": [
    "## Part I: Logistic regression (10 points)"
   ]
  },
  {
   "cell_type": "markdown",
   "id": "1c623da9",
   "metadata": {},
   "source": [
    "> Note: For the following questions, use only the \"training\" sample of impressions (i.e., 87,535 rows where \"training == 'train'\")."
   ]
  },
  {
   "cell_type": "code",
   "execution_count": null,
   "id": "88e95413",
   "metadata": {},
   "outputs": [
    {
     "name": "stdout",
     "output_type": "stream",
     "text": [
      "87535\n"
     ]
    },
    {
     "data": {
      "text/html": [
       "<div>\n",
       "<style scoped>\n",
       "    .dataframe tbody tr th:only-of-type {\n",
       "        vertical-align: middle;\n",
       "    }\n",
       "\n",
       "    .dataframe tbody tr th {\n",
       "        vertical-align: top;\n",
       "    }\n",
       "\n",
       "    .dataframe thead th {\n",
       "        text-align: right;\n",
       "    }\n",
       "</style>\n",
       "<table border=\"1\" class=\"dataframe\">\n",
       "  <thead>\n",
       "    <tr style=\"text-align: right;\">\n",
       "      <th></th>\n",
       "      <th>training</th>\n",
       "      <th>inum</th>\n",
       "      <th>click</th>\n",
       "      <th>time</th>\n",
       "      <th>time_fct</th>\n",
       "      <th>app</th>\n",
       "      <th>mobile_os</th>\n",
       "      <th>impup</th>\n",
       "      <th>clup</th>\n",
       "      <th>ctrup</th>\n",
       "      <th>...</th>\n",
       "      <th>ctrua</th>\n",
       "      <th>imput</th>\n",
       "      <th>clut</th>\n",
       "      <th>ctrut</th>\n",
       "      <th>imppat</th>\n",
       "      <th>clpat</th>\n",
       "      <th>ctrpat</th>\n",
       "      <th>rnd</th>\n",
       "      <th>pred_vneta</th>\n",
       "      <th>id</th>\n",
       "    </tr>\n",
       "  </thead>\n",
       "  <tbody>\n",
       "    <tr>\n",
       "      <th>0</th>\n",
       "      <td>train</td>\n",
       "      <td>I7</td>\n",
       "      <td>no</td>\n",
       "      <td>9</td>\n",
       "      <td>9</td>\n",
       "      <td>app8</td>\n",
       "      <td>ios</td>\n",
       "      <td>439</td>\n",
       "      <td>2</td>\n",
       "      <td>0.455581</td>\n",
       "      <td>...</td>\n",
       "      <td>0.000000</td>\n",
       "      <td>25</td>\n",
       "      <td>0</td>\n",
       "      <td>0.000000</td>\n",
       "      <td>71</td>\n",
       "      <td>1</td>\n",
       "      <td>1.408451</td>\n",
       "      <td>-1.207066</td>\n",
       "      <td>0.003961</td>\n",
       "      <td>id247135</td>\n",
       "    </tr>\n",
       "    <tr>\n",
       "      <th>1</th>\n",
       "      <td>train</td>\n",
       "      <td>I23</td>\n",
       "      <td>no</td>\n",
       "      <td>15</td>\n",
       "      <td>15</td>\n",
       "      <td>app1</td>\n",
       "      <td>ios</td>\n",
       "      <td>64</td>\n",
       "      <td>0</td>\n",
       "      <td>0.000000</td>\n",
       "      <td>...</td>\n",
       "      <td>0.000000</td>\n",
       "      <td>7</td>\n",
       "      <td>0</td>\n",
       "      <td>0.000000</td>\n",
       "      <td>67312</td>\n",
       "      <td>1069</td>\n",
       "      <td>1.588127</td>\n",
       "      <td>0.277429</td>\n",
       "      <td>0.003961</td>\n",
       "      <td>id245079</td>\n",
       "    </tr>\n",
       "    <tr>\n",
       "      <th>2</th>\n",
       "      <td>train</td>\n",
       "      <td>I28</td>\n",
       "      <td>no</td>\n",
       "      <td>12</td>\n",
       "      <td>12</td>\n",
       "      <td>app5</td>\n",
       "      <td>ios</td>\n",
       "      <td>80</td>\n",
       "      <td>0</td>\n",
       "      <td>0.000000</td>\n",
       "      <td>...</td>\n",
       "      <td>6.578947</td>\n",
       "      <td>94</td>\n",
       "      <td>0</td>\n",
       "      <td>0.000000</td>\n",
       "      <td>331</td>\n",
       "      <td>1</td>\n",
       "      <td>0.302115</td>\n",
       "      <td>1.084441</td>\n",
       "      <td>0.003961</td>\n",
       "      <td>id927245</td>\n",
       "    </tr>\n",
       "    <tr>\n",
       "      <th>3</th>\n",
       "      <td>train</td>\n",
       "      <td>I30</td>\n",
       "      <td>no</td>\n",
       "      <td>19</td>\n",
       "      <td>19</td>\n",
       "      <td>app1</td>\n",
       "      <td>ios</td>\n",
       "      <td>25</td>\n",
       "      <td>0</td>\n",
       "      <td>0.000000</td>\n",
       "      <td>...</td>\n",
       "      <td>0.000000</td>\n",
       "      <td>19</td>\n",
       "      <td>0</td>\n",
       "      <td>0.000000</td>\n",
       "      <td>71114</td>\n",
       "      <td>1001</td>\n",
       "      <td>1.407599</td>\n",
       "      <td>-2.345698</td>\n",
       "      <td>0.018965</td>\n",
       "      <td>id922188</td>\n",
       "    </tr>\n",
       "    <tr>\n",
       "      <th>4</th>\n",
       "      <td>train</td>\n",
       "      <td>I35</td>\n",
       "      <td>no</td>\n",
       "      <td>24</td>\n",
       "      <td>24</td>\n",
       "      <td>app1</td>\n",
       "      <td>android</td>\n",
       "      <td>3834</td>\n",
       "      <td>29</td>\n",
       "      <td>0.756390</td>\n",
       "      <td>...</td>\n",
       "      <td>0.689655</td>\n",
       "      <td>329</td>\n",
       "      <td>4</td>\n",
       "      <td>1.215805</td>\n",
       "      <td>183852</td>\n",
       "      <td>2317</td>\n",
       "      <td>1.260253</td>\n",
       "      <td>0.429125</td>\n",
       "      <td>0.003961</td>\n",
       "      <td>id355833</td>\n",
       "    </tr>\n",
       "  </tbody>\n",
       "</table>\n",
       "<p>5 rows × 22 columns</p>\n",
       "</div>"
      ],
      "text/plain": [
       "  training inum click  time time_fct   app mobile_os  impup  clup     ctrup  \\\n",
       "0    train   I7    no     9        9  app8       ios    439     2  0.455581   \n",
       "1    train  I23    no    15       15  app1       ios     64     0  0.000000   \n",
       "2    train  I28    no    12       12  app5       ios     80     0  0.000000   \n",
       "3    train  I30    no    19       19  app1       ios     25     0  0.000000   \n",
       "4    train  I35    no    24       24  app1   android   3834    29  0.756390   \n",
       "\n",
       "   ...     ctrua  imput  clut     ctrut  imppat  clpat    ctrpat       rnd  \\\n",
       "0  ...  0.000000     25     0  0.000000      71      1  1.408451 -1.207066   \n",
       "1  ...  0.000000      7     0  0.000000   67312   1069  1.588127  0.277429   \n",
       "2  ...  6.578947     94     0  0.000000     331      1  0.302115  1.084441   \n",
       "3  ...  0.000000     19     0  0.000000   71114   1001  1.407599 -2.345698   \n",
       "4  ...  0.689655    329     4  1.215805  183852   2317  1.260253  0.429125   \n",
       "\n",
       "   pred_vneta        id  \n",
       "0    0.003961  id247135  \n",
       "1    0.003961  id245079  \n",
       "2    0.003961  id927245  \n",
       "3    0.018965  id922188  \n",
       "4    0.003961  id355833  \n",
       "\n",
       "[5 rows x 22 columns]"
      ]
     },
     "execution_count": 459,
     "metadata": {},
     "output_type": "execute_result"
    }
   ],
   "source": [
    "tz_gaming_train = tz_gaming[tz_gaming['training'] == 'train'].copy()\n",
    "print(tz_gaming_train.shape[0])\n",
    "tz_gaming_train.head()"
   ]
  },
  {
   "cell_type": "markdown",
   "id": "361b6ecd",
   "metadata": {},
   "source": [
    "a. Estimate a logistic regression model using `click` as the response variable (target) and the following as explanatory variables (features). The model should predict the probability that `click` is equal to \"yes\" (2 points):\n",
    "\n",
    "`time_fct, app, mobile_os, impua, clua, ctrua`"
   ]
  },
  {
   "cell_type": "code",
   "execution_count": null,
   "id": "a09ac84c",
   "metadata": {},
   "outputs": [
    {
     "name": "stdout",
     "output_type": "stream",
     "text": [
      "Logistic regression (GLM)\n",
      "Data                 : Not provided\n",
      "Response variable    : click\n",
      "Level                : yes\n",
      "Explanatory variables: time_fct, app, mobile_os, impua, clua, ctrua\n",
      "Null hyp.: There is no effect of x on click\n",
      "Alt. hyp.: There is an effect of x on click\n",
      "\n",
      "                     OR      OR%  coefficient   std.error  z.value p.value     \n",
      "Intercept         0.029   -97.1%        -3.53       0.197  -17.936  < .001  ***\n",
      "time_fct[2]       0.622   -37.8%        -0.47       0.321   -1.478   0.139     \n",
      "time_fct[3]       0.718   -28.2%        -0.33       0.454   -0.730   0.466     \n",
      "time_fct[4]       0.000  -100.0%       -23.54   42007.161   -0.001     1.0     \n",
      "time_fct[5]       0.000  -100.0%       -23.72   55229.970   -0.000     1.0     \n",
      "time_fct[6]       0.349   -65.1%        -1.05       1.021   -1.030   0.303     \n",
      "time_fct[7]       1.221    22.1%         0.20       0.426    0.468    0.64     \n",
      "time_fct[8]       1.104    10.4%         0.10       0.296    0.335   0.737     \n",
      "time_fct[9]       1.029     2.9%         0.03       0.287    0.101    0.92     \n",
      "time_fct[10]      0.830   -17.0%        -0.19       0.295   -0.633   0.527     \n",
      "time_fct[11]      0.637   -36.3%        -0.45       0.276   -1.635   0.102     \n",
      "time_fct[12]      0.874   -12.6%        -0.14       0.280   -0.483   0.629     \n",
      "time_fct[13]      0.590   -41.0%        -0.53       0.290   -1.823   0.068    .\n",
      "time_fct[14]      1.099     9.9%         0.09       0.225    0.419   0.675     \n",
      "time_fct[15]      0.986    -1.4%        -0.01       0.225   -0.062   0.951     \n",
      "time_fct[16]      1.046     4.6%         0.05       0.233    0.195   0.846     \n",
      "time_fct[17]      1.014     1.4%         0.01       0.250    0.055   0.956     \n",
      "time_fct[18]      1.061     6.1%         0.06       0.247    0.241   0.809     \n",
      "time_fct[19]      1.284    28.4%         0.25       0.233    1.072   0.284     \n",
      "time_fct[20]      1.224    22.4%         0.20       0.231    0.873   0.382     \n",
      "time_fct[21]      0.867   -13.3%        -0.14       0.244   -0.584   0.559     \n",
      "time_fct[22]      0.970    -3.0%        -0.03       0.238   -0.127   0.899     \n",
      "time_fct[23]      1.044     4.4%         0.04       0.238    0.180   0.857     \n",
      "time_fct[24]      1.099     9.9%         0.09       0.229    0.410   0.682     \n",
      "app[app2]         0.124   -87.6%        -2.09       0.229   -9.127  < .001  ***\n",
      "app[app3]         0.184   -81.6%        -1.69       1.003   -1.689   0.091    .\n",
      "app[app4]         0.383   -61.7%        -0.96       0.321   -2.988   0.003   **\n",
      "app[app5]         0.282   -71.8%        -1.26       1.005   -1.258   0.208     \n",
      "app[app6]         0.651   -34.9%        -0.43       0.175   -2.457   0.014    *\n",
      "app[app7]         0.596   -40.4%        -0.52       1.007   -0.513   0.608     \n",
      "app[app8]         0.000  -100.0%       -24.37   71686.172   -0.000     1.0     \n",
      "app[app9]         0.748   -25.2%        -0.29       0.236   -1.227    0.22     \n",
      "app[app10]        0.000  -100.0%       -23.89   67058.977   -0.000     1.0     \n",
      "app[app11]        1.051     5.1%         0.05       0.719    0.069   0.945     \n",
      "app[app12]        0.713   -28.7%        -0.34       0.224   -1.504   0.133     \n",
      "app[app13]        2.131   113.1%         0.76       0.204    3.709  < .001  ***\n",
      "app[app14]        0.218   -78.2%        -1.53       0.451   -3.384  < .001  ***\n",
      "app[app15]        0.462   -53.8%        -0.77       0.717   -1.077   0.281     \n",
      "app[app16]        0.251   -74.9%        -1.38       0.711   -1.945   0.052    .\n",
      "app[app17]        0.882   -11.8%        -0.13       0.724   -0.174   0.862     \n",
      "app[app18]        0.075   -92.5%        -2.59       1.002   -2.586    0.01   **\n",
      "app[app19]        0.000  -100.0%       -24.37   92379.731   -0.000     1.0     \n",
      "app[app20]        0.000  -100.0%       -24.21   71551.198   -0.000     1.0     \n",
      "app[app21]        0.337   -66.3%        -1.09       0.383   -2.839   0.005   **\n",
      "app[app22]        0.321   -67.9%        -1.14       1.005   -1.130   0.258     \n",
      "app[app23]        3.111   211.1%         1.13       0.392    2.898   0.004   **\n",
      "app[app24]        1.590    59.0%         0.46       0.273    1.701   0.089    .\n",
      "app[app25]        0.975    -2.5%        -0.03       0.594   -0.042   0.966     \n",
      "app[app26]        0.000  -100.0%       -24.47   62613.516   -0.000     1.0     \n",
      "app[app27]        0.202   -79.8%        -1.60       0.711   -2.253   0.024    *\n",
      "app[app28]        0.328   -67.2%        -1.11       0.581   -1.918   0.055    .\n",
      "app[app29]        2.634   163.4%         0.97       0.345    2.805   0.005   **\n",
      "app[app30]        0.000  -100.0%       -24.39   85789.970   -0.000     1.0     \n",
      "app[app31]        0.246   -75.4%        -1.40       0.710   -1.975   0.048    *\n",
      "app[app32]        0.000  -100.0%       -23.16   46670.216   -0.000     1.0     \n",
      "app[app33]        0.513   -48.7%        -0.67       0.338   -1.974   0.048    *\n",
      "app[app34]        0.000  -100.0%       -24.22   54802.115   -0.000     1.0     \n",
      "app[app35]        0.226   -77.4%        -1.49       1.004   -1.480   0.139     \n",
      "app[app36]        0.000  -100.0%       -24.12   76747.449   -0.000     1.0     \n",
      "app[app37]        0.434   -56.6%        -0.84       0.714   -1.171   0.242     \n",
      "app[app38]        0.000  -100.0%       -23.86   53394.100   -0.000     1.0     \n",
      "app[app39]        1.741    74.1%         0.55       0.419    1.322   0.186     \n",
      "app[app40]        1.005     0.5%         0.00       0.514    0.009   0.993     \n",
      "app[app41]        0.632   -36.8%        -0.46       0.714   -0.644   0.519     \n",
      "app[app42]        2.009   100.9%         0.70       0.369    1.889   0.059    .\n",
      "app[app43]        0.000  -100.0%       -24.47   75014.775   -0.000     1.0     \n",
      "app[app44]        0.000  -100.0%       -24.24   45702.677   -0.001     1.0     \n",
      "app[app45]        1.479    47.9%         0.39       0.588    0.665   0.506     \n",
      "app[app46]        0.296   -70.4%        -1.22       1.005   -1.210   0.226     \n",
      "app[app47]        0.289   -71.1%        -1.24       1.005   -1.235   0.217     \n",
      "app[app48]        0.000  -100.0%       -24.03  101834.366   -0.000     1.0     \n",
      "app[app49]        0.241   -75.9%        -1.42       1.004   -1.418   0.156     \n",
      "mobile_os[ios]    0.450   -55.0%        -0.80       0.076  -10.440  < .001  ***\n",
      "mobile_os[other]  0.719   -28.1%        -0.33       0.183   -1.801   0.072    .\n",
      "impua             0.979    -2.1%        -0.02       0.002  -11.386  < .001  ***\n",
      "clua              1.295    29.5%         0.26       0.058    4.452  < .001  ***\n",
      "ctrua             1.022     2.2%         0.02       0.002    9.058  < .001  ***\n",
      "\n",
      "Signif. codes:  0 '***' 0.001 '**' 0.01 '*' 0.05 '.' 0.1 ' ' 1\n",
      "\n",
      "Pseudo R-squared (McFadden): 0.109\n",
      "Pseudo R-squared (McFadden adjusted): 0.092\n",
      "Area under the RO Curve (AUC): 0.792\n",
      "Log-likelihood: -3946.072, AIC: 8046.145, BIC: 8768.389\n",
      "Chi-squared: 968.279, df(76), p.value < 0.001 \n",
      "Nr obs: 87,535\n"
     ]
    }
   ],
   "source": [
    "clf = rsm.model.logistic(\n",
    "    data=tz_gaming_train,\n",
    "    rvar=\"click\",\n",
    "    lev=\"yes\",\n",
    "    evar=[\n",
    "        \"time_fct\",\n",
    "        \"app\",\n",
    "        \"mobile_os\",\n",
    "        \"impua\",\n",
    "        \"clua\",\n",
    "        \"ctrua\",\n",
    "    ],\n",
    ")\n",
    "clf.summary()"
   ]
  },
  {
   "attachments": {},
   "cell_type": "markdown",
   "id": "3767d844",
   "metadata": {
    "lines_to_next_cell": 2
   },
   "source": [
    "b. Summarize and interpret the logistic regression results. Which of these explanatory variables are statistically significant? Which variables are most important? Make sure your model evaluation includes (1) an interpretation of the Permutation importance and Prediction plots for the explanatory variables `mobile_os`, `impua`, `clua`, and `ctrua` and (2) an evaluation of the model as a whole using Pseudo R-squared and the Chi-square test (5 points)."
   ]
  },
  {
   "cell_type": "code",
   "execution_count": null,
   "id": "0cfc4b7a",
   "metadata": {},
   "outputs": [
    {
     "data": {
      "image/png": "[encoded data removed]",
      "text/plain": [
       "<Figure size 600x500 with 1 Axes>"
      ]
     },
     "metadata": {},
     "output_type": "display_data"
    }
   ],
   "source": [
    "# discuss and add code to calculate additional statistics as needed\n",
    "clf.plot(\"vimp\")"
   ]
  },
  {
   "cell_type": "code",
   "execution_count": null,
   "id": "53a17c57",
   "metadata": {},
   "outputs": [
    {
     "data": {
      "image/png": "[encoded data removed]",
      "text/plain": [
       "<Figure size 1000x1200 with 6 Axes>"
      ]
     },
     "metadata": {},
     "output_type": "display_data"
    }
   ],
   "source": [
    "clf.plot(\"pred\")"
   ]
  },
  {
   "cell_type": "code",
   "execution_count": null,
   "id": "e9f038af",
   "metadata": {},
   "outputs": [
    {
     "name": "stdout",
     "output_type": "stream",
     "text": [
      "\n",
      "Pseudo R-squared (McFadden): 0.109\n",
      "Pseudo R-squared (McFadden adjusted): 0.092\n",
      "Area under the RO Curve (AUC): 0.792\n",
      "Log-likelihood: -3946.072, AIC: 8046.145, BIC: 8768.389\n",
      "Chi-squared: 968.279, df(76), p.value < 0.001 \n",
      "Nr obs: 87,535\n"
     ]
    }
   ],
   "source": [
    "clf.summary(main=False, fit=True)"
   ]
  },
  {
   "cell_type": "markdown",
   "id": "0c5ed608",
   "metadata": {},
   "source": [
    "1. Which of these explanatory variables are statistically significant?\n",
    "\n",
    "mobile_os, impua, clua, ctrua, app2, app4, app13, app14, app18, etc.\n",
    "\n",
    "2. (1) Which variables are most important?\n",
    "\n",
    "The most influential variable is `app`, with a significant drop in performance when shuffled and is critical for predicting clicks.\n",
    "\n",
    "The second most important is `impua`, indicating that user activity at the impression level plays a key role in driving clicks. Higher impua values correspond to lower click probabilities. This may indicate diminishing returns for users exposed to frequent ads.\n",
    "\n",
    "`mobile_os` is moderately important, with iOS users being 55% less likely to click compared to Android users. Android users have the highest predicted click probability, followed by “Other” OS users, while iOS users have significantly lower probabilities. This suggests iOS users are less likely to engage with ads.\n",
    "\n",
    "`clua` and `ctrua` are less important compared to app and impua, but still play meaningful roles in predicting clicks. Higher clua values increase click probabilities, suggesting users who have higher levels of engagement with clicks are more likely to click again. As ctrua increases, click probability increases slightly, reflecting the impact of a higher click-through rate at the ad level.\n",
    "\n",
    "\n",
    "2. (2) an evaluation of the model as a whole using Pseudo R-squared and the Chi-square test\n",
    "\n",
    "•\tPseudo R-squared: 0.109, suggests the model explains ~10.9% of the variance in click probability. This is moderate and typical for logistic regression in large datasets.\n",
    "\n",
    "•\tChi-squared Test: 968.279 (p-value < 0.001) indicates the model as a whole is statistically significant. At least one variable contributes meaningfully to predicting clicks."
   ]
  },
  {
   "attachments": {},
   "cell_type": "markdown",
   "id": "83f2c3e9",
   "metadata": {
    "lines_to_next_cell": 2
   },
   "source": [
    "c. Predict the probability of a click (2 points)\n",
    "\n",
    "The estimated logistic regression model can predict the probability of `click == \"yes\"`. Create a new variable `pred_logit` with the predicted click probabilities for each impression. Make sure to generate predictions for all rows in both the training and test data."
   ]
  },
  {
   "cell_type": "code",
   "execution_count": null,
   "id": "90e62409",
   "metadata": {},
   "outputs": [
    {
     "data": {
      "text/plain": [
       "0         3.382977e-13\n",
       "1         1.156355e-02\n",
       "2         2.655311e-03\n",
       "3         1.349420e-02\n",
       "4         1.868222e-03\n",
       "              ...     \n",
       "115483    1.093091e-03\n",
       "115484    3.609483e-03\n",
       "115485    2.052670e-02\n",
       "115486    2.192207e-02\n",
       "115487    1.170346e-02\n",
       "Name: pred_logit, Length: 115488, dtype: float64"
      ]
     },
     "execution_count": 464,
     "metadata": {},
     "output_type": "execute_result"
    }
   ],
   "source": [
    "# target the dataset I want to predict\n",
    "tz_gaming[\"pred_logit\"] = clf.predict(tz_gaming)[\"prediction\"]\n",
    "tz_gaming[\"pred_logit\"]"
   ]
  },
  {
   "attachments": {},
   "cell_type": "markdown",
   "id": "2c2e222a",
   "metadata": {},
   "source": [
    "d. Estimate a logistic regression with `click` as the response variable and `rnd` as the **only** explanatory variable. As before, the model should be estimated on the training sample (i.e., \"training == 'train'\"). Create a new variable `pred_rnd` with the predicted click-through probabilities (1 point)."
   ]
  },
  {
   "cell_type": "code",
   "execution_count": null,
   "id": "d48da4cb",
   "metadata": {},
   "outputs": [
    {
     "name": "stdout",
     "output_type": "stream",
     "text": [
      "Logistic regression (GLM)\n",
      "Data                 : Not provided\n",
      "Response variable    : click\n",
      "Level                : yes\n",
      "Explanatory variables: rnd\n",
      "Null hyp.: There is no effect of x on click\n",
      "Alt. hyp.: There is an effect of x on click\n",
      "\n",
      "              OR     OR%  coefficient  std.error  z.value p.value     \n",
      "Intercept  0.009  -99.1%        -4.72      0.036 -130.657  < .001  ***\n",
      "rnd        0.965   -3.5%        -0.04      0.036   -0.986   0.324     \n",
      "\n",
      "Signif. codes:  0 '***' 0.001 '**' 0.01 '*' 0.05 '.' 0.1 ' ' 1\n",
      "\n",
      "Pseudo R-squared (McFadden): 0.0\n",
      "Pseudo R-squared (McFadden adjusted): -0.0\n",
      "Area under the RO Curve (AUC): 0.513\n",
      "Log-likelihood: -4429.726, AIC: 8863.451, BIC: 8882.211\n",
      "Chi-squared: 0.972, df(1), p.value 0.324 \n",
      "Nr obs: 87,535\n"
     ]
    }
   ],
   "source": [
    "clf_rnd = rsm.model.logistic(data=tz_gaming_train,rvar=\"click\",lev=\"yes\",evar=\"rnd\",)\n",
    "clf_rnd.summary()"
   ]
  },
  {
   "cell_type": "code",
   "execution_count": null,
   "id": "4fb3fd01",
   "metadata": {},
   "outputs": [
    {
     "data": {
      "text/plain": [
       "0    0.009222\n",
       "1    0.008751\n",
       "2    0.008505\n",
       "3    0.009600\n",
       "4    0.008704\n",
       "Name: pred_rnd, dtype: float64"
      ]
     },
     "execution_count": 466,
     "metadata": {},
     "output_type": "execute_result"
    }
   ],
   "source": [
    "tz_gaming[\"pred_rnd\"] = clf_rnd.predict(tz_gaming)[\"prediction\"]\n",
    "tz_gaming[\"pred_rnd\"].head()"
   ]
  },
  {
   "cell_type": "code",
   "execution_count": null,
   "id": "ba88ca80",
   "metadata": {},
   "outputs": [
    {
     "data": {
      "text/html": [
       "<div>\n",
       "<style scoped>\n",
       "    .dataframe tbody tr th:only-of-type {\n",
       "        vertical-align: middle;\n",
       "    }\n",
       "\n",
       "    .dataframe tbody tr th {\n",
       "        vertical-align: top;\n",
       "    }\n",
       "\n",
       "    .dataframe thead th {\n",
       "        text-align: right;\n",
       "    }\n",
       "</style>\n",
       "<table border=\"1\" class=\"dataframe\">\n",
       "  <thead>\n",
       "    <tr style=\"text-align: right;\">\n",
       "      <th></th>\n",
       "      <th>training</th>\n",
       "      <th>inum</th>\n",
       "      <th>click</th>\n",
       "      <th>time</th>\n",
       "      <th>time_fct</th>\n",
       "      <th>app</th>\n",
       "      <th>mobile_os</th>\n",
       "      <th>impup</th>\n",
       "      <th>clup</th>\n",
       "      <th>ctrup</th>\n",
       "      <th>...</th>\n",
       "      <th>clut</th>\n",
       "      <th>ctrut</th>\n",
       "      <th>imppat</th>\n",
       "      <th>clpat</th>\n",
       "      <th>ctrpat</th>\n",
       "      <th>rnd</th>\n",
       "      <th>pred_vneta</th>\n",
       "      <th>id</th>\n",
       "      <th>pred_logit</th>\n",
       "      <th>pred_rnd</th>\n",
       "    </tr>\n",
       "  </thead>\n",
       "  <tbody>\n",
       "    <tr>\n",
       "      <th>0</th>\n",
       "      <td>train</td>\n",
       "      <td>I7</td>\n",
       "      <td>no</td>\n",
       "      <td>9</td>\n",
       "      <td>9</td>\n",
       "      <td>app8</td>\n",
       "      <td>ios</td>\n",
       "      <td>439</td>\n",
       "      <td>2</td>\n",
       "      <td>0.455581</td>\n",
       "      <td>...</td>\n",
       "      <td>0</td>\n",
       "      <td>0.000000</td>\n",
       "      <td>71</td>\n",
       "      <td>1</td>\n",
       "      <td>1.408451</td>\n",
       "      <td>-1.207066</td>\n",
       "      <td>0.003961</td>\n",
       "      <td>id247135</td>\n",
       "      <td>3.382977e-13</td>\n",
       "      <td>0.009222</td>\n",
       "    </tr>\n",
       "    <tr>\n",
       "      <th>1</th>\n",
       "      <td>train</td>\n",
       "      <td>I23</td>\n",
       "      <td>no</td>\n",
       "      <td>15</td>\n",
       "      <td>15</td>\n",
       "      <td>app1</td>\n",
       "      <td>ios</td>\n",
       "      <td>64</td>\n",
       "      <td>0</td>\n",
       "      <td>0.000000</td>\n",
       "      <td>...</td>\n",
       "      <td>0</td>\n",
       "      <td>0.000000</td>\n",
       "      <td>67312</td>\n",
       "      <td>1069</td>\n",
       "      <td>1.588127</td>\n",
       "      <td>0.277429</td>\n",
       "      <td>0.003961</td>\n",
       "      <td>id245079</td>\n",
       "      <td>1.156355e-02</td>\n",
       "      <td>0.008751</td>\n",
       "    </tr>\n",
       "    <tr>\n",
       "      <th>2</th>\n",
       "      <td>train</td>\n",
       "      <td>I28</td>\n",
       "      <td>no</td>\n",
       "      <td>12</td>\n",
       "      <td>12</td>\n",
       "      <td>app5</td>\n",
       "      <td>ios</td>\n",
       "      <td>80</td>\n",
       "      <td>0</td>\n",
       "      <td>0.000000</td>\n",
       "      <td>...</td>\n",
       "      <td>0</td>\n",
       "      <td>0.000000</td>\n",
       "      <td>331</td>\n",
       "      <td>1</td>\n",
       "      <td>0.302115</td>\n",
       "      <td>1.084441</td>\n",
       "      <td>0.003961</td>\n",
       "      <td>id927245</td>\n",
       "      <td>2.655311e-03</td>\n",
       "      <td>0.008505</td>\n",
       "    </tr>\n",
       "    <tr>\n",
       "      <th>3</th>\n",
       "      <td>train</td>\n",
       "      <td>I30</td>\n",
       "      <td>no</td>\n",
       "      <td>19</td>\n",
       "      <td>19</td>\n",
       "      <td>app1</td>\n",
       "      <td>ios</td>\n",
       "      <td>25</td>\n",
       "      <td>0</td>\n",
       "      <td>0.000000</td>\n",
       "      <td>...</td>\n",
       "      <td>0</td>\n",
       "      <td>0.000000</td>\n",
       "      <td>71114</td>\n",
       "      <td>1001</td>\n",
       "      <td>1.407599</td>\n",
       "      <td>-2.345698</td>\n",
       "      <td>0.018965</td>\n",
       "      <td>id922188</td>\n",
       "      <td>1.349420e-02</td>\n",
       "      <td>0.009600</td>\n",
       "    </tr>\n",
       "    <tr>\n",
       "      <th>4</th>\n",
       "      <td>train</td>\n",
       "      <td>I35</td>\n",
       "      <td>no</td>\n",
       "      <td>24</td>\n",
       "      <td>24</td>\n",
       "      <td>app1</td>\n",
       "      <td>android</td>\n",
       "      <td>3834</td>\n",
       "      <td>29</td>\n",
       "      <td>0.756390</td>\n",
       "      <td>...</td>\n",
       "      <td>4</td>\n",
       "      <td>1.215805</td>\n",
       "      <td>183852</td>\n",
       "      <td>2317</td>\n",
       "      <td>1.260253</td>\n",
       "      <td>0.429125</td>\n",
       "      <td>0.003961</td>\n",
       "      <td>id355833</td>\n",
       "      <td>1.868222e-03</td>\n",
       "      <td>0.008704</td>\n",
       "    </tr>\n",
       "  </tbody>\n",
       "</table>\n",
       "<p>5 rows × 24 columns</p>\n",
       "</div>"
      ],
      "text/plain": [
       "  training inum click  time time_fct   app mobile_os  impup  clup     ctrup  \\\n",
       "0    train   I7    no     9        9  app8       ios    439     2  0.455581   \n",
       "1    train  I23    no    15       15  app1       ios     64     0  0.000000   \n",
       "2    train  I28    no    12       12  app5       ios     80     0  0.000000   \n",
       "3    train  I30    no    19       19  app1       ios     25     0  0.000000   \n",
       "4    train  I35    no    24       24  app1   android   3834    29  0.756390   \n",
       "\n",
       "   ...  clut     ctrut  imppat  clpat    ctrpat       rnd  pred_vneta  \\\n",
       "0  ...     0  0.000000      71      1  1.408451 -1.207066    0.003961   \n",
       "1  ...     0  0.000000   67312   1069  1.588127  0.277429    0.003961   \n",
       "2  ...     0  0.000000     331      1  0.302115  1.084441    0.003961   \n",
       "3  ...     0  0.000000   71114   1001  1.407599 -2.345698    0.018965   \n",
       "4  ...     4  1.215805  183852   2317  1.260253  0.429125    0.003961   \n",
       "\n",
       "         id    pred_logit  pred_rnd  \n",
       "0  id247135  3.382977e-13  0.009222  \n",
       "1  id245079  1.156355e-02  0.008751  \n",
       "2  id927245  2.655311e-03  0.008505  \n",
       "3  id922188  1.349420e-02  0.009600  \n",
       "4  id355833  1.868222e-03  0.008704  \n",
       "\n",
       "[5 rows x 24 columns]"
      ]
     },
     "execution_count": 467,
     "metadata": {},
     "output_type": "execute_result"
    }
   ],
   "source": [
    "tz_gaming.head()"
   ]
  },
  {
   "attachments": {},
   "cell_type": "markdown",
   "id": "b226af89",
   "metadata": {},
   "source": [
    "## Part II: Understanding Multicollinearity and Omitted Variable Bias (10 points)"
   ]
  },
  {
   "attachments": {},
   "cell_type": "markdown",
   "id": "4b48ceb8",
   "metadata": {},
   "source": [
    "a. Estimate a logistic regression model with `click` as the response variable and `imppat`, `clpat`, and `ctrpat` as the only explanatory variables. What is the interpretation of the Prediction plots for the explanatory variables? (2 points)\n",
    "\n",
    "> Note: Make sure to watch the \"Video: TZ gaming preview (12 min)\" on Canvas before answering this questions so you fully understand what the variables represent"
   ]
  },
  {
   "cell_type": "code",
   "execution_count": null,
   "id": "4a936edd",
   "metadata": {},
   "outputs": [
    {
     "name": "stdout",
     "output_type": "stream",
     "text": [
      "Logistic regression (GLM)\n",
      "Data                 : Not provided\n",
      "Response variable    : click\n",
      "Level                : yes\n",
      "Explanatory variables: imppat, clpat, ctrpat\n",
      "Null hyp.: There is no effect of x on click\n",
      "Alt. hyp.: There is an effect of x on click\n",
      "\n",
      "              OR     OR%  coefficient  std.error  z.value p.value     \n",
      "Intercept  0.004  -99.6%        -5.42      0.073  -74.156  < .001  ***\n",
      "imppat     1.000   -0.0%        -0.00      0.000   -4.802  < .001  ***\n",
      "clpat      1.002    0.2%         0.00      0.000    5.713  < .001  ***\n",
      "ctrpat     1.615   61.5%         0.48      0.034   13.933  < .001  ***\n",
      "\n",
      "Signif. codes:  0 '***' 0.001 '**' 0.01 '*' 0.05 '.' 0.1 ' ' 1\n",
      "\n",
      "Pseudo R-squared (McFadden): 0.035\n",
      "Pseudo R-squared (McFadden adjusted): 0.035\n",
      "Area under the RO Curve (AUC): 0.676\n",
      "Log-likelihood: -4273.088, AIC: 8554.176, BIC: 8591.695\n",
      "Chi-squared: 314.248, df(3), p.value < 0.001 \n",
      "Nr obs: 87,535\n"
     ]
    }
   ],
   "source": [
    "clf_mc1 = rsm.model.logistic(\n",
    "    data=tz_gaming_train,\n",
    "    rvar=\"click\",\n",
    "    lev=\"yes\",\n",
    "    evar=[\n",
    "        \"imppat\",\n",
    "        \"clpat\",\n",
    "        \"ctrpat\",\n",
    "    ],\n",
    ")\n",
    "clf_mc1.summary(main=False, fit=False, vif=True)"
   ]
  },
  {
   "cell_type": "code",
   "execution_count": null,
   "id": "aaf9227b",
   "metadata": {},
   "outputs": [],
   "source": [
    "cr = rsm.basic.correlation(\n",
    "    tz_gaming[[\"imppat\", \"clpat\", \"ctrpat\", \"click\"]]\n",
    ")\n",
    "cr.plot()"
   ]
  },
  {
   "cell_type": "code",
   "execution_count": null,
   "id": "6775de5a",
   "metadata": {},
   "outputs": [
    {
     "data": {
      "image/png": "[encoded data removed]",
      "text/plain": [
       "<Figure size 600x500 with 1 Axes>"
      ]
     },
     "metadata": {},
     "output_type": "display_data"
    }
   ],
   "source": [
    "clf_mc1.plot(\"vimp\")"
   ]
  },
  {
   "cell_type": "code",
   "execution_count": null,
   "id": "aab56bdc",
   "metadata": {},
   "outputs": [
    {
     "data": {
      "image/png": "[encoded data removed]",
      "text/plain": [
       "<Figure size 1000x800 with 3 Axes>"
      ]
     },
     "metadata": {},
     "output_type": "display_data"
    }
   ],
   "source": [
    "clf_mc1.plot(\"pred\")"
   ]
  },
  {
   "cell_type": "markdown",
   "id": "71c84b94",
   "metadata": {},
   "source": [
    "Pseudo R-squared (0.035) suggests low explanatory power, meaning these three variables alone are not strong predictors of clicks, but Chi-Square Test (p < 0.001) is statistically significant, meaning at least one variable meaningfully impacts click probability.\n",
    "\n",
    "As imppat increases, the predicted probability of a click decreases. High impression counts may lead to ad fatigue, reducing engagement.\n",
    "\n",
    "clpat increases exponentially with higher clpat. Users who frequently click ads are much more likely to continue engaging.\n",
    "\n",
    "Higher ctrpat leads to a small increase in click probability. Ads with historically high CTRs tend to maintain better engagement."
   ]
  },
  {
   "attachments": {},
   "cell_type": "markdown",
   "id": "e6598f93",
   "metadata": {},
   "source": [
    "b. Some of the variables in the dataset are highly correlated with each other. In particular, `imppat` and `clpat` have a very high positive correlation of 0.97. Discuss the implications of this (very) high level of collinearity and also different approaches to deal with it. What are the implications for the model and the interpretation of the Prediction plots? As part of your answer, discuss the change in the Prediction plot for `imppat` when you remove `clpat` from the model you estimated for II.a (4 points)."
   ]
  },
  {
   "cell_type": "code",
   "execution_count": null,
   "id": "7a95985d",
   "metadata": {},
   "outputs": [
    {
     "data": {
      "text/html": [
       "<div>\n",
       "<style scoped>\n",
       "    .dataframe tbody tr th:only-of-type {\n",
       "        vertical-align: middle;\n",
       "    }\n",
       "\n",
       "    .dataframe tbody tr th {\n",
       "        vertical-align: top;\n",
       "    }\n",
       "\n",
       "    .dataframe thead th {\n",
       "        text-align: right;\n",
       "    }\n",
       "</style>\n",
       "<table border=\"1\" class=\"dataframe\">\n",
       "  <thead>\n",
       "    <tr style=\"text-align: right;\">\n",
       "      <th></th>\n",
       "      <th>imppat</th>\n",
       "      <th>clpat</th>\n",
       "      <th>ctrpat</th>\n",
       "    </tr>\n",
       "  </thead>\n",
       "  <tbody>\n",
       "    <tr>\n",
       "      <th>imppat</th>\n",
       "      <td>1.000000</td>\n",
       "      <td>0.971579</td>\n",
       "      <td>0.344099</td>\n",
       "    </tr>\n",
       "    <tr>\n",
       "      <th>clpat</th>\n",
       "      <td>0.971579</td>\n",
       "      <td>1.000000</td>\n",
       "      <td>0.460035</td>\n",
       "    </tr>\n",
       "    <tr>\n",
       "      <th>ctrpat</th>\n",
       "      <td>0.344099</td>\n",
       "      <td>0.460035</td>\n",
       "      <td>1.000000</td>\n",
       "    </tr>\n",
       "  </tbody>\n",
       "</table>\n",
       "</div>"
      ],
      "text/plain": [
       "          imppat     clpat    ctrpat\n",
       "imppat  1.000000  0.971579  0.344099\n",
       "clpat   0.971579  1.000000  0.460035\n",
       "ctrpat  0.344099  0.460035  1.000000"
      ]
     },
     "execution_count": 471,
     "metadata": {},
     "output_type": "execute_result"
    }
   ],
   "source": [
    "tz_gaming_train[[\"imppat\", \"clpat\", \"ctrpat\"]].corr()"
   ]
  },
  {
   "cell_type": "markdown",
   "id": "7228265e",
   "metadata": {},
   "source": [
    "> Note: Assign your new model without `clpat` to a new object `clf_mc2`. Calculate VIF statistics for each explanatory variable in the model"
   ]
  },
  {
   "cell_type": "code",
   "execution_count": null,
   "id": "df8dc2cd",
   "metadata": {},
   "outputs": [
    {
     "name": "stdout",
     "output_type": "stream",
     "text": [
      "Logistic regression (GLM)\n",
      "Data                 : Not provided\n",
      "Response variable    : click\n",
      "Level                : yes\n",
      "Explanatory variables: imppat, ctrpat\n",
      "Null hyp.: There is no effect of x on click\n",
      "Alt. hyp.: There is an effect of x on click\n",
      "\n",
      "              OR     OR%  coefficient  std.error  z.value p.value     \n",
      "Intercept  0.004  -99.6%        -5.53      0.068  -80.814  < .001  ***\n",
      "imppat     1.000    0.0%         0.00      0.000    5.460  < .001  ***\n",
      "ctrpat     1.733   73.3%         0.55      0.030   18.422  < .001  ***\n",
      "\n",
      "Signif. codes:  0 '***' 0.001 '**' 0.01 '*' 0.05 '.' 0.1 ' ' 1\n",
      "\n",
      "Pseudo R-squared (McFadden): 0.031\n",
      "Pseudo R-squared (McFadden adjusted): 0.031\n",
      "Area under the RO Curve (AUC): 0.674\n",
      "Log-likelihood: -4290.903, AIC: 8587.805, BIC: 8615.945\n",
      "Chi-squared: 278.619, df(2), p.value < 0.001 \n",
      "Nr obs: 87,535\n",
      "\n",
      "Variance inflation factors:\n",
      "\n",
      "          vif    Rsq\n",
      "imppat  1.134  0.118\n",
      "ctrpat  1.134  0.118\n"
     ]
    }
   ],
   "source": [
    "clf_mc2 = rsm.model.logistic(\n",
    "    data=tz_gaming_train,\n",
    "    rvar=\"click\",\n",
    "    lev=\"yes\",\n",
    "    evar=[\n",
    "        \"imppat\",\n",
    "        \"ctrpat\",\n",
    "    ],\n",
    ")\n",
    "clf_mc2.summary(vif=True)"
   ]
  },
  {
   "cell_type": "code",
   "execution_count": null,
   "id": "f214006d",
   "metadata": {},
   "outputs": [
    {
     "data": {
      "image/png": "[encoded data removed]",
      "text/plain": [
       "<Figure size 600x500 with 1 Axes>"
      ]
     },
     "metadata": {},
     "output_type": "display_data"
    }
   ],
   "source": [
    "clf_mc2.plot(\"vimp\")"
   ]
  },
  {
   "cell_type": "code",
   "execution_count": null,
   "id": "9c43dabd",
   "metadata": {},
   "outputs": [
    {
     "data": {
      "image/png": "[encoded data removed]",
      "text/plain": [
       "<Figure size 1000x800 with 2 Axes>"
      ]
     },
     "metadata": {},
     "output_type": "display_data"
    }
   ],
   "source": [
    "clf_mc2.plot(\"pred\")"
   ]
  },
  {
   "cell_type": "markdown",
   "id": "232746c7",
   "metadata": {},
   "source": [
    "1. Discuss the implications of this (very) high level of collinearity and also different approaches to deal with it. \n",
    "\n",
    "High collinearity (0.97) between imppat and clpat makes it difficult to separate their individual effects, inflating std and leading to unreliable coefficient estimates. \n",
    "\n",
    "To address this, one approach is to remove one of the correlated variables, another is to combine them using PCA or transformations, and regularization techniques like Lasso can also be applied to reduce collinearity. Checking Variance Inflation Factor (VIF) helps assess the severity of collinearity and decide which variable to keep.\n",
    "\n",
    "2. What are the implications for the model and the interpretation of the Prediction plots?\n",
    "\n",
    "Keeping clpat prioritizes prediction accuracy over interpretability. The model relies heavily on click behavior patterns, making clpat essential for performance. imppat’s true effect may be masked, leading to potential misinterpretation of impression frequency’s impact.\n",
    "\n",
    "3. As part of your answer, discuss the change in the Prediction plot for `imppat` when you remove `clpat` from the model you estimated for II.a\n",
    "\n",
    "When clpat is included, imppat has a weak or slightly negative effect on click probability. Before removing clpat shows a declining probability of clicks as imppat increases. This happens because clpat and imppat are highly correlated (0.97), making it difficult to separate their individual contributions."
   ]
  },
  {
   "attachments": {},
   "cell_type": "markdown",
   "id": "7683d2e9",
   "metadata": {},
   "source": [
    "c. Estimate another logistic regression model with `click` as the response variable and `time_fct`, `app`, `imppat`, `clpat`, and `ctrpat` as the explanatory variable. Why are the Prediction plots for `imppat`, `clpat`, and `ctrpat` different compared to the plots from the model you estimated in II.a? Please be specific and investigate beyond simply stating the statistical problem (4 points).\n",
    "\n",
    "> Note: You may want to test if a (set of) coefficients are equal to 0 (or Odds-ratios are equal to 1)"
   ]
  },
  {
   "cell_type": "code",
   "execution_count": null,
   "id": "684ddad0",
   "metadata": {},
   "outputs": [
    {
     "name": "stdout",
     "output_type": "stream",
     "text": [
      "Logistic regression (GLM)\n",
      "Data                 : Not provided\n",
      "Response variable    : click\n",
      "Level                : yes\n",
      "Explanatory variables: time_fct, app, imppat, clpat, ctrpat\n",
      "Null hyp.: There is no effect of x on click\n",
      "Alt. hyp.: There is an effect of x on click\n",
      "\n",
      "                 OR      OR%  coefficient   std.error  z.value p.value     \n",
      "Intercept     0.012   -98.8%        -4.42       0.284  -15.575  < .001  ***\n",
      "time_fct[2]   0.588   -41.2%        -0.53       0.323   -1.644     0.1     \n",
      "time_fct[3]   0.693   -30.7%        -0.37       0.461   -0.795   0.426     \n",
      "time_fct[4]   0.000  -100.0%       -23.83   43904.903   -0.001     1.0     \n",
      "time_fct[5]   0.000  -100.0%       -23.86   57249.164   -0.000     1.0     \n",
      "time_fct[6]   0.359   -64.1%        -1.03       1.027   -0.999   0.318     \n",
      "time_fct[7]   1.220    22.0%         0.20       0.438    0.453    0.65     \n",
      "time_fct[8]   1.135    13.5%         0.13       0.309    0.411   0.681     \n",
      "time_fct[9]   1.063     6.3%         0.06       0.299    0.203   0.839     \n",
      "time_fct[10]  0.843   -15.7%        -0.17       0.303   -0.561   0.575     \n",
      "time_fct[11]  0.637   -36.3%        -0.45       0.288   -1.565   0.118     \n",
      "time_fct[12]  0.834   -16.6%        -0.18       0.292   -0.620   0.535     \n",
      "time_fct[13]  0.535   -46.5%        -0.63       0.306   -2.047   0.041    *\n",
      "time_fct[14]  0.982    -1.8%        -0.02       0.257   -0.069   0.945     \n",
      "time_fct[15]  0.840   -16.0%        -0.17       0.272   -0.639   0.523     \n",
      "time_fct[16]  0.874   -12.6%        -0.13       0.279   -0.483   0.629     \n",
      "time_fct[17]  0.864   -13.6%        -0.15       0.296   -0.493   0.622     \n",
      "time_fct[18]  0.942    -5.8%        -0.06       0.286   -0.208   0.835     \n",
      "time_fct[19]  1.178    17.8%         0.16       0.251    0.651   0.515     \n",
      "time_fct[20]  1.188    18.8%         0.17       0.247    0.698   0.485     \n",
      "time_fct[21]  0.782   -21.8%        -0.25       0.261   -0.942   0.346     \n",
      "time_fct[22]  0.933    -6.7%        -0.07       0.259   -0.267   0.789     \n",
      "time_fct[23]  0.993    -0.7%        -0.01       0.268   -0.025    0.98     \n",
      "time_fct[24]  1.134    13.4%         0.13       0.258    0.486   0.627     \n",
      "app[app2]     0.136   -86.4%        -2.00       0.351   -5.681  < .001  ***\n",
      "app[app3]     0.187   -81.3%        -1.67       1.016   -1.649   0.099    .\n",
      "app[app4]     0.487   -51.3%        -0.72       0.359   -2.004   0.045    *\n",
      "app[app5]     0.413   -58.7%        -0.88       1.011   -0.874   0.382     \n",
      "app[app6]     1.007     0.7%         0.01       0.216    0.034   0.973     \n",
      "app[app7]     0.708   -29.2%        -0.35       1.019   -0.340   0.734     \n",
      "app[app8]     0.000  -100.0%       -24.11   72717.594   -0.000     1.0     \n",
      "app[app9]     0.935    -6.5%        -0.07       0.271   -0.248   0.804     \n",
      "app[app10]    0.000  -100.0%       -24.02   75559.599   -0.000     1.0     \n",
      "app[app11]    1.365    36.5%         0.31       0.752    0.414   0.679     \n",
      "app[app12]    0.575   -42.5%        -0.55       0.274   -2.022   0.043    *\n",
      "app[app13]    2.790   179.0%         1.03       0.504    2.037   0.042    *\n",
      "app[app14]    0.246   -75.4%        -1.40       0.479   -2.927   0.003   **\n",
      "app[app15]    0.773   -22.7%        -0.26       0.723   -0.357   0.721     \n",
      "app[app16]    0.381   -61.9%        -0.96       0.733   -1.316   0.188     \n",
      "app[app17]    1.502    50.2%         0.41       0.727    0.560   0.576     \n",
      "app[app18]    0.108   -89.2%        -2.23       1.016   -2.190   0.029    *\n",
      "app[app19]    0.000  -100.0%       -24.05   93787.196   -0.000     1.0     \n",
      "app[app20]    0.000  -100.0%       -24.14   73366.877   -0.000     1.0     \n",
      "app[app21]    0.475   -52.5%        -0.74       0.416   -1.789   0.074    .\n",
      "app[app22]    0.517   -48.3%        -0.66       1.019   -0.648   0.517     \n",
      "app[app23]    3.549   254.9%         1.27       0.419    3.023   0.003   **\n",
      "app[app24]    2.411   141.1%         0.88       0.363    2.421   0.015    *\n",
      "app[app25]    1.571    57.1%         0.45       0.612    0.738    0.46     \n",
      "app[app26]    0.000  -100.0%       -24.07   63336.276   -0.000     1.0     \n",
      "app[app27]    0.292   -70.8%        -1.23       0.731   -1.683   0.092    .\n",
      "app[app28]    0.318   -68.2%        -1.14       0.603   -1.897   0.058    .\n",
      "app[app29]    2.584   158.4%         0.95       0.379    2.502   0.012    *\n",
      "app[app30]    0.000  -100.0%       -24.08   87078.077   -0.000     1.0     \n",
      "app[app31]    0.164   -83.6%        -1.81       0.735   -2.460   0.014    *\n",
      "app[app32]    0.000  -100.0%       -24.04   56046.291   -0.000     1.0     \n",
      "app[app33]    0.524   -47.6%        -0.65       0.376   -1.720   0.086    .\n",
      "app[app34]    0.000  -100.0%       -24.01   55897.140   -0.000     1.0     \n",
      "app[app35]    0.357   -64.3%        -1.03       1.019   -1.011   0.312     \n",
      "app[app36]    0.000  -100.0%       -24.00   78847.008   -0.000     1.0     \n",
      "app[app37]    0.741   -25.9%        -0.30       0.732   -0.410   0.682     \n",
      "app[app38]    0.000  -100.0%       -24.04   55273.917   -0.000     1.0     \n",
      "app[app39]    2.349   134.9%         0.85       0.449    1.904   0.057    .\n",
      "app[app40]    1.625    62.5%         0.49       0.530    0.915    0.36     \n",
      "app[app41]    0.816   -18.4%        -0.20       0.725   -0.281   0.779     \n",
      "app[app42]    2.909   190.9%         1.07       0.452    2.363   0.018    *\n",
      "app[app43]    0.000  -100.0%       -24.11   75901.133   -0.000     1.0     \n",
      "app[app44]    0.000  -100.0%       -24.05   46569.636   -0.001     1.0     \n",
      "app[app45]    1.920    92.0%         0.65       0.604    1.079   0.281     \n",
      "app[app46]    0.466   -53.4%        -0.76       1.020   -0.748   0.455     \n",
      "app[app47]    0.406   -59.4%        -0.90       1.012   -0.891   0.373     \n",
      "app[app48]    0.000  -100.0%       -24.05  106095.563   -0.000     1.0     \n",
      "app[app49]    0.259   -74.1%        -1.35       1.019   -1.324   0.185     \n",
      "imppat        1.000    -0.0%        -0.00       0.000   -1.131   0.258     \n",
      "clpat         1.001     0.1%         0.00       0.001    1.135   0.256     \n",
      "ctrpat        1.077     7.7%         0.07       0.117    0.637   0.524     \n",
      "\n",
      "Signif. codes:  0 '***' 0.001 '**' 0.01 '*' 0.05 '.' 0.1 ' ' 1\n",
      "\n",
      "Pseudo R-squared (McFadden): 0.056\n",
      "Pseudo R-squared (McFadden adjusted): 0.04\n",
      "Area under the RO Curve (AUC): 0.704\n",
      "Log-likelihood: -4180.646, AIC: 8511.292, BIC: 9214.776\n",
      "Chi-squared: 499.132, df(74), p.value < 0.001 \n",
      "Nr obs: 87,535\n"
     ]
    }
   ],
   "source": [
    "clf_mc3 = rsm.model.logistic(\n",
    "    data=tz_gaming_train,\n",
    "    rvar=\"click\",\n",
    "    lev=\"yes\",\n",
    "    evar=[\n",
    "        \"time_fct\",\n",
    "        \"app\",\n",
    "        \"imppat\",\n",
    "        \"clpat\",\n",
    "        \"ctrpat\",\n",
    "    ],\n",
    ")\n",
    "clf_mc3.summary()"
   ]
  },
  {
   "cell_type": "code",
   "execution_count": null,
   "id": "795d9922",
   "metadata": {},
   "outputs": [
    {
     "name": "stderr",
     "output_type": "stream",
     "text": [
      "/home/jovyan/.rsm-msba/lib/python3.11/site-packages/pandas/core/internals/blocks.py:393: RuntimeWarning: overflow encountered in exp\n",
      "  result = func(self.values, **kwargs)\n"
     ]
    },
    {
     "data": {
      "image/png": "[encoded data removed]",
      "text/plain": [
       "<Figure size 640x480 with 1 Axes>"
      ]
     },
     "metadata": {},
     "output_type": "display_data"
    }
   ],
   "source": [
    "clf_mc3.plot(\"or\")"
   ]
  },
  {
   "cell_type": "code",
   "execution_count": null,
   "id": "afcd4316",
   "metadata": {},
   "outputs": [
    {
     "data": {
      "image/png": "[encoded data removed]",
      "text/plain": [
       "<Figure size 1000x1000 with 5 Axes>"
      ]
     },
     "metadata": {},
     "output_type": "display_data"
    }
   ],
   "source": [
    "clf_mc3.plot(\"pred\")"
   ]
  },
  {
   "cell_type": "markdown",
   "id": "e9309581",
   "metadata": {},
   "source": [
    "1.\ttime_fct and app absorb variance, reducing the direct impact of imppat, clpat, and ctrpat.\n",
    "\n",
    "2.\tMulticollinearity weakens effects—imppat and clpat (0.97 correlation) lose independent influence.\n",
    "\n",
    "3.\tPrediction Plot Changes:\n",
    "\t•\timppat: Less negative effect.\n",
    "\t•\tclpat: Still positive but less steep.\n",
    "\t•\tctrpat: Slightly stronger effect.\n",
    "\n",
    "4.\tOdds Ratios ≈ 1 and high p-values confirm insignificance in the new model.\n",
    "\n",
    "Conclusion\n",
    "\n",
    "Adding time_fct and app is better for improving predictive power and handling collinearity. However, it reduces interpretability of imppat, clpat, and ctrpat.\n",
    "\n",
    "Recommendation:\n",
    "\n",
    "Keep time_fct and app, but consider removing insignificant categories or using regularization (Lasso) to reduce noise."
   ]
  },
  {
   "cell_type": "markdown",
   "id": "1914626a",
   "metadata": {},
   "source": [
    "## Part III: Decile Analysis of Logistic Regression Results (5 points)\n",
    "\n",
    "> Note: For the following questions, use only the \"test\" sample of impressions (i.e., 27,953 rows where \"training == 'test'\")\n"
   ]
  },
  {
   "cell_type": "code",
   "execution_count": null,
   "id": "c08d222c",
   "metadata": {},
   "outputs": [
    {
     "name": "stdout",
     "output_type": "stream",
     "text": [
      "27953\n"
     ]
    },
    {
     "data": {
      "text/html": [
       "<div>\n",
       "<style scoped>\n",
       "    .dataframe tbody tr th:only-of-type {\n",
       "        vertical-align: middle;\n",
       "    }\n",
       "\n",
       "    .dataframe tbody tr th {\n",
       "        vertical-align: top;\n",
       "    }\n",
       "\n",
       "    .dataframe thead th {\n",
       "        text-align: right;\n",
       "    }\n",
       "</style>\n",
       "<table border=\"1\" class=\"dataframe\">\n",
       "  <thead>\n",
       "    <tr style=\"text-align: right;\">\n",
       "      <th></th>\n",
       "      <th>training</th>\n",
       "      <th>inum</th>\n",
       "      <th>click</th>\n",
       "      <th>time</th>\n",
       "      <th>time_fct</th>\n",
       "      <th>app</th>\n",
       "      <th>mobile_os</th>\n",
       "      <th>impup</th>\n",
       "      <th>clup</th>\n",
       "      <th>ctrup</th>\n",
       "      <th>...</th>\n",
       "      <th>clut</th>\n",
       "      <th>ctrut</th>\n",
       "      <th>imppat</th>\n",
       "      <th>clpat</th>\n",
       "      <th>ctrpat</th>\n",
       "      <th>rnd</th>\n",
       "      <th>pred_vneta</th>\n",
       "      <th>id</th>\n",
       "      <th>pred_logit</th>\n",
       "      <th>pred_rnd</th>\n",
       "    </tr>\n",
       "  </thead>\n",
       "  <tbody>\n",
       "    <tr>\n",
       "      <th>87535</th>\n",
       "      <td>test</td>\n",
       "      <td>I300002</td>\n",
       "      <td>no</td>\n",
       "      <td>21</td>\n",
       "      <td>21</td>\n",
       "      <td>app1</td>\n",
       "      <td>android</td>\n",
       "      <td>1458</td>\n",
       "      <td>3</td>\n",
       "      <td>0.205761</td>\n",
       "      <td>...</td>\n",
       "      <td>0</td>\n",
       "      <td>0.000000</td>\n",
       "      <td>68113</td>\n",
       "      <td>957</td>\n",
       "      <td>1.405018</td>\n",
       "      <td>0.147891</td>\n",
       "      <td>0.003961</td>\n",
       "      <td>id466983</td>\n",
       "      <td>1.020981e-02</td>\n",
       "      <td>0.008791</td>\n",
       "    </tr>\n",
       "    <tr>\n",
       "      <th>87536</th>\n",
       "      <td>test</td>\n",
       "      <td>I300006</td>\n",
       "      <td>no</td>\n",
       "      <td>3</td>\n",
       "      <td>3</td>\n",
       "      <td>app40</td>\n",
       "      <td>ios</td>\n",
       "      <td>3</td>\n",
       "      <td>0</td>\n",
       "      <td>0.000000</td>\n",
       "      <td>...</td>\n",
       "      <td>0</td>\n",
       "      <td>0.000000</td>\n",
       "      <td>50</td>\n",
       "      <td>0</td>\n",
       "      <td>0.000000</td>\n",
       "      <td>0.383246</td>\n",
       "      <td>0.018965</td>\n",
       "      <td>id946375</td>\n",
       "      <td>8.665095e-03</td>\n",
       "      <td>0.008718</td>\n",
       "    </tr>\n",
       "    <tr>\n",
       "      <th>87537</th>\n",
       "      <td>test</td>\n",
       "      <td>I300012</td>\n",
       "      <td>no</td>\n",
       "      <td>5</td>\n",
       "      <td>5</td>\n",
       "      <td>app12</td>\n",
       "      <td>android</td>\n",
       "      <td>5057</td>\n",
       "      <td>6</td>\n",
       "      <td>0.118647</td>\n",
       "      <td>...</td>\n",
       "      <td>0</td>\n",
       "      <td>0.000000</td>\n",
       "      <td>754</td>\n",
       "      <td>8</td>\n",
       "      <td>1.061008</td>\n",
       "      <td>1.274485</td>\n",
       "      <td>0.003961</td>\n",
       "      <td>id479295</td>\n",
       "      <td>1.910723e-14</td>\n",
       "      <td>0.008448</td>\n",
       "    </tr>\n",
       "    <tr>\n",
       "      <th>87538</th>\n",
       "      <td>test</td>\n",
       "      <td>I300015</td>\n",
       "      <td>no</td>\n",
       "      <td>10</td>\n",
       "      <td>10</td>\n",
       "      <td>app1</td>\n",
       "      <td>android</td>\n",
       "      <td>1993</td>\n",
       "      <td>10</td>\n",
       "      <td>0.501756</td>\n",
       "      <td>...</td>\n",
       "      <td>0</td>\n",
       "      <td>0.000000</td>\n",
       "      <td>26537</td>\n",
       "      <td>276</td>\n",
       "      <td>1.040057</td>\n",
       "      <td>0.673022</td>\n",
       "      <td>0.003961</td>\n",
       "      <td>id83284</td>\n",
       "      <td>6.240407e-03</td>\n",
       "      <td>0.008630</td>\n",
       "    </tr>\n",
       "    <tr>\n",
       "      <th>87539</th>\n",
       "      <td>test</td>\n",
       "      <td>I300016</td>\n",
       "      <td>no</td>\n",
       "      <td>14</td>\n",
       "      <td>14</td>\n",
       "      <td>app1</td>\n",
       "      <td>ios</td>\n",
       "      <td>212</td>\n",
       "      <td>7</td>\n",
       "      <td>3.301887</td>\n",
       "      <td>...</td>\n",
       "      <td>1</td>\n",
       "      <td>5.263158</td>\n",
       "      <td>57348</td>\n",
       "      <td>874</td>\n",
       "      <td>1.524029</td>\n",
       "      <td>-0.785851</td>\n",
       "      <td>0.050679</td>\n",
       "      <td>id359434</td>\n",
       "      <td>1.233449e-02</td>\n",
       "      <td>0.009086</td>\n",
       "    </tr>\n",
       "  </tbody>\n",
       "</table>\n",
       "<p>5 rows × 24 columns</p>\n",
       "</div>"
      ],
      "text/plain": [
       "      training     inum click  time time_fct    app mobile_os  impup  clup  \\\n",
       "87535     test  I300002    no    21       21   app1   android   1458     3   \n",
       "87536     test  I300006    no     3        3  app40       ios      3     0   \n",
       "87537     test  I300012    no     5        5  app12   android   5057     6   \n",
       "87538     test  I300015    no    10       10   app1   android   1993    10   \n",
       "87539     test  I300016    no    14       14   app1       ios    212     7   \n",
       "\n",
       "          ctrup  ...  clut     ctrut  imppat  clpat    ctrpat       rnd  \\\n",
       "87535  0.205761  ...     0  0.000000   68113    957  1.405018  0.147891   \n",
       "87536  0.000000  ...     0  0.000000      50      0  0.000000  0.383246   \n",
       "87537  0.118647  ...     0  0.000000     754      8  1.061008  1.274485   \n",
       "87538  0.501756  ...     0  0.000000   26537    276  1.040057  0.673022   \n",
       "87539  3.301887  ...     1  5.263158   57348    874  1.524029 -0.785851   \n",
       "\n",
       "       pred_vneta        id    pred_logit  pred_rnd  \n",
       "87535    0.003961  id466983  1.020981e-02  0.008791  \n",
       "87536    0.018965  id946375  8.665095e-03  0.008718  \n",
       "87537    0.003961  id479295  1.910723e-14  0.008448  \n",
       "87538    0.003961   id83284  6.240407e-03  0.008630  \n",
       "87539    0.050679  id359434  1.233449e-02  0.009086  \n",
       "\n",
       "[5 rows x 24 columns]"
      ]
     },
     "execution_count": 478,
     "metadata": {},
     "output_type": "execute_result"
    }
   ],
   "source": [
    "tz_gaming_test = tz_gaming[tz_gaming['training'] == 'test'].copy()\n",
    "print(tz_gaming_test.shape[0])\n",
    "tz_gaming_test.head()"
   ]
  },
  {
   "attachments": {},
   "cell_type": "markdown",
   "id": "967c4929",
   "metadata": {},
   "source": [
    "a. Assign each impression to a decile based on the predicted probability of a click (`pred_logit`) based on the model estimated in I.a. Create a new variable `pred_logit_dec` that captures this information. Note: The first decile should have the highest average click rate. If not, make sure to \"reverse\" the decile numbers (i.e., 10 becomes 1, 9 becomes 2, etc.). Use the `xtile` function from the `pyrsm` package to create the deciles (2 points)"
   ]
  },
  {
   "cell_type": "code",
   "execution_count": null,
   "id": "a6c54059",
   "metadata": {},
   "outputs": [
    {
     "data": {
      "text/html": [
       "<div>\n",
       "<style scoped>\n",
       "    .dataframe tbody tr th:only-of-type {\n",
       "        vertical-align: middle;\n",
       "    }\n",
       "\n",
       "    .dataframe tbody tr th {\n",
       "        vertical-align: top;\n",
       "    }\n",
       "\n",
       "    .dataframe thead th {\n",
       "        text-align: right;\n",
       "    }\n",
       "</style>\n",
       "<table border=\"1\" class=\"dataframe\">\n",
       "  <thead>\n",
       "    <tr style=\"text-align: right;\">\n",
       "      <th></th>\n",
       "      <th>pred_logit</th>\n",
       "      <th>click_numeric</th>\n",
       "    </tr>\n",
       "    <tr>\n",
       "      <th>pred_logit_dec</th>\n",
       "      <th></th>\n",
       "      <th></th>\n",
       "    </tr>\n",
       "  </thead>\n",
       "  <tbody>\n",
       "    <tr>\n",
       "      <th>1</th>\n",
       "      <td>0.034302</td>\n",
       "      <td>0.037345</td>\n",
       "    </tr>\n",
       "    <tr>\n",
       "      <th>2</th>\n",
       "      <td>0.017118</td>\n",
       "      <td>0.015071</td>\n",
       "    </tr>\n",
       "    <tr>\n",
       "      <th>3</th>\n",
       "      <td>0.011947</td>\n",
       "      <td>0.012802</td>\n",
       "    </tr>\n",
       "    <tr>\n",
       "      <th>4</th>\n",
       "      <td>0.008998</td>\n",
       "      <td>0.008833</td>\n",
       "    </tr>\n",
       "    <tr>\n",
       "      <th>5</th>\n",
       "      <td>0.006607</td>\n",
       "      <td>0.005716</td>\n",
       "    </tr>\n",
       "    <tr>\n",
       "      <th>6</th>\n",
       "      <td>0.004402</td>\n",
       "      <td>0.004242</td>\n",
       "    </tr>\n",
       "    <tr>\n",
       "      <th>7</th>\n",
       "      <td>0.002679</td>\n",
       "      <td>0.002858</td>\n",
       "    </tr>\n",
       "    <tr>\n",
       "      <th>8</th>\n",
       "      <td>0.001471</td>\n",
       "      <td>0.001126</td>\n",
       "    </tr>\n",
       "    <tr>\n",
       "      <th>9</th>\n",
       "      <td>0.000699</td>\n",
       "      <td>0.001212</td>\n",
       "    </tr>\n",
       "    <tr>\n",
       "      <th>10</th>\n",
       "      <td>0.000092</td>\n",
       "      <td>0.001299</td>\n",
       "    </tr>\n",
       "  </tbody>\n",
       "</table>\n",
       "</div>"
      ],
      "text/plain": [
       "                pred_logit  click_numeric\n",
       "pred_logit_dec                           \n",
       "1                 0.034302       0.037345\n",
       "2                 0.017118       0.015071\n",
       "3                 0.011947       0.012802\n",
       "4                 0.008998       0.008833\n",
       "5                 0.006607       0.005716\n",
       "6                 0.004402       0.004242\n",
       "7                 0.002679       0.002858\n",
       "8                 0.001471       0.001126\n",
       "9                 0.000699       0.001212\n",
       "10                0.000092       0.001299"
      ]
     },
     "execution_count": 479,
     "metadata": {},
     "output_type": "execute_result"
    }
   ],
   "source": [
    "# Ensure pred_logit column is in tz_gaming_test and fill missing values with 0\n",
    "tz_gaming[\"pred_logit\"] = tz_gaming[\"pred_logit\"].fillna(0)\n",
    "\n",
    "# Use the `xtile` function from the `pyrsm` package to create the deciles\n",
    "tz_gaming[\"pred_logit_dec\"] = rsm.xtile(tz_gaming[\"pred_logit\"], 10)\n",
    "\n",
    "# Step 3: Explicitly map 'click' column to numeric values\n",
    "tz_gaming[\"click_numeric\"] = tz_gaming[\"click\"].map({\"no\": 0, \"yes\": 1}).astype(float)\n",
    "\n",
    "# Reverse decile numbers if Decile 1 does not have the highest click rate\n",
    "if tz_gaming.groupby(\"pred_logit_dec\")[\"click_numeric\"].mean().idxmax() != 1:  # Check if Decile 1 has the highest click rate\n",
    "    tz_gaming[\"pred_logit_dec\"] = 11 - tz_gaming[\"pred_logit_dec\"]\n",
    "\n",
    "# Validate the decile assignment\n",
    "tz_gaming.groupby(\"pred_logit_dec\")[[\"pred_logit\", \"click_numeric\"]].mean()"
   ]
  },
  {
   "cell_type": "code",
   "execution_count": null,
   "id": "f370ad41",
   "metadata": {},
   "outputs": [
    {
     "data": {
      "text/html": [
       "<div>\n",
       "<style scoped>\n",
       "    .dataframe tbody tr th:only-of-type {\n",
       "        vertical-align: middle;\n",
       "    }\n",
       "\n",
       "    .dataframe tbody tr th {\n",
       "        vertical-align: top;\n",
       "    }\n",
       "\n",
       "    .dataframe thead th {\n",
       "        text-align: right;\n",
       "    }\n",
       "</style>\n",
       "<table border=\"1\" class=\"dataframe\">\n",
       "  <thead>\n",
       "    <tr style=\"text-align: right;\">\n",
       "      <th></th>\n",
       "      <th>training</th>\n",
       "      <th>inum</th>\n",
       "      <th>click</th>\n",
       "      <th>time</th>\n",
       "      <th>time_fct</th>\n",
       "      <th>app</th>\n",
       "      <th>mobile_os</th>\n",
       "      <th>impup</th>\n",
       "      <th>clup</th>\n",
       "      <th>ctrup</th>\n",
       "      <th>...</th>\n",
       "      <th>imppat</th>\n",
       "      <th>clpat</th>\n",
       "      <th>ctrpat</th>\n",
       "      <th>rnd</th>\n",
       "      <th>pred_vneta</th>\n",
       "      <th>id</th>\n",
       "      <th>pred_logit</th>\n",
       "      <th>pred_rnd</th>\n",
       "      <th>pred_logit_dec</th>\n",
       "      <th>click_numeric</th>\n",
       "    </tr>\n",
       "  </thead>\n",
       "  <tbody>\n",
       "    <tr>\n",
       "      <th>0</th>\n",
       "      <td>train</td>\n",
       "      <td>I7</td>\n",
       "      <td>no</td>\n",
       "      <td>9</td>\n",
       "      <td>9</td>\n",
       "      <td>app8</td>\n",
       "      <td>ios</td>\n",
       "      <td>439</td>\n",
       "      <td>2</td>\n",
       "      <td>0.455581</td>\n",
       "      <td>...</td>\n",
       "      <td>71</td>\n",
       "      <td>1</td>\n",
       "      <td>1.408451</td>\n",
       "      <td>-1.207066</td>\n",
       "      <td>0.003961</td>\n",
       "      <td>id247135</td>\n",
       "      <td>3.382977e-13</td>\n",
       "      <td>0.009222</td>\n",
       "      <td>10</td>\n",
       "      <td>0.0</td>\n",
       "    </tr>\n",
       "    <tr>\n",
       "      <th>1</th>\n",
       "      <td>train</td>\n",
       "      <td>I23</td>\n",
       "      <td>no</td>\n",
       "      <td>15</td>\n",
       "      <td>15</td>\n",
       "      <td>app1</td>\n",
       "      <td>ios</td>\n",
       "      <td>64</td>\n",
       "      <td>0</td>\n",
       "      <td>0.000000</td>\n",
       "      <td>...</td>\n",
       "      <td>67312</td>\n",
       "      <td>1069</td>\n",
       "      <td>1.588127</td>\n",
       "      <td>0.277429</td>\n",
       "      <td>0.003961</td>\n",
       "      <td>id245079</td>\n",
       "      <td>1.156355e-02</td>\n",
       "      <td>0.008751</td>\n",
       "      <td>3</td>\n",
       "      <td>0.0</td>\n",
       "    </tr>\n",
       "    <tr>\n",
       "      <th>2</th>\n",
       "      <td>train</td>\n",
       "      <td>I28</td>\n",
       "      <td>no</td>\n",
       "      <td>12</td>\n",
       "      <td>12</td>\n",
       "      <td>app5</td>\n",
       "      <td>ios</td>\n",
       "      <td>80</td>\n",
       "      <td>0</td>\n",
       "      <td>0.000000</td>\n",
       "      <td>...</td>\n",
       "      <td>331</td>\n",
       "      <td>1</td>\n",
       "      <td>0.302115</td>\n",
       "      <td>1.084441</td>\n",
       "      <td>0.003961</td>\n",
       "      <td>id927245</td>\n",
       "      <td>2.655311e-03</td>\n",
       "      <td>0.008505</td>\n",
       "      <td>7</td>\n",
       "      <td>0.0</td>\n",
       "    </tr>\n",
       "    <tr>\n",
       "      <th>3</th>\n",
       "      <td>train</td>\n",
       "      <td>I30</td>\n",
       "      <td>no</td>\n",
       "      <td>19</td>\n",
       "      <td>19</td>\n",
       "      <td>app1</td>\n",
       "      <td>ios</td>\n",
       "      <td>25</td>\n",
       "      <td>0</td>\n",
       "      <td>0.000000</td>\n",
       "      <td>...</td>\n",
       "      <td>71114</td>\n",
       "      <td>1001</td>\n",
       "      <td>1.407599</td>\n",
       "      <td>-2.345698</td>\n",
       "      <td>0.018965</td>\n",
       "      <td>id922188</td>\n",
       "      <td>1.349420e-02</td>\n",
       "      <td>0.009600</td>\n",
       "      <td>3</td>\n",
       "      <td>0.0</td>\n",
       "    </tr>\n",
       "    <tr>\n",
       "      <th>4</th>\n",
       "      <td>train</td>\n",
       "      <td>I35</td>\n",
       "      <td>no</td>\n",
       "      <td>24</td>\n",
       "      <td>24</td>\n",
       "      <td>app1</td>\n",
       "      <td>android</td>\n",
       "      <td>3834</td>\n",
       "      <td>29</td>\n",
       "      <td>0.756390</td>\n",
       "      <td>...</td>\n",
       "      <td>183852</td>\n",
       "      <td>2317</td>\n",
       "      <td>1.260253</td>\n",
       "      <td>0.429125</td>\n",
       "      <td>0.003961</td>\n",
       "      <td>id355833</td>\n",
       "      <td>1.868222e-03</td>\n",
       "      <td>0.008704</td>\n",
       "      <td>8</td>\n",
       "      <td>0.0</td>\n",
       "    </tr>\n",
       "  </tbody>\n",
       "</table>\n",
       "<p>5 rows × 26 columns</p>\n",
       "</div>"
      ],
      "text/plain": [
       "  training inum click  time time_fct   app mobile_os  impup  clup     ctrup  \\\n",
       "0    train   I7    no     9        9  app8       ios    439     2  0.455581   \n",
       "1    train  I23    no    15       15  app1       ios     64     0  0.000000   \n",
       "2    train  I28    no    12       12  app5       ios     80     0  0.000000   \n",
       "3    train  I30    no    19       19  app1       ios     25     0  0.000000   \n",
       "4    train  I35    no    24       24  app1   android   3834    29  0.756390   \n",
       "\n",
       "   ...  imppat  clpat    ctrpat       rnd  pred_vneta        id    pred_logit  \\\n",
       "0  ...      71      1  1.408451 -1.207066    0.003961  id247135  3.382977e-13   \n",
       "1  ...   67312   1069  1.588127  0.277429    0.003961  id245079  1.156355e-02   \n",
       "2  ...     331      1  0.302115  1.084441    0.003961  id927245  2.655311e-03   \n",
       "3  ...   71114   1001  1.407599 -2.345698    0.018965  id922188  1.349420e-02   \n",
       "4  ...  183852   2317  1.260253  0.429125    0.003961  id355833  1.868222e-03   \n",
       "\n",
       "   pred_rnd  pred_logit_dec  click_numeric  \n",
       "0  0.009222              10            0.0  \n",
       "1  0.008751               3            0.0  \n",
       "2  0.008505               7            0.0  \n",
       "3  0.009600               3            0.0  \n",
       "4  0.008704               8            0.0  \n",
       "\n",
       "[5 rows x 26 columns]"
      ]
     },
     "execution_count": 480,
     "metadata": {},
     "output_type": "execute_result"
    }
   ],
   "source": [
    "tz_gaming.head()"
   ]
  },
  {
   "attachments": {},
   "cell_type": "markdown",
   "id": "5891e241",
   "metadata": {},
   "source": [
    "b. Report the number of impressions (rows), the number of clicks (`click`), and the click through rate (`ctr`) (i.e., sum of clicks divided by number of impressions) for the TZ ad per decile and save this information to a new dataframe called `dec_tab` (2 points)"
   ]
  },
  {
   "cell_type": "code",
   "execution_count": null,
   "id": "9bee1054",
   "metadata": {},
   "outputs": [
    {
     "data": {
      "text/html": [
       "<div>\n",
       "<style scoped>\n",
       "    .dataframe tbody tr th:only-of-type {\n",
       "        vertical-align: middle;\n",
       "    }\n",
       "\n",
       "    .dataframe tbody tr th {\n",
       "        vertical-align: top;\n",
       "    }\n",
       "\n",
       "    .dataframe thead th {\n",
       "        text-align: right;\n",
       "    }\n",
       "</style>\n",
       "<table border=\"1\" class=\"dataframe\">\n",
       "  <thead>\n",
       "    <tr style=\"text-align: right;\">\n",
       "      <th></th>\n",
       "      <th>pred_logit_dec</th>\n",
       "      <th>nr_impressions</th>\n",
       "      <th>nr_clicks</th>\n",
       "      <th>ctr</th>\n",
       "    </tr>\n",
       "  </thead>\n",
       "  <tbody>\n",
       "    <tr>\n",
       "      <th>0</th>\n",
       "      <td>1</td>\n",
       "      <td>11541</td>\n",
       "      <td>431.0</td>\n",
       "      <td>0.037345</td>\n",
       "    </tr>\n",
       "    <tr>\n",
       "      <th>1</th>\n",
       "      <td>2</td>\n",
       "      <td>11545</td>\n",
       "      <td>174.0</td>\n",
       "      <td>0.015071</td>\n",
       "    </tr>\n",
       "    <tr>\n",
       "      <th>2</th>\n",
       "      <td>3</td>\n",
       "      <td>11561</td>\n",
       "      <td>148.0</td>\n",
       "      <td>0.012802</td>\n",
       "    </tr>\n",
       "    <tr>\n",
       "      <th>3</th>\n",
       "      <td>4</td>\n",
       "      <td>11548</td>\n",
       "      <td>102.0</td>\n",
       "      <td>0.008833</td>\n",
       "    </tr>\n",
       "    <tr>\n",
       "      <th>4</th>\n",
       "      <td>5</td>\n",
       "      <td>11547</td>\n",
       "      <td>66.0</td>\n",
       "      <td>0.005716</td>\n",
       "    </tr>\n",
       "    <tr>\n",
       "      <th>5</th>\n",
       "      <td>6</td>\n",
       "      <td>11551</td>\n",
       "      <td>49.0</td>\n",
       "      <td>0.004242</td>\n",
       "    </tr>\n",
       "    <tr>\n",
       "      <th>6</th>\n",
       "      <td>7</td>\n",
       "      <td>11547</td>\n",
       "      <td>33.0</td>\n",
       "      <td>0.002858</td>\n",
       "    </tr>\n",
       "    <tr>\n",
       "      <th>7</th>\n",
       "      <td>8</td>\n",
       "      <td>11549</td>\n",
       "      <td>13.0</td>\n",
       "      <td>0.001126</td>\n",
       "    </tr>\n",
       "    <tr>\n",
       "      <th>8</th>\n",
       "      <td>9</td>\n",
       "      <td>11549</td>\n",
       "      <td>14.0</td>\n",
       "      <td>0.001212</td>\n",
       "    </tr>\n",
       "    <tr>\n",
       "      <th>9</th>\n",
       "      <td>10</td>\n",
       "      <td>11550</td>\n",
       "      <td>15.0</td>\n",
       "      <td>0.001299</td>\n",
       "    </tr>\n",
       "  </tbody>\n",
       "</table>\n",
       "</div>"
      ],
      "text/plain": [
       "   pred_logit_dec  nr_impressions  nr_clicks       ctr\n",
       "0               1           11541      431.0  0.037345\n",
       "1               2           11545      174.0  0.015071\n",
       "2               3           11561      148.0  0.012802\n",
       "3               4           11548      102.0  0.008833\n",
       "4               5           11547       66.0  0.005716\n",
       "5               6           11551       49.0  0.004242\n",
       "6               7           11547       33.0  0.002858\n",
       "7               8           11549       13.0  0.001126\n",
       "8               9           11549       14.0  0.001212\n",
       "9              10           11550       15.0  0.001299"
      ]
     },
     "execution_count": 481,
     "metadata": {},
     "output_type": "execute_result"
    }
   ],
   "source": [
    "# your data frame should have columns called 'nr_impressions', 'nr_clicks', and 'ctr'\n",
    "# to calculate these values you need deciles, the number of rows (impressions)\n",
    "# in each decile, the number of clicks in each decile using the `click` variable,\n",
    "# and the ratio of clicks to impressions (ctr)\n",
    "# Group data by deciles and calculate the required metrics\n",
    "dec_tab = tz_gaming.groupby(\"pred_logit_dec\").agg(\n",
    "    nr_impressions=(\"click_numeric\", \"count\"),  # Total number of rows in each decile\n",
    "    nr_clicks=(\"click_numeric\", \"sum\"),        # Sum of clicks (1 = click, 0 = no click)\n",
    ")\n",
    "\n",
    "# Calculate click-through rate (CTR)\n",
    "dec_tab[\"ctr\"] = dec_tab[\"nr_clicks\"] / dec_tab[\"nr_impressions\"]\n",
    "\n",
    "# Reset index for better readability\n",
    "dec_tab = dec_tab.reset_index()\n",
    "\n",
    "dec_tab"
   ]
  },
  {
   "attachments": {},
   "cell_type": "markdown",
   "id": "395633c9",
   "metadata": {},
   "source": [
    "c. Create a bar chart of click-through rates per decile (i.e., use `pred_logit_dec` as the x-variable and `ctr` as the y-variable). Note that the \"click-through rate\" is not the same as the \"predicted probability of click.\" The click-through rate captures the proportion of impressions in a given group (e.g., in a decile) that actually resulted in a click (1 point)"
   ]
  },
  {
   "cell_type": "code",
   "execution_count": null,
   "id": "3373269e",
   "metadata": {},
   "outputs": [
    {
     "data": {
      "image/png": "[encoded data removed]",
      "text/plain": [
       "<Figure size 640x480 with 1 Axes>"
      ]
     },
     "metadata": {},
     "output_type": "display_data"
    }
   ],
   "source": [
    "fig = sns.barplot(x=\"pred_logit_dec\", y=\"ctr\", data=dec_tab)"
   ]
  },
  {
   "cell_type": "markdown",
   "id": "e7d58aeb",
   "metadata": {},
   "source": [
    "## Part IV: Gains Curves (15 points)"
   ]
  },
  {
   "attachments": {},
   "cell_type": "markdown",
   "id": "dcbadd21",
   "metadata": {},
   "source": [
    "Use the `dec_tab` DataFrame you created in Part III for the following calculations.\n",
    "\n",
    "a. Write python code to generate a table with the cumulative proportion of impressions and the cumulative gains for each decile (8 points)\n",
    "\n",
    "> Note: Do NOT use any specialized python packages to construct the gains table. Write the python code from scratch. Feel free use ChatGPT or CoPilot, but make sure that it does not use any specialized packages to construct the gains table. Be prepared to discuss the code you submit for this question in class if called upon"
   ]
  },
  {
   "cell_type": "code",
   "execution_count": null,
   "id": "01e49bcf",
   "metadata": {},
   "outputs": [
    {
     "data": {
      "text/html": [
       "<div>\n",
       "<style scoped>\n",
       "    .dataframe tbody tr th:only-of-type {\n",
       "        vertical-align: middle;\n",
       "    }\n",
       "\n",
       "    .dataframe tbody tr th {\n",
       "        vertical-align: top;\n",
       "    }\n",
       "\n",
       "    .dataframe thead th {\n",
       "        text-align: right;\n",
       "    }\n",
       "</style>\n",
       "<table border=\"1\" class=\"dataframe\">\n",
       "  <thead>\n",
       "    <tr style=\"text-align: right;\">\n",
       "      <th></th>\n",
       "      <th>pred_logit_dec</th>\n",
       "      <th>nr_impressions</th>\n",
       "      <th>nr_clicks</th>\n",
       "      <th>ctr</th>\n",
       "      <th>cum_prop_impressions</th>\n",
       "      <th>cum_gains</th>\n",
       "    </tr>\n",
       "  </thead>\n",
       "  <tbody>\n",
       "    <tr>\n",
       "      <th>0</th>\n",
       "      <td>1</td>\n",
       "      <td>11541</td>\n",
       "      <td>431.0</td>\n",
       "      <td>0.037345</td>\n",
       "      <td>0.099932</td>\n",
       "      <td>0.412440</td>\n",
       "    </tr>\n",
       "    <tr>\n",
       "      <th>1</th>\n",
       "      <td>2</td>\n",
       "      <td>11545</td>\n",
       "      <td>174.0</td>\n",
       "      <td>0.015071</td>\n",
       "      <td>0.199900</td>\n",
       "      <td>0.578947</td>\n",
       "    </tr>\n",
       "    <tr>\n",
       "      <th>2</th>\n",
       "      <td>3</td>\n",
       "      <td>11561</td>\n",
       "      <td>148.0</td>\n",
       "      <td>0.012802</td>\n",
       "      <td>0.300005</td>\n",
       "      <td>0.720574</td>\n",
       "    </tr>\n",
       "    <tr>\n",
       "      <th>3</th>\n",
       "      <td>4</td>\n",
       "      <td>11548</td>\n",
       "      <td>102.0</td>\n",
       "      <td>0.008833</td>\n",
       "      <td>0.399998</td>\n",
       "      <td>0.818182</td>\n",
       "    </tr>\n",
       "    <tr>\n",
       "      <th>4</th>\n",
       "      <td>5</td>\n",
       "      <td>11547</td>\n",
       "      <td>66.0</td>\n",
       "      <td>0.005716</td>\n",
       "      <td>0.499983</td>\n",
       "      <td>0.881340</td>\n",
       "    </tr>\n",
       "    <tr>\n",
       "      <th>5</th>\n",
       "      <td>6</td>\n",
       "      <td>11551</td>\n",
       "      <td>49.0</td>\n",
       "      <td>0.004242</td>\n",
       "      <td>0.600002</td>\n",
       "      <td>0.928230</td>\n",
       "    </tr>\n",
       "    <tr>\n",
       "      <th>6</th>\n",
       "      <td>7</td>\n",
       "      <td>11547</td>\n",
       "      <td>33.0</td>\n",
       "      <td>0.002858</td>\n",
       "      <td>0.699986</td>\n",
       "      <td>0.959809</td>\n",
       "    </tr>\n",
       "    <tr>\n",
       "      <th>7</th>\n",
       "      <td>8</td>\n",
       "      <td>11549</td>\n",
       "      <td>13.0</td>\n",
       "      <td>0.001126</td>\n",
       "      <td>0.799988</td>\n",
       "      <td>0.972249</td>\n",
       "    </tr>\n",
       "    <tr>\n",
       "      <th>8</th>\n",
       "      <td>9</td>\n",
       "      <td>11549</td>\n",
       "      <td>14.0</td>\n",
       "      <td>0.001212</td>\n",
       "      <td>0.899990</td>\n",
       "      <td>0.985646</td>\n",
       "    </tr>\n",
       "    <tr>\n",
       "      <th>9</th>\n",
       "      <td>10</td>\n",
       "      <td>11550</td>\n",
       "      <td>15.0</td>\n",
       "      <td>0.001299</td>\n",
       "      <td>1.000000</td>\n",
       "      <td>1.000000</td>\n",
       "    </tr>\n",
       "  </tbody>\n",
       "</table>\n",
       "</div>"
      ],
      "text/plain": [
       "   pred_logit_dec  nr_impressions  nr_clicks       ctr  cum_prop_impressions  \\\n",
       "0               1           11541      431.0  0.037345              0.099932   \n",
       "1               2           11545      174.0  0.015071              0.199900   \n",
       "2               3           11561      148.0  0.012802              0.300005   \n",
       "3               4           11548      102.0  0.008833              0.399998   \n",
       "4               5           11547       66.0  0.005716              0.499983   \n",
       "5               6           11551       49.0  0.004242              0.600002   \n",
       "6               7           11547       33.0  0.002858              0.699986   \n",
       "7               8           11549       13.0  0.001126              0.799988   \n",
       "8               9           11549       14.0  0.001212              0.899990   \n",
       "9              10           11550       15.0  0.001299              1.000000   \n",
       "\n",
       "   cum_gains  \n",
       "0   0.412440  \n",
       "1   0.578947  \n",
       "2   0.720574  \n",
       "3   0.818182  \n",
       "4   0.881340  \n",
       "5   0.928230  \n",
       "6   0.959809  \n",
       "7   0.972249  \n",
       "8   0.985646  \n",
       "9   1.000000  "
      ]
     },
     "execution_count": 483,
     "metadata": {},
     "output_type": "execute_result"
    }
   ],
   "source": [
    "dec_tab[\"cum_prop_impressions\"] = dec_tab[\"nr_impressions\"].cumsum() / dec_tab[\"nr_impressions\"].sum()\n",
    "\n",
    "dec_tab[\"cum_gains\"] = dec_tab[\"nr_clicks\"].cumsum() / dec_tab[\"nr_clicks\"].sum()\n",
    "dec_tab"
   ]
  },
  {
   "attachments": {},
   "cell_type": "markdown",
   "id": "fc77f760",
   "metadata": {},
   "source": [
    "b. Use `seaborn`, `matplotlib`, or `pandas` to create a chart showing the cumulative gains per decile along with a (diagonal) reference line to represent the \"no model\" scenario. Put cumulative gains on the Y-axis and cumulative proportion of impressions on the X-axis (7 points)\n",
    "\n",
    "> Note: Do NOT use any specialized packages to construct the gains chart. Write the python code from scratch. Feel free use ChatGPT or CoPilot, but make sure that it does not use any specialized packages to construct the gains chart. Be prepared to discuss the code you submit for this question in class if called upon"
   ]
  },
  {
   "cell_type": "code",
   "execution_count": null,
   "id": "27e97025",
   "metadata": {},
   "outputs": [
    {
     "data": {
      "image/png": "[encoded data removed]",
      "text/plain": [
       "<Figure size 800x600 with 1 Axes>"
      ]
     },
     "metadata": {},
     "output_type": "display_data"
    }
   ],
   "source": [
    "# Plot cumulative gains\n",
    "plt.figure(figsize=(8, 6))\n",
    "sns.lineplot(\n",
    "    x=dec_tab[\"cum_prop_impressions\"],\n",
    "    y=dec_tab[\"cum_gains\"],\n",
    "    marker=\"o\",\n",
    "    label=\"Model\"\n",
    ")\n",
    "\n",
    "# Plot the \"no model\" reference line\n",
    "plt.plot([0, 1], [0, 1], linestyle=\"--\", color=\"orange\", label=\"No Model (Baseline)\")\n",
    "\n",
    "# Add labels, title, and legend\n",
    "plt.xlabel(\"Cumulative Proportion of Impressions\")\n",
    "plt.ylabel(\"Cumulative Gains (Proportion of Clicks)\")\n",
    "plt.title(\"Cumulative Gains Chart\")\n",
    "plt.legend()\n",
    "\n",
    "# Show grid for better readability\n",
    "plt.grid(alpha=0.5)\n",
    "\n",
    "# Display the plot\n",
    "plt.show()"
   ]
  },
  {
   "cell_type": "code",
   "execution_count": null,
   "id": "617927e7",
   "metadata": {},
   "outputs": [],
   "source": [
    "profit_tab = pd.DataFrame({\"cum_prop\": [0] * 10, \"cum_profit\": [0] * 10})"
   ]
  },
  {
   "cell_type": "code",
   "execution_count": null,
   "id": "94aadc5b",
   "metadata": {},
   "outputs": [],
   "source": [
    "gains_tab = pd.DataFrame({\"cum_prop\": [0] * 10, \"cum_gains\": [0] * 10})"
   ]
  },
  {
   "cell_type": "markdown",
   "id": "bbeffd06",
   "metadata": {},
   "source": [
    "## Part V: Confusion matrix (10 points)"
   ]
  },
  {
   "attachments": {},
   "cell_type": "markdown",
   "id": "75aa6cc2",
   "metadata": {},
   "source": [
    "a. Create a \"confusion matrix\" based on the predictions from the logistic regression model you estimated in Part I.a (i.e., the model used to generate `pred_logit`). Again, use **only** data from the test set here (i.e., \"training == 'test'\"). Use the financial assumptions mentioned above, and repeated in section VI below, to determine an appropriate cut-off (i.e., breakeven). Calculate \"accuracy\" based on the confusion matrix you created (2 points)\n",
    "\n",
    "> Note: Do NOT use any specialized packages to construct the confusion matrix. Code the matrix from scratch.  Feel free use ChatGPT or CoPilot, but make sure that it does not use any specialized packages to construct the confusion matrix. Be prepared to discuss the code you submit for this question in class if called upon"
   ]
  },
  {
   "cell_type": "markdown",
   "id": "4250719d",
   "metadata": {},
   "source": [
    "> Note use the code format below to store the relevant values from your confusion matrix"
   ]
  },
  {
   "cell_type": "markdown",
   "id": "6ca4acd5",
   "metadata": {},
   "source": [
    "The assumptions used for the analysis are as follows:\n",
    "\n",
    "• Targeting of impressions to consumers covered by the Vneta ad-network to date has been (approximately) random\n",
    "\n",
    "• Cost per 1,000 video impressions (CPM) is $10\n",
    "\n",
    "• Conversion to sign-up as a TZ game player after clicking on an ad is 5%\n",
    "\n",
    "• The expected CLV of customers that sign-up with TZ after clicking on an ad is approximately $25\n",
    "\n",
    "• The price charged for the data by Vneta is $50K\n",
    "\n",
    "• The price charged for the data science consulting services by Vneta is $150K"
   ]
  },
  {
   "cell_type": "code",
   "execution_count": null,
   "id": "8b9f6e60",
   "metadata": {},
   "outputs": [],
   "source": [
    "# Financial assumptions\n",
    "cpm = 10  # Cost per 1,000 impressions in dollars\n",
    "conversion_rate = 0.05  # Conversion rate (5% of clicks result in sign-ups)\n",
    "clv = 25  # Customer lifetime value in dollars\n",
    "\n",
    "# Calculate breakeven threshold\n",
    "threshold = cpm / 1000 / (conversion_rate * clv)\n",
    "\n",
    "# Ensure pred_logit column is in tz_gaming_test\n",
    "tz_gaming_test[\"pred_logit\"] = tz_gaming[tz_gaming[\"training\"] == \"test\"][\"pred_logit\"]\n",
    "\n",
    "# Calculate predicted clicks based on the threshold\n",
    "tz_gaming_test[\"predicted_click\"] = (tz_gaming_test[\"pred_logit\"] >= threshold).astype(int)\n",
    "\n",
    "TP = ((tz_gaming_test[\"predicted_click\"] == 1) & (tz_gaming_test[\"click\"] == \"yes\")).sum()\n",
    "FP = ((tz_gaming_test[\"predicted_click\"] == 1) & (tz_gaming_test[\"click\"] == \"no\")).sum()\n",
    "TN = ((tz_gaming_test[\"predicted_click\"] == 0) & (tz_gaming_test[\"click\"] == \"no\")).sum()\n",
    "FN = ((tz_gaming_test[\"predicted_click\"] == 0) & (tz_gaming_test[\"click\"] == \"yes\")).sum()"
   ]
  },
  {
   "cell_type": "code",
   "execution_count": null,
   "id": "17d3b6b7",
   "metadata": {},
   "outputs": [
    {
     "data": {
      "text/html": [
       "<div>\n",
       "<style scoped>\n",
       "    .dataframe tbody tr th:only-of-type {\n",
       "        vertical-align: middle;\n",
       "    }\n",
       "\n",
       "    .dataframe tbody tr th {\n",
       "        vertical-align: top;\n",
       "    }\n",
       "\n",
       "    .dataframe thead th {\n",
       "        text-align: right;\n",
       "    }\n",
       "</style>\n",
       "<table border=\"1\" class=\"dataframe\">\n",
       "  <thead>\n",
       "    <tr style=\"text-align: right;\">\n",
       "      <th></th>\n",
       "      <th>label</th>\n",
       "      <th>nr</th>\n",
       "    </tr>\n",
       "  </thead>\n",
       "  <tbody>\n",
       "    <tr>\n",
       "      <th>0</th>\n",
       "      <td>TP</td>\n",
       "      <td>221</td>\n",
       "    </tr>\n",
       "    <tr>\n",
       "      <th>1</th>\n",
       "      <td>FP</td>\n",
       "      <td>10661</td>\n",
       "    </tr>\n",
       "    <tr>\n",
       "      <th>2</th>\n",
       "      <td>TN</td>\n",
       "      <td>17021</td>\n",
       "    </tr>\n",
       "    <tr>\n",
       "      <th>3</th>\n",
       "      <td>FN</td>\n",
       "      <td>50</td>\n",
       "    </tr>\n",
       "  </tbody>\n",
       "</table>\n",
       "</div>"
      ],
      "text/plain": [
       "  label     nr\n",
       "0    TP    221\n",
       "1    FP  10661\n",
       "2    TN  17021\n",
       "3    FN     50"
      ]
     },
     "execution_count": 488,
     "metadata": {},
     "output_type": "execute_result"
    }
   ],
   "source": [
    "cm_logit = pd.DataFrame(\n",
    "    {\n",
    "        \"label\": [\"TP\", \"FP\", \"TN\", \"FN\"],\n",
    "        \"nr\": [TP, FP, TN, FN]\n",
    "    }\n",
    ")\n",
    "cm_logit"
   ]
  },
  {
   "cell_type": "code",
   "execution_count": null,
   "id": "7abdc703",
   "metadata": {},
   "outputs": [
    {
     "data": {
      "text/plain": [
       "0.6168210925482059"
      ]
     },
     "execution_count": 489,
     "metadata": {},
     "output_type": "execute_result"
    }
   ],
   "source": [
    "accuracy_logit = (TP + TN) / (TP + FP + TN + FN)\n",
    "accuracy_logit"
   ]
  },
  {
   "cell_type": "markdown",
   "id": "1c1b0e7a",
   "metadata": {},
   "source": [
    "b. Calculate a confusion matrix based on `pred_rnd` created in Part I.e and calculate \"accuracy\" based on the confusion matrix you created (2 points)"
   ]
  },
  {
   "cell_type": "markdown",
   "id": "49f0e17a",
   "metadata": {},
   "source": [
    "> Note use the code format below to store the relevant values from your confusion matrix"
   ]
  },
  {
   "cell_type": "code",
   "execution_count": null,
   "id": "c039955c",
   "metadata": {},
   "outputs": [],
   "source": [
    "# Create predicted_click_rnd column based on the threshold\n",
    "tz_gaming_test[\"predicted_click_rnd\"] = (tz_gaming_test[\"pred_rnd\"] >= threshold).astype(int)\n",
    "\n",
    "# Step 3: Calculate confusion matrix components\n",
    "TP_rnd = ((tz_gaming_test[\"predicted_click_rnd\"] == 1) & (tz_gaming_test[\"click\"] == \"yes\")).sum()\n",
    "FP_rnd = ((tz_gaming_test[\"predicted_click_rnd\"] == 1) & (tz_gaming_test[\"click\"] == \"no\")).sum()\n",
    "TN_rnd = ((tz_gaming_test[\"predicted_click_rnd\"] == 0) & (tz_gaming_test[\"click\"] == \"no\")).sum()\n",
    "FN_rnd = ((tz_gaming_test[\"predicted_click_rnd\"] == 0) & (tz_gaming_test[\"click\"] == \"yes\")).sum()"
   ]
  },
  {
   "cell_type": "code",
   "execution_count": null,
   "id": "e5e1e3d6",
   "metadata": {},
   "outputs": [
    {
     "data": {
      "text/html": [
       "<div>\n",
       "<style scoped>\n",
       "    .dataframe tbody tr th:only-of-type {\n",
       "        vertical-align: middle;\n",
       "    }\n",
       "\n",
       "    .dataframe tbody tr th {\n",
       "        vertical-align: top;\n",
       "    }\n",
       "\n",
       "    .dataframe thead th {\n",
       "        text-align: right;\n",
       "    }\n",
       "</style>\n",
       "<table border=\"1\" class=\"dataframe\">\n",
       "  <thead>\n",
       "    <tr style=\"text-align: right;\">\n",
       "      <th></th>\n",
       "      <th>label</th>\n",
       "      <th>nr</th>\n",
       "    </tr>\n",
       "  </thead>\n",
       "  <tbody>\n",
       "    <tr>\n",
       "      <th>0</th>\n",
       "      <td>TP_rnd</td>\n",
       "      <td>271</td>\n",
       "    </tr>\n",
       "    <tr>\n",
       "      <th>1</th>\n",
       "      <td>FP_rnd</td>\n",
       "      <td>27606</td>\n",
       "    </tr>\n",
       "    <tr>\n",
       "      <th>2</th>\n",
       "      <td>TN_rnd</td>\n",
       "      <td>76</td>\n",
       "    </tr>\n",
       "    <tr>\n",
       "      <th>3</th>\n",
       "      <td>FN_rnd</td>\n",
       "      <td>0</td>\n",
       "    </tr>\n",
       "  </tbody>\n",
       "</table>\n",
       "</div>"
      ],
      "text/plain": [
       "    label     nr\n",
       "0  TP_rnd    271\n",
       "1  FP_rnd  27606\n",
       "2  TN_rnd     76\n",
       "3  FN_rnd      0"
      ]
     },
     "execution_count": 491,
     "metadata": {},
     "output_type": "execute_result"
    }
   ],
   "source": [
    "cm_rnd = pd.DataFrame(\n",
    "    {\n",
    "        \"label\": [\"TP_rnd\", \"FP_rnd\", \"TN_rnd\", \"FN_rnd\"],\n",
    "        \"nr\": [TP_rnd, FP_rnd, TN_rnd, FN_rnd],\n",
    "    }\n",
    ")\n",
    "cm_rnd"
   ]
  },
  {
   "cell_type": "code",
   "execution_count": null,
   "id": "9df715c7",
   "metadata": {},
   "outputs": [
    {
     "data": {
      "text/plain": [
       "0.012413694415626229"
      ]
     },
     "execution_count": 492,
     "metadata": {},
     "output_type": "execute_result"
    }
   ],
   "source": [
    "accuracy_rnd = (TP_rnd + TN_rnd) / (TP_rnd + FP_rnd + TN_rnd + FN_rnd)\n",
    "accuracy_rnd"
   ]
  },
  {
   "cell_type": "markdown",
   "id": "70ad4b2f",
   "metadata": {},
   "source": [
    "c. Discuss the similarities and differences between the two confusion matrices. Which prediction (model) is best, based on the confusion matrix? Provide support for your conclusions (3 points)"
   ]
  },
  {
   "cell_type": "markdown",
   "id": "486905b0",
   "metadata": {},
   "source": [
    "***Similarities:***\n",
    "\n",
    "Both use the same threshold (0.008), correctly identify some true clicks (TP) and have low false negatives (FN), meaning they rarely miss actual clicks.\n",
    "\n",
    "***Differences:***\n",
    "\n",
    "1.\tFalse Positives (FP):\n",
    "\n",
    "Logistic regression is 10,661 while random model is 27,606 (much worse at distinguishing non-clicks).\n",
    "\n",
    "2.\tTrue Negatives (TN):\n",
    "\n",
    "Logistic regression is 17,021 (better at identifying no-clicks) while random model is 76 TN (almost always predicts clicks incorrectly).\n",
    "\n",
    "3.\tAccuracy:\n",
    "\n",
    "Logistic regression is 61.66% while random model is 1.24% (barely better than random guessing).\n",
    "\n",
    "***Conclusion:***\n",
    "\n",
    "Logistic regression model is the best model!\n",
    "\n",
    "Because it shows higher accuracy, lower false positive rate and better true negative identification."
   ]
  },
  {
   "cell_type": "markdown",
   "id": "706bae83",
   "metadata": {},
   "source": [
    "d. Recalculate the confusion matrices from V.a and V.b using 0.5 as the cutoff. Based on these new matrices discuss the similarities and differences. Which model is best based on these new confusion matrices? Provide support for your conclusions (3 points)"
   ]
  },
  {
   "cell_type": "markdown",
   "id": "960c4954",
   "metadata": {},
   "source": [
    "> Note use the code format below to store the relevant values from your confusion matrix"
   ]
  },
  {
   "cell_type": "code",
   "execution_count": null,
   "id": "60c49ba1",
   "metadata": {},
   "outputs": [],
   "source": [
    "# Apply 0.5 threshold for logistic regression predictions\n",
    "tz_gaming_test[\"predicted_click_recalc\"] = (tz_gaming_test[\"pred_logit\"] >= 0.5).astype(int)\n",
    "\n",
    "# Calculate confusion matrix components for `pred_logit`\n",
    "TP_recalc = ((tz_gaming_test[\"predicted_click_recalc\"] == 1) & (tz_gaming_test[\"click\"] == \"yes\")).sum()\n",
    "FP_recalc = ((tz_gaming_test[\"predicted_click_recalc\"] == 1) & (tz_gaming_test[\"click\"] == \"no\")).sum()\n",
    "TN_recalc = ((tz_gaming_test[\"predicted_click_recalc\"] == 0) & (tz_gaming_test[\"click\"] == \"no\")).sum()\n",
    "FN_recalc = ((tz_gaming_test[\"predicted_click_recalc\"] == 0) & (tz_gaming_test[\"click\"] == \"yes\")).sum()\n"
   ]
  },
  {
   "cell_type": "code",
   "execution_count": null,
   "id": "c7ea1686",
   "metadata": {},
   "outputs": [
    {
     "data": {
      "text/html": [
       "<div>\n",
       "<style scoped>\n",
       "    .dataframe tbody tr th:only-of-type {\n",
       "        vertical-align: middle;\n",
       "    }\n",
       "\n",
       "    .dataframe tbody tr th {\n",
       "        vertical-align: top;\n",
       "    }\n",
       "\n",
       "    .dataframe thead th {\n",
       "        text-align: right;\n",
       "    }\n",
       "</style>\n",
       "<table border=\"1\" class=\"dataframe\">\n",
       "  <thead>\n",
       "    <tr style=\"text-align: right;\">\n",
       "      <th></th>\n",
       "      <th>label</th>\n",
       "      <th>nr</th>\n",
       "    </tr>\n",
       "  </thead>\n",
       "  <tbody>\n",
       "    <tr>\n",
       "      <th>0</th>\n",
       "      <td>TP_recalc</td>\n",
       "      <td>0</td>\n",
       "    </tr>\n",
       "    <tr>\n",
       "      <th>1</th>\n",
       "      <td>FP_recalc</td>\n",
       "      <td>0</td>\n",
       "    </tr>\n",
       "    <tr>\n",
       "      <th>2</th>\n",
       "      <td>TN_recalc</td>\n",
       "      <td>27682</td>\n",
       "    </tr>\n",
       "    <tr>\n",
       "      <th>3</th>\n",
       "      <td>FN_recalc</td>\n",
       "      <td>271</td>\n",
       "    </tr>\n",
       "  </tbody>\n",
       "</table>\n",
       "</div>"
      ],
      "text/plain": [
       "       label     nr\n",
       "0  TP_recalc      0\n",
       "1  FP_recalc      0\n",
       "2  TN_recalc  27682\n",
       "3  FN_recalc    271"
      ]
     },
     "execution_count": 494,
     "metadata": {},
     "output_type": "execute_result"
    }
   ],
   "source": [
    "cm_logit_recalc = pd.DataFrame(\n",
    "    {\n",
    "        \"label\": [\"TP_recalc\", \"FP_recalc\", \"TN_recalc\", \"FN_recalc\"],\n",
    "        \"nr\": [TP_recalc, FP_recalc, TN_recalc, FN_recalc],\n",
    "    }\n",
    ")\n",
    "cm_logit_recalc"
   ]
  },
  {
   "cell_type": "code",
   "execution_count": null,
   "id": "11aa3918",
   "metadata": {},
   "outputs": [
    {
     "data": {
      "text/plain": [
       "0.9903051550817443"
      ]
     },
     "execution_count": 495,
     "metadata": {},
     "output_type": "execute_result"
    }
   ],
   "source": [
    "accuracy_logit_recalc = (TP_recalc + TN_recalc) / (TP_recalc + FP_recalc + TN_recalc + FN_recalc)\n",
    "accuracy_logit_recalc"
   ]
  },
  {
   "cell_type": "markdown",
   "id": "78ccc89a",
   "metadata": {},
   "source": [
    "> Note use the code format below to store the relevant values from your confusion matrix"
   ]
  },
  {
   "cell_type": "code",
   "execution_count": null,
   "id": "acfbe624",
   "metadata": {},
   "outputs": [],
   "source": [
    "# Apply 0.5 threshold for logistic regression predictions\n",
    "tz_gaming_test[\"predicted_click_rnd_recalc\"] = (tz_gaming_test[\"pred_rnd\"] >= 0.5).astype(int)\n",
    "\n",
    "# Calculate confusion matrix components for `pred_logit`\n",
    "TP_rnd_recalc = ((tz_gaming_test[\"predicted_click_rnd_recalc\"] == 1) & (tz_gaming_test[\"click\"] == \"yes\")).sum()\n",
    "FP_rnd_recalc = ((tz_gaming_test[\"predicted_click_rnd_recalc\"] == 1) & (tz_gaming_test[\"click\"] == \"no\")).sum()\n",
    "TN_rnd_recalc = ((tz_gaming_test[\"predicted_click_rnd_recalc\"] == 0) & (tz_gaming_test[\"click\"] == \"no\")).sum()\n",
    "FN_rnd_recalc = ((tz_gaming_test[\"predicted_click_rnd_recalc\"] == 0) & (tz_gaming_test[\"click\"] == \"yes\")).sum()\n"
   ]
  },
  {
   "cell_type": "code",
   "execution_count": null,
   "id": "957d2918",
   "metadata": {},
   "outputs": [
    {
     "data": {
      "text/html": [
       "<div>\n",
       "<style scoped>\n",
       "    .dataframe tbody tr th:only-of-type {\n",
       "        vertical-align: middle;\n",
       "    }\n",
       "\n",
       "    .dataframe tbody tr th {\n",
       "        vertical-align: top;\n",
       "    }\n",
       "\n",
       "    .dataframe thead th {\n",
       "        text-align: right;\n",
       "    }\n",
       "</style>\n",
       "<table border=\"1\" class=\"dataframe\">\n",
       "  <thead>\n",
       "    <tr style=\"text-align: right;\">\n",
       "      <th></th>\n",
       "      <th>label</th>\n",
       "      <th>nr</th>\n",
       "    </tr>\n",
       "  </thead>\n",
       "  <tbody>\n",
       "    <tr>\n",
       "      <th>0</th>\n",
       "      <td>TP_rnd_recalc</td>\n",
       "      <td>0</td>\n",
       "    </tr>\n",
       "    <tr>\n",
       "      <th>1</th>\n",
       "      <td>FP_rnd_recalc</td>\n",
       "      <td>0</td>\n",
       "    </tr>\n",
       "    <tr>\n",
       "      <th>2</th>\n",
       "      <td>TN_rnd_recalc</td>\n",
       "      <td>27682</td>\n",
       "    </tr>\n",
       "    <tr>\n",
       "      <th>3</th>\n",
       "      <td>FN_rnd_recalc</td>\n",
       "      <td>271</td>\n",
       "    </tr>\n",
       "  </tbody>\n",
       "</table>\n",
       "</div>"
      ],
      "text/plain": [
       "           label     nr\n",
       "0  TP_rnd_recalc      0\n",
       "1  FP_rnd_recalc      0\n",
       "2  TN_rnd_recalc  27682\n",
       "3  FN_rnd_recalc    271"
      ]
     },
     "execution_count": 497,
     "metadata": {},
     "output_type": "execute_result"
    }
   ],
   "source": [
    "cm_rnd_recalc = pd.DataFrame(\n",
    "    {\n",
    "        \"label\": [\"TP_rnd_recalc\", \"FP_rnd_recalc\", \"TN_rnd_recalc\", \"FN_rnd_recalc\"],\n",
    "        \"nr\": [TP_rnd_recalc, FP_rnd_recalc, TN_rnd_recalc, FN_rnd_recalc],\n",
    "    }\n",
    ")\n",
    "cm_rnd_recalc"
   ]
  },
  {
   "cell_type": "code",
   "execution_count": null,
   "id": "90b40cb6",
   "metadata": {},
   "outputs": [
    {
     "data": {
      "text/plain": [
       "0.9903051550817443"
      ]
     },
     "execution_count": 498,
     "metadata": {},
     "output_type": "execute_result"
    }
   ],
   "source": [
    "accuracy_rnd_recalc = (TP_rnd_recalc + TN_rnd_recalc) / (TP_rnd_recalc + FP_rnd_recalc + TN_rnd_recalc + FN_rnd_recalc)\n",
    "accuracy_rnd_recalc"
   ]
  },
  {
   "cell_type": "markdown",
   "id": "bd84db53",
   "metadata": {},
   "source": [
    "***Similarities:***\n",
    "\n",
    "Both models classify every impression as a non-click (0) due to the high threshold of 0.5.\n",
    "\n",
    "***Differences:***\n",
    "\n",
    "There are no meaningful differences between the two models in this scenario, as both confusion matrices are identical.\n",
    "\n",
    "***Conclusion:***\n",
    "\n",
    "Neither model can be considered “better” with the threshold of 0.5. No meaningful predictions are made (TP = 0, FP = 0), and accuracy relies entirely on correctly identifying non-clicks."
   ]
  },
  {
   "cell_type": "markdown",
   "id": "3a46c89b",
   "metadata": {},
   "source": [
    "## Part VI: Model comparison (12 points)\n"
   ]
  },
  {
   "cell_type": "markdown",
   "id": "23c7b960",
   "metadata": {},
   "source": [
    "Use the following cost information to assess the profitability each of these models for targeting purposes during the upcoming 20-million impression advertising campaign:\n",
    "\n",
    "* Cost per 1,000 video impressions (CPM) is $10\n",
    "* Conversion to sign-up as a TZ game player after clicking on an ad is 5%\n",
    "* The expected CLV of customers that sign-up with TZ after clicking on an ad is approximately $25\n",
    "* The total cost of the data from Vneta is $50K\n",
    "* The total cost charged for the data science consulting services by Vneta is $150K\n",
    "\n",
    "Use `pred_logit`, `pred_rnd`, and the predictions from Vneta based on their proprietary model `pred_vneta` to compare model performance.\n",
    "\n",
    "> Note: The currently available data (+ the `pred_vneta` prediction) are free of charge as part of the partnership between Vneta and TZ-gaming"
   ]
  },
  {
   "cell_type": "markdown",
   "id": "84482c7d",
   "metadata": {},
   "source": [
    "a. Create a new variable `target_logit` that is `True` if the predicted click-through (`pred_logit`) probability is greater than the break-even response rate and `FALSE` otherwise (1 point)"
   ]
  },
  {
   "cell_type": "code",
   "execution_count": null,
   "id": "e36f22b9",
   "metadata": {},
   "outputs": [],
   "source": [
    "tz_gaming[\"target_logit\"] = tz_gaming[\"pred_logit\"] >= threshold"
   ]
  },
  {
   "cell_type": "markdown",
   "id": "01009762",
   "metadata": {},
   "source": [
    "b. Create a new variable `target_rnd` that is `True` if the predicted click-through (`pred_rnd`) probability is greater than the break-even response rate and `FALSE` otherwise (1 point)"
   ]
  },
  {
   "cell_type": "code",
   "execution_count": null,
   "id": "a7db4220",
   "metadata": {},
   "outputs": [],
   "source": [
    "tz_gaming[\"target_rnd\"] =tz_gaming[\"pred_rnd\"] >= threshold"
   ]
  },
  {
   "cell_type": "markdown",
   "id": "5d37d412",
   "metadata": {},
   "source": [
    "c. Create a new variable `target_vneta` that is `True` if the predicted click-through (`pred_vneta`) probability is greater than the break-even response rate and `False` otherwise (1 point)"
   ]
  },
  {
   "cell_type": "code",
   "execution_count": null,
   "id": "17488a5b",
   "metadata": {},
   "outputs": [],
   "source": [
    "tz_gaming[\"target_vneta\"] = tz_gaming[\"pred_vneta\"] >= threshold"
   ]
  },
  {
   "cell_type": "markdown",
   "id": "7a114bda",
   "metadata": {},
   "source": [
    "d. Based on the performance in the test set (i.e, `training == 'test'`), calculate the **projected** expected profit (in dollars) and the expected return on marketing expenditures (ROME) for the upcoming campaign if TZ (1) \"spams\" everyone, (2) continues to target using their current approach (i.e., use `pred_rnd`), (3) uses the data from Vneta to build the logistic regression from section I (i.e., use `pred_logit`) for targeting, or (4) used Vneta's data science consulting services (i.e., use `pred_vneta`) to **select the best prospects out of 20M impressions**. (3 points)\n",
    "\n",
    "> Note: Calculate total profits under the assumption that options (3) and (4) are free of charge. Then compare the profit numbers to determine if these options would be worth the expense going forward."
   ]
  },
  {
   "cell_type": "code",
   "execution_count": null,
   "id": "8a3e0b10",
   "metadata": {},
   "outputs": [],
   "source": [
    "tz_gaming_test = tz_gaming[tz_gaming[\"training\"] == \"test\"].copy()"
   ]
  },
  {
   "cell_type": "code",
   "execution_count": null,
   "id": "b93d9d70",
   "metadata": {},
   "outputs": [],
   "source": [
    "# CTR\n",
    "ctr_spam = tz_gaming_test[\"click\"].eq(\"yes\").mean()\n",
    "ctr_rnd = tz_gaming_test.loc[tz_gaming_test[\"target_rnd\"], \"click\"].eq(\"yes\").mean() \n",
    "ctr_logit = tz_gaming_test.loc[tz_gaming_test[\"target_logit\"], \"click\"].eq(\"yes\").mean()\n",
    "ctr_vneta = tz_gaming_test.loc[tz_gaming_test[\"target_vneta\"], \"click\"].eq(\"yes\").mean()"
   ]
  },
  {
   "cell_type": "code",
   "execution_count": null,
   "id": "6cc4c774",
   "metadata": {},
   "outputs": [
    {
     "data": {
      "text/plain": [
       "(0.009694844918255643,\n",
       " 0.00972127560354414,\n",
       " 0.02030876677081419,\n",
       " 0.032847464586327244)"
      ]
     },
     "execution_count": 504,
     "metadata": {},
     "output_type": "execute_result"
    }
   ],
   "source": [
    "ctr_spam, ctr_rnd, ctr_logit, ctr_vneta"
   ]
  },
  {
   "cell_type": "code",
   "execution_count": null,
   "id": "3bba0a1d",
   "metadata": {},
   "outputs": [
    {
     "data": {
      "text/html": [
       "<div>\n",
       "<style scoped>\n",
       "    .dataframe tbody tr th:only-of-type {\n",
       "        vertical-align: middle;\n",
       "    }\n",
       "\n",
       "    .dataframe tbody tr th {\n",
       "        vertical-align: top;\n",
       "    }\n",
       "\n",
       "    .dataframe thead th {\n",
       "        text-align: right;\n",
       "    }\n",
       "</style>\n",
       "<table border=\"1\" class=\"dataframe\">\n",
       "  <thead>\n",
       "    <tr style=\"text-align: right;\">\n",
       "      <th></th>\n",
       "      <th>n_obs</th>\n",
       "      <th>perc</th>\n",
       "    </tr>\n",
       "    <tr>\n",
       "      <th>target_logit</th>\n",
       "      <th></th>\n",
       "      <th></th>\n",
       "    </tr>\n",
       "  </thead>\n",
       "  <tbody>\n",
       "    <tr>\n",
       "      <th>False</th>\n",
       "      <td>17071</td>\n",
       "      <td>0.610704</td>\n",
       "    </tr>\n",
       "    <tr>\n",
       "      <th>True</th>\n",
       "      <td>10882</td>\n",
       "      <td>0.389296</td>\n",
       "    </tr>\n",
       "  </tbody>\n",
       "</table>\n",
       "</div>"
      ],
      "text/plain": [
       "              n_obs      perc\n",
       "target_logit                 \n",
       "False         17071  0.610704\n",
       "True          10882  0.389296"
      ]
     },
     "execution_count": 505,
     "metadata": {},
     "output_type": "execute_result"
    }
   ],
   "source": [
    "ncust_logit = tz_gaming_test.groupby(\"target_logit\", observed=False).target_logit.agg(\"count\")\n",
    "impression_logit = pd.DataFrame(\n",
    "    {\n",
    "        \"n_obs\": ncust_logit,\n",
    "        \"perc\": ncust_logit.agg(lambda x: (x / x.sum())),\n",
    "    }\n",
    ")\n",
    "impression_logit"
   ]
  },
  {
   "cell_type": "code",
   "execution_count": null,
   "id": "4613abdd",
   "metadata": {},
   "outputs": [
    {
     "data": {
      "text/html": [
       "<div>\n",
       "<style scoped>\n",
       "    .dataframe tbody tr th:only-of-type {\n",
       "        vertical-align: middle;\n",
       "    }\n",
       "\n",
       "    .dataframe tbody tr th {\n",
       "        vertical-align: top;\n",
       "    }\n",
       "\n",
       "    .dataframe thead th {\n",
       "        text-align: right;\n",
       "    }\n",
       "</style>\n",
       "<table border=\"1\" class=\"dataframe\">\n",
       "  <thead>\n",
       "    <tr style=\"text-align: right;\">\n",
       "      <th></th>\n",
       "      <th>n_obs</th>\n",
       "      <th>perc</th>\n",
       "    </tr>\n",
       "    <tr>\n",
       "      <th>target_rnd</th>\n",
       "      <th></th>\n",
       "      <th></th>\n",
       "    </tr>\n",
       "  </thead>\n",
       "  <tbody>\n",
       "    <tr>\n",
       "      <th>False</th>\n",
       "      <td>76</td>\n",
       "      <td>0.002719</td>\n",
       "    </tr>\n",
       "    <tr>\n",
       "      <th>True</th>\n",
       "      <td>27877</td>\n",
       "      <td>0.997281</td>\n",
       "    </tr>\n",
       "  </tbody>\n",
       "</table>\n",
       "</div>"
      ],
      "text/plain": [
       "            n_obs      perc\n",
       "target_rnd                 \n",
       "False          76  0.002719\n",
       "True        27877  0.997281"
      ]
     },
     "execution_count": 506,
     "metadata": {},
     "output_type": "execute_result"
    }
   ],
   "source": [
    "ncust_rnd = tz_gaming_test.groupby(\"target_rnd\", observed=False).target_rnd.agg(\"count\")\n",
    "impression_rnd = pd.DataFrame(\n",
    "    {\n",
    "        \"n_obs\": ncust_rnd,\n",
    "        \"perc\": ncust_rnd.agg(lambda x: (x / x.sum())),\n",
    "    }\n",
    ")\n",
    "impression_rnd"
   ]
  },
  {
   "cell_type": "code",
   "execution_count": null,
   "id": "0d95716a",
   "metadata": {},
   "outputs": [
    {
     "data": {
      "text/html": [
       "<div>\n",
       "<style scoped>\n",
       "    .dataframe tbody tr th:only-of-type {\n",
       "        vertical-align: middle;\n",
       "    }\n",
       "\n",
       "    .dataframe tbody tr th {\n",
       "        vertical-align: top;\n",
       "    }\n",
       "\n",
       "    .dataframe thead th {\n",
       "        text-align: right;\n",
       "    }\n",
       "</style>\n",
       "<table border=\"1\" class=\"dataframe\">\n",
       "  <thead>\n",
       "    <tr style=\"text-align: right;\">\n",
       "      <th></th>\n",
       "      <th>n_obs</th>\n",
       "      <th>perc</th>\n",
       "    </tr>\n",
       "    <tr>\n",
       "      <th>target_vneta</th>\n",
       "      <th></th>\n",
       "      <th></th>\n",
       "    </tr>\n",
       "  </thead>\n",
       "  <tbody>\n",
       "    <tr>\n",
       "      <th>False</th>\n",
       "      <td>23082</td>\n",
       "      <td>0.825743</td>\n",
       "    </tr>\n",
       "    <tr>\n",
       "      <th>True</th>\n",
       "      <td>4871</td>\n",
       "      <td>0.174257</td>\n",
       "    </tr>\n",
       "  </tbody>\n",
       "</table>\n",
       "</div>"
      ],
      "text/plain": [
       "              n_obs      perc\n",
       "target_vneta                 \n",
       "False         23082  0.825743\n",
       "True           4871  0.174257"
      ]
     },
     "execution_count": 507,
     "metadata": {},
     "output_type": "execute_result"
    }
   ],
   "source": [
    "ncust_vneta = tz_gaming_test.groupby(\"target_vneta\", observed=False).target_vneta.agg(\"count\")\n",
    "impression_vneta = pd.DataFrame(\n",
    "    {\n",
    "        \"n_obs\": ncust_vneta,\n",
    "        \"perc\": ncust_vneta.agg(lambda x: (x / x.sum())),\n",
    "    }\n",
    ")\n",
    "impression_vneta"
   ]
  },
  {
   "cell_type": "code",
   "execution_count": null,
   "id": "f532cc88",
   "metadata": {},
   "outputs": [],
   "source": [
    "total_impressions = 20000000"
   ]
  },
  {
   "cell_type": "code",
   "execution_count": null,
   "id": "d49bea8d",
   "metadata": {},
   "outputs": [],
   "source": [
    "# clicks\n",
    "clicks_spam = total_impressions * ctr_spam\n",
    "clicks_rnd = total_impressions * impression_rnd.loc[True, 'perc'] * ctr_rnd\n",
    "clicks_logit = total_impressions * impression_logit.loc[True, 'perc'] * ctr_logit\n",
    "clicks_vneta = total_impressions * impression_vneta.loc[True, 'perc'] * ctr_vneta"
   ]
  },
  {
   "cell_type": "code",
   "execution_count": null,
   "id": "46839b63",
   "metadata": {},
   "outputs": [
    {
     "data": {
      "text/plain": [
       "(193896.89836511287,\n",
       " 193896.89836511287,\n",
       " 158122.56287339464,\n",
       " 114477.87357349836)"
      ]
     },
     "execution_count": 510,
     "metadata": {},
     "output_type": "execute_result"
    }
   ],
   "source": [
    "clicks_spam, clicks_rnd, clicks_logit, clicks_vneta"
   ]
  },
  {
   "cell_type": "code",
   "execution_count": null,
   "id": "4c64db8e",
   "metadata": {},
   "outputs": [],
   "source": [
    "# revenue\n",
    "revenue_spam = clicks_spam * 0.05 * 25\n",
    "revenue_rnd = clicks_rnd * 0.05 * 25\n",
    "revenue_logit = clicks_logit * 0.05 * 25\n",
    "revenue_vneta = clicks_vneta * 0.05 * 25"
   ]
  },
  {
   "cell_type": "markdown",
   "id": "72b8bce1",
   "metadata": {},
   "source": [
    "• The price charged for the data by Vneta is $50K\n",
    "\n",
    "• The price charged for the data science consulting services by Vneta is $150K    "
   ]
  },
  {
   "cell_type": "code",
   "execution_count": null,
   "id": "1948f0c2",
   "metadata": {},
   "outputs": [],
   "source": [
    "# cost\n",
    "cost_spam = 10 / 1000 * total_impressions\n",
    "cost_rnd = 10 / 1000 * total_impressions * impression_rnd.loc[True, 'perc'] \n",
    "cost_logit = 10 / 1000 * total_impressions * impression_logit.loc[True, 'perc']\n",
    "cost_vneta = 10 / 1000 * total_impressions * impression_vneta.loc[True, 'perc']"
   ]
  },
  {
   "cell_type": "code",
   "execution_count": null,
   "id": "ac17ecc9",
   "metadata": {},
   "outputs": [],
   "source": [
    "# profit\n",
    "profit_spam = revenue_spam - cost_spam\n",
    "profit_rnd = revenue_rnd - cost_rnd\n",
    "profit_logit = revenue_logit - cost_logit\n",
    "profit_vneta = revenue_vneta - cost_vneta"
   ]
  },
  {
   "cell_type": "code",
   "execution_count": null,
   "id": "7d02353c",
   "metadata": {},
   "outputs": [],
   "source": [
    "# rome\n",
    "rome_spam = profit_spam / cost_spam\n",
    "rome_rnd = profit_rnd / cost_rnd\n",
    "rome_logit = profit_logit / cost_logit\n",
    "rome_vneta = profit_vneta / cost_vneta"
   ]
  },
  {
   "cell_type": "code",
   "execution_count": null,
   "id": "2acabf16",
   "metadata": {},
   "outputs": [
    {
     "data": {
      "text/html": [
       "<div>\n",
       "<style scoped>\n",
       "    .dataframe tbody tr th:only-of-type {\n",
       "        vertical-align: middle;\n",
       "    }\n",
       "\n",
       "    .dataframe tbody tr th {\n",
       "        vertical-align: top;\n",
       "    }\n",
       "\n",
       "    .dataframe thead th {\n",
       "        text-align: right;\n",
       "    }\n",
       "</style>\n",
       "<table border=\"1\" class=\"dataframe\">\n",
       "  <thead>\n",
       "    <tr style=\"text-align: right;\">\n",
       "      <th></th>\n",
       "      <th>model</th>\n",
       "      <th>profit</th>\n",
       "      <th>ROME</th>\n",
       "    </tr>\n",
       "  </thead>\n",
       "  <tbody>\n",
       "    <tr>\n",
       "      <th>0</th>\n",
       "      <td>logit</td>\n",
       "      <td>119793.939828</td>\n",
       "      <td>1.538596</td>\n",
       "    </tr>\n",
       "    <tr>\n",
       "      <th>2</th>\n",
       "      <td>vneta</td>\n",
       "      <td>108245.984331</td>\n",
       "      <td>3.105933</td>\n",
       "    </tr>\n",
       "    <tr>\n",
       "      <th>1</th>\n",
       "      <td>rnd</td>\n",
       "      <td>42914.892856</td>\n",
       "      <td>0.215159</td>\n",
       "    </tr>\n",
       "    <tr>\n",
       "      <th>3</th>\n",
       "      <td>spam</td>\n",
       "      <td>42371.122956</td>\n",
       "      <td>0.211856</td>\n",
       "    </tr>\n",
       "  </tbody>\n",
       "</table>\n",
       "</div>"
      ],
      "text/plain": [
       "   model         profit      ROME\n",
       "0  logit  119793.939828  1.538596\n",
       "2  vneta  108245.984331  3.105933\n",
       "1    rnd   42914.892856  0.215159\n",
       "3   spam   42371.122956  0.211856"
      ]
     },
     "execution_count": 515,
     "metadata": {},
     "output_type": "execute_result"
    }
   ],
   "source": [
    "# calculate and add profit and ROME values for each approach\n",
    "# to the mod_perf data frame\n",
    "tz_gaming[\"pred_spam\"] = 1\n",
    "tz_gaming[\"target_spam\"] = True\n",
    "\n",
    "mod_perf = pd.DataFrame(\n",
    "    {\n",
    "        \"model\": [\n",
    "            \"logit\", # Use predictions from a logistic regression model for ad targeting\n",
    "            \"rnd\", # Continue with the current targeting approach\n",
    "            \"vneta\", # Use predictions generated by Vneta for ad targeting\n",
    "            \"spam\", # Spam all prospects\n",
    "        ],\n",
    "        \"profit\": [profit_logit, profit_rnd, profit_vneta, profit_spam],\n",
    "        \"ROME\": [rome_logit, rome_rnd, rome_vneta, rome_spam],\n",
    "    }\n",
    ")\n",
    "mod_perf.sort_values(by=\"profit\", ascending=False)"
   ]
  },
  {
   "cell_type": "code",
   "execution_count": null,
   "id": "56087b7d",
   "metadata": {},
   "outputs": [],
   "source": [
    "performance_data = pd.DataFrame(\n",
    "    {\n",
    "        \"name\": [\"logit\", \"rnd\", \"vneta\", \"spam\"],\n",
    "        \"Profit\": [profit_logit, profit_rnd, profit_vneta, profit_spam],\n",
    "        \"ROME\": [rome_logit, rome_rnd, rome_vneta, rome_spam],\n",
    "    }\n",
    ")"
   ]
  },
  {
   "cell_type": "code",
   "execution_count": null,
   "id": "79d8f2f3",
   "metadata": {},
   "outputs": [
    {
     "data": {
      "image/png": "[encoded data removed]",
      "text/plain": [
       "<Figure size 640x480 with 1 Axes>"
      ]
     },
     "metadata": {},
     "output_type": "display_data"
    }
   ],
   "source": [
    "plt.clf()\n",
    "fig = sns.barplot(x=\"name\", y=\"Profit\", color=\"pink\", data=performance_data)\n",
    "fig.set(xlabel=\"\", ylabel=\"Campaign profit\")\n",
    "for index, row in performance_data.iterrows():\n",
    "    fig.text(row.name, row.Profit - 8000, f\"{int(row.Profit):,}\", color=\"black\", ha=\"center\")\n",
    "plt.show()"
   ]
  },
  {
   "cell_type": "code",
   "execution_count": null,
   "id": "e9583d39",
   "metadata": {},
   "outputs": [
    {
     "data": {
      "image/png": "[encoded data removed]",
      "text/plain": [
       "<Figure size 640x480 with 1 Axes>"
      ]
     },
     "metadata": {},
     "output_type": "display_data"
    }
   ],
   "source": [
    "plt.clf()\n",
    "fig = sns.barplot(x=\"name\", y=\"ROME\", color=\"pink\", data=performance_data)\n",
    "fig.set(xlabel=\"\", ylabel=\"Return on Marketing Expenditures (ROME)\")\n",
    "for index, row in performance_data.iterrows():\n",
    "    adj = rsm.ifelse(index == 0, 0.05, 0.15)\n",
    "    fig.text(\n",
    "        row.name,\n",
    "        row.ROME - adj,\n",
    "        f\"{round((100*row.ROME), 2):,}%\",\n",
    "        color=\"black\",\n",
    "        ha=\"center\",d\n",
    "    )\n",
    "plt.show()"
   ]
  },
  {
   "cell_type": "markdown",
   "id": "60d40387",
   "metadata": {},
   "source": [
    "e. Based on the projected profit numbers from VI.d, discuss which of these 4 approaches you would recommend and why (2 points)"
   ]
  },
  {
   "cell_type": "markdown",
   "id": "85be432d",
   "metadata": {},
   "source": [
    "Using predictions from a logistic regression model for ad targeting is the best choice if the goal is maximizing total profit($119K). More scalable than vneta because it uses data without additional consulting costs. Use predictions generated by Vneta for ad targeting is the best choice if the goal is marketing efficiency. Has higher ROME (3.11) compared to logit (1.54). More cost-effective per dollar spent but lower total profit."
   ]
  },
  {
   "cell_type": "markdown",
   "id": "68cd674e",
   "metadata": {},
   "source": [
    "f. Calculate the profit and ROME implications for each of the 4 options mentioned in VI.d if TZ purchases exactly 20-million impressions for the upcoming ad campaign out of the +500M prospects that Vneta has access to (2 points)\n",
    "\n",
    "> Note: Calculate **projected profits from purchasing exactly 20M impressions** under the assumption that options (3) and (4) are free of charge. Then compare the profit numbers to determine if these options would be worth the expense going forward.\n",
    "\n",
    "> Note: For efficiency, consider adapting the `perf_calc` function you created for the Tuango case to do the relevant performance calculations for the different models."
   ]
  },
  {
   "cell_type": "code",
   "execution_count": null,
   "id": "9c58db9f",
   "metadata": {},
   "outputs": [],
   "source": [
    "# clicks\n",
    "clicks_spam_20 = total_impressions * ctr_spam\n",
    "clicks_rnd_20 = total_impressions * ctr_rnd\n",
    "clicks_logit_20 = total_impressions * ctr_logit\n",
    "clicks_vneta_20 = total_impressions * ctr_vneta"
   ]
  },
  {
   "cell_type": "code",
   "execution_count": null,
   "id": "f7c3f768",
   "metadata": {},
   "outputs": [],
   "source": [
    "# revenue\n",
    "revenue_spam_20 = clicks_spam_20 * 0.05 * 25\n",
    "revenue_rnd_20 = clicks_rnd_20 * 0.05 * 25\n",
    "revenue_logit_20 = clicks_logit_20 * 0.05 * 25\n",
    "revenue_vneta_20 = clicks_vneta_20 * 0.05 * 25"
   ]
  },
  {
   "cell_type": "code",
   "execution_count": null,
   "id": "8f50aad2",
   "metadata": {},
   "outputs": [],
   "source": [
    "# cost\n",
    "cost_spam_20 = 10 / 1000 * total_impressions\n",
    "cost_rnd_20 = 10 / 1000 * total_impressions\n",
    "cost_logit_20 = 10 / 1000 * total_impressions\n",
    "cost_vneta_20 = 10 / 1000 * total_impressions"
   ]
  },
  {
   "cell_type": "code",
   "execution_count": null,
   "id": "ac965ad2",
   "metadata": {},
   "outputs": [],
   "source": [
    "profit_spam_20 = revenue_spam_20 - cost_spam\n",
    "profit_rnd_20 = revenue_rnd_20 - cost_rnd\n",
    "profit_logit_20 = revenue_logit_20 - cost_logit\n",
    "profit_vneta_20 = revenue_vneta_20 - cost_vneta"
   ]
  },
  {
   "cell_type": "code",
   "execution_count": null,
   "id": "cfecf41c",
   "metadata": {},
   "outputs": [],
   "source": [
    "rome_spam_20 = profit_spam_20 / cost_spam_20\n",
    "rome_rnd_20 = profit_rnd_20 / cost_rnd_20\n",
    "rome_logit_20 = profit_logit_20 / cost_logit_20\n",
    "rome_vneta_20 = profit_vneta_20 / cost_vneta_20"
   ]
  },
  {
   "cell_type": "code",
   "execution_count": null,
   "id": "ec398de0",
   "metadata": {},
   "outputs": [
    {
     "data": {
      "text/html": [
       "<div>\n",
       "<style scoped>\n",
       "    .dataframe tbody tr th:only-of-type {\n",
       "        vertical-align: middle;\n",
       "    }\n",
       "\n",
       "    .dataframe tbody tr th {\n",
       "        vertical-align: top;\n",
       "    }\n",
       "\n",
       "    .dataframe thead th {\n",
       "        text-align: right;\n",
       "    }\n",
       "</style>\n",
       "<table border=\"1\" class=\"dataframe\">\n",
       "  <thead>\n",
       "    <tr style=\"text-align: right;\">\n",
       "      <th></th>\n",
       "      <th>model</th>\n",
       "      <th>profit</th>\n",
       "      <th>ROME</th>\n",
       "    </tr>\n",
       "  </thead>\n",
       "  <tbody>\n",
       "    <tr>\n",
       "      <th>2</th>\n",
       "      <td>vneta</td>\n",
       "      <td>786335.257022</td>\n",
       "      <td>3.931676</td>\n",
       "    </tr>\n",
       "    <tr>\n",
       "      <th>0</th>\n",
       "      <td>logit</td>\n",
       "      <td>429859.905506</td>\n",
       "      <td>2.149300</td>\n",
       "    </tr>\n",
       "    <tr>\n",
       "      <th>1</th>\n",
       "      <td>rnd</td>\n",
       "      <td>43575.659988</td>\n",
       "      <td>0.217878</td>\n",
       "    </tr>\n",
       "    <tr>\n",
       "      <th>3</th>\n",
       "      <td>spam</td>\n",
       "      <td>42371.122956</td>\n",
       "      <td>0.211856</td>\n",
       "    </tr>\n",
       "  </tbody>\n",
       "</table>\n",
       "</div>"
      ],
      "text/plain": [
       "   model         profit      ROME\n",
       "2  vneta  786335.257022  3.931676\n",
       "0  logit  429859.905506  2.149300\n",
       "1    rnd   43575.659988  0.217878\n",
       "3   spam   42371.122956  0.211856"
      ]
     },
     "execution_count": 524,
     "metadata": {},
     "output_type": "execute_result"
    }
   ],
   "source": [
    "mod_perf_20M = pd.DataFrame(\n",
    "    {\n",
    "        \"model\": [\n",
    "            \"logit\",\n",
    "            \"rnd\",\n",
    "            \"vneta\",\n",
    "            \"spam\",\n",
    "        ],\n",
    "        \"profit\": [profit_logit_20, profit_rnd_20, profit_vneta_20, profit_spam_20],\n",
    "        \"ROME\": [rome_logit_20, rome_rnd_20, rome_vneta_20, rome_spam_20],\n",
    "    }\n",
    ")\n",
    "mod_perf_20M.sort_values(by=\"profit\", ascending=False)"
   ]
  },
  {
   "cell_type": "code",
   "execution_count": null,
   "id": "cf395745",
   "metadata": {},
   "outputs": [
    {
     "data": {
      "text/html": [
       "<div>\n",
       "<style scoped>\n",
       "    .dataframe tbody tr th:only-of-type {\n",
       "        vertical-align: middle;\n",
       "    }\n",
       "\n",
       "    .dataframe tbody tr th {\n",
       "        vertical-align: top;\n",
       "    }\n",
       "\n",
       "    .dataframe thead th {\n",
       "        text-align: right;\n",
       "    }\n",
       "</style>\n",
       "<table border=\"1\" class=\"dataframe\">\n",
       "  <thead>\n",
       "    <tr style=\"text-align: right;\">\n",
       "      <th></th>\n",
       "      <th>training</th>\n",
       "      <th>inum</th>\n",
       "      <th>click</th>\n",
       "      <th>time</th>\n",
       "      <th>time_fct</th>\n",
       "      <th>app</th>\n",
       "      <th>mobile_os</th>\n",
       "      <th>impup</th>\n",
       "      <th>clup</th>\n",
       "      <th>ctrup</th>\n",
       "      <th>...</th>\n",
       "      <th>id</th>\n",
       "      <th>pred_logit</th>\n",
       "      <th>pred_rnd</th>\n",
       "      <th>pred_logit_dec</th>\n",
       "      <th>click_numeric</th>\n",
       "      <th>target_logit</th>\n",
       "      <th>target_rnd</th>\n",
       "      <th>target_vneta</th>\n",
       "      <th>pred_spam</th>\n",
       "      <th>target_spam</th>\n",
       "    </tr>\n",
       "  </thead>\n",
       "  <tbody>\n",
       "    <tr>\n",
       "      <th>0</th>\n",
       "      <td>train</td>\n",
       "      <td>I7</td>\n",
       "      <td>no</td>\n",
       "      <td>9</td>\n",
       "      <td>9</td>\n",
       "      <td>app8</td>\n",
       "      <td>ios</td>\n",
       "      <td>439</td>\n",
       "      <td>2</td>\n",
       "      <td>0.455581</td>\n",
       "      <td>...</td>\n",
       "      <td>id247135</td>\n",
       "      <td>3.382977e-13</td>\n",
       "      <td>0.009222</td>\n",
       "      <td>10</td>\n",
       "      <td>0.0</td>\n",
       "      <td>False</td>\n",
       "      <td>True</td>\n",
       "      <td>False</td>\n",
       "      <td>1</td>\n",
       "      <td>True</td>\n",
       "    </tr>\n",
       "    <tr>\n",
       "      <th>1</th>\n",
       "      <td>train</td>\n",
       "      <td>I23</td>\n",
       "      <td>no</td>\n",
       "      <td>15</td>\n",
       "      <td>15</td>\n",
       "      <td>app1</td>\n",
       "      <td>ios</td>\n",
       "      <td>64</td>\n",
       "      <td>0</td>\n",
       "      <td>0.000000</td>\n",
       "      <td>...</td>\n",
       "      <td>id245079</td>\n",
       "      <td>1.156355e-02</td>\n",
       "      <td>0.008751</td>\n",
       "      <td>3</td>\n",
       "      <td>0.0</td>\n",
       "      <td>True</td>\n",
       "      <td>True</td>\n",
       "      <td>False</td>\n",
       "      <td>1</td>\n",
       "      <td>True</td>\n",
       "    </tr>\n",
       "    <tr>\n",
       "      <th>2</th>\n",
       "      <td>train</td>\n",
       "      <td>I28</td>\n",
       "      <td>no</td>\n",
       "      <td>12</td>\n",
       "      <td>12</td>\n",
       "      <td>app5</td>\n",
       "      <td>ios</td>\n",
       "      <td>80</td>\n",
       "      <td>0</td>\n",
       "      <td>0.000000</td>\n",
       "      <td>...</td>\n",
       "      <td>id927245</td>\n",
       "      <td>2.655311e-03</td>\n",
       "      <td>0.008505</td>\n",
       "      <td>7</td>\n",
       "      <td>0.0</td>\n",
       "      <td>False</td>\n",
       "      <td>True</td>\n",
       "      <td>False</td>\n",
       "      <td>1</td>\n",
       "      <td>True</td>\n",
       "    </tr>\n",
       "    <tr>\n",
       "      <th>3</th>\n",
       "      <td>train</td>\n",
       "      <td>I30</td>\n",
       "      <td>no</td>\n",
       "      <td>19</td>\n",
       "      <td>19</td>\n",
       "      <td>app1</td>\n",
       "      <td>ios</td>\n",
       "      <td>25</td>\n",
       "      <td>0</td>\n",
       "      <td>0.000000</td>\n",
       "      <td>...</td>\n",
       "      <td>id922188</td>\n",
       "      <td>1.349420e-02</td>\n",
       "      <td>0.009600</td>\n",
       "      <td>3</td>\n",
       "      <td>0.0</td>\n",
       "      <td>True</td>\n",
       "      <td>True</td>\n",
       "      <td>True</td>\n",
       "      <td>1</td>\n",
       "      <td>True</td>\n",
       "    </tr>\n",
       "    <tr>\n",
       "      <th>4</th>\n",
       "      <td>train</td>\n",
       "      <td>I35</td>\n",
       "      <td>no</td>\n",
       "      <td>24</td>\n",
       "      <td>24</td>\n",
       "      <td>app1</td>\n",
       "      <td>android</td>\n",
       "      <td>3834</td>\n",
       "      <td>29</td>\n",
       "      <td>0.756390</td>\n",
       "      <td>...</td>\n",
       "      <td>id355833</td>\n",
       "      <td>1.868222e-03</td>\n",
       "      <td>0.008704</td>\n",
       "      <td>8</td>\n",
       "      <td>0.0</td>\n",
       "      <td>False</td>\n",
       "      <td>True</td>\n",
       "      <td>False</td>\n",
       "      <td>1</td>\n",
       "      <td>True</td>\n",
       "    </tr>\n",
       "  </tbody>\n",
       "</table>\n",
       "<p>5 rows × 31 columns</p>\n",
       "</div>"
      ],
      "text/plain": [
       "  training inum click  time time_fct   app mobile_os  impup  clup     ctrup  \\\n",
       "0    train   I7    no     9        9  app8       ios    439     2  0.455581   \n",
       "1    train  I23    no    15       15  app1       ios     64     0  0.000000   \n",
       "2    train  I28    no    12       12  app5       ios     80     0  0.000000   \n",
       "3    train  I30    no    19       19  app1       ios     25     0  0.000000   \n",
       "4    train  I35    no    24       24  app1   android   3834    29  0.756390   \n",
       "\n",
       "   ...        id    pred_logit  pred_rnd  pred_logit_dec  click_numeric  \\\n",
       "0  ...  id247135  3.382977e-13  0.009222              10            0.0   \n",
       "1  ...  id245079  1.156355e-02  0.008751               3            0.0   \n",
       "2  ...  id927245  2.655311e-03  0.008505               7            0.0   \n",
       "3  ...  id922188  1.349420e-02  0.009600               3            0.0   \n",
       "4  ...  id355833  1.868222e-03  0.008704               8            0.0   \n",
       "\n",
       "   target_logit  target_rnd  target_vneta  pred_spam  target_spam  \n",
       "0         False        True         False          1         True  \n",
       "1          True        True         False          1         True  \n",
       "2         False        True         False          1         True  \n",
       "3          True        True          True          1         True  \n",
       "4         False        True         False          1         True  \n",
       "\n",
       "[5 rows x 31 columns]"
      ]
     },
     "execution_count": 525,
     "metadata": {},
     "output_type": "execute_result"
    }
   ],
   "source": [
    "tz_gaming.head()"
   ]
  },
  {
   "cell_type": "markdown",
   "id": "e1acd3c5",
   "metadata": {},
   "source": [
    "g. Based on the results from VI.f, discuss which of the 4 approaches you would recommend to put into production and why. Is your recommendation different from VI.e? Why (not) (2 points)"
   ]
  },
  {
   "cell_type": "markdown",
   "id": "152adca2",
   "metadata": {},
   "source": [
    "Based on the results from VI.f, the best-performing approach is Vneta’s proprietary model (pred_vneta), which generates the highest profit ($786K) and the best ROME (3.93). Logistic regression (pred_logit) is a strong alternative, achieving $429K profit with a solid ROME of 2.15. Random (pred_rnd) and spam (spam) perform poorly, with low profits (~$43K) and low ROME (~0.21-0.22), making them inefficient. \n",
    "\n",
    "\n",
    "My recommendation is different from VI.e. In VI.e, I recommended pred_vneta but with some concerns due to its lower total profit ($108K). In VI.f, pred_vneta is clearly the best model ($786K profit, 3.93 ROME), making it the best production choice."
   ]
  },
  {
   "cell_type": "code",
   "execution_count": null,
   "id": "f99211eb",
   "metadata": {},
   "outputs": [
    {
     "data": {
      "text/html": [
       "<div>\n",
       "<style scoped>\n",
       "    .dataframe tbody tr th:only-of-type {\n",
       "        vertical-align: middle;\n",
       "    }\n",
       "\n",
       "    .dataframe tbody tr th {\n",
       "        vertical-align: top;\n",
       "    }\n",
       "\n",
       "    .dataframe thead th {\n",
       "        text-align: right;\n",
       "    }\n",
       "</style>\n",
       "<table border=\"1\" class=\"dataframe\">\n",
       "  <thead>\n",
       "    <tr style=\"text-align: right;\">\n",
       "      <th></th>\n",
       "      <th>training</th>\n",
       "      <th>inum</th>\n",
       "      <th>click</th>\n",
       "      <th>time</th>\n",
       "      <th>time_fct</th>\n",
       "      <th>app</th>\n",
       "      <th>mobile_os</th>\n",
       "      <th>impup</th>\n",
       "      <th>clup</th>\n",
       "      <th>ctrup</th>\n",
       "      <th>...</th>\n",
       "      <th>id</th>\n",
       "      <th>pred_logit</th>\n",
       "      <th>pred_rnd</th>\n",
       "      <th>pred_logit_dec</th>\n",
       "      <th>click_numeric</th>\n",
       "      <th>target_logit</th>\n",
       "      <th>target_rnd</th>\n",
       "      <th>target_vneta</th>\n",
       "      <th>pred_spam</th>\n",
       "      <th>target_spam</th>\n",
       "    </tr>\n",
       "  </thead>\n",
       "  <tbody>\n",
       "    <tr>\n",
       "      <th>0</th>\n",
       "      <td>train</td>\n",
       "      <td>I7</td>\n",
       "      <td>no</td>\n",
       "      <td>9</td>\n",
       "      <td>9</td>\n",
       "      <td>app8</td>\n",
       "      <td>ios</td>\n",
       "      <td>439</td>\n",
       "      <td>2</td>\n",
       "      <td>0.455581</td>\n",
       "      <td>...</td>\n",
       "      <td>id247135</td>\n",
       "      <td>3.382977e-13</td>\n",
       "      <td>0.009222</td>\n",
       "      <td>10</td>\n",
       "      <td>0.0</td>\n",
       "      <td>False</td>\n",
       "      <td>True</td>\n",
       "      <td>False</td>\n",
       "      <td>1</td>\n",
       "      <td>True</td>\n",
       "    </tr>\n",
       "    <tr>\n",
       "      <th>1</th>\n",
       "      <td>train</td>\n",
       "      <td>I23</td>\n",
       "      <td>no</td>\n",
       "      <td>15</td>\n",
       "      <td>15</td>\n",
       "      <td>app1</td>\n",
       "      <td>ios</td>\n",
       "      <td>64</td>\n",
       "      <td>0</td>\n",
       "      <td>0.000000</td>\n",
       "      <td>...</td>\n",
       "      <td>id245079</td>\n",
       "      <td>1.156355e-02</td>\n",
       "      <td>0.008751</td>\n",
       "      <td>3</td>\n",
       "      <td>0.0</td>\n",
       "      <td>True</td>\n",
       "      <td>True</td>\n",
       "      <td>False</td>\n",
       "      <td>1</td>\n",
       "      <td>True</td>\n",
       "    </tr>\n",
       "    <tr>\n",
       "      <th>2</th>\n",
       "      <td>train</td>\n",
       "      <td>I28</td>\n",
       "      <td>no</td>\n",
       "      <td>12</td>\n",
       "      <td>12</td>\n",
       "      <td>app5</td>\n",
       "      <td>ios</td>\n",
       "      <td>80</td>\n",
       "      <td>0</td>\n",
       "      <td>0.000000</td>\n",
       "      <td>...</td>\n",
       "      <td>id927245</td>\n",
       "      <td>2.655311e-03</td>\n",
       "      <td>0.008505</td>\n",
       "      <td>7</td>\n",
       "      <td>0.0</td>\n",
       "      <td>False</td>\n",
       "      <td>True</td>\n",
       "      <td>False</td>\n",
       "      <td>1</td>\n",
       "      <td>True</td>\n",
       "    </tr>\n",
       "    <tr>\n",
       "      <th>3</th>\n",
       "      <td>train</td>\n",
       "      <td>I30</td>\n",
       "      <td>no</td>\n",
       "      <td>19</td>\n",
       "      <td>19</td>\n",
       "      <td>app1</td>\n",
       "      <td>ios</td>\n",
       "      <td>25</td>\n",
       "      <td>0</td>\n",
       "      <td>0.000000</td>\n",
       "      <td>...</td>\n",
       "      <td>id922188</td>\n",
       "      <td>1.349420e-02</td>\n",
       "      <td>0.009600</td>\n",
       "      <td>3</td>\n",
       "      <td>0.0</td>\n",
       "      <td>True</td>\n",
       "      <td>True</td>\n",
       "      <td>True</td>\n",
       "      <td>1</td>\n",
       "      <td>True</td>\n",
       "    </tr>\n",
       "    <tr>\n",
       "      <th>4</th>\n",
       "      <td>train</td>\n",
       "      <td>I35</td>\n",
       "      <td>no</td>\n",
       "      <td>24</td>\n",
       "      <td>24</td>\n",
       "      <td>app1</td>\n",
       "      <td>android</td>\n",
       "      <td>3834</td>\n",
       "      <td>29</td>\n",
       "      <td>0.756390</td>\n",
       "      <td>...</td>\n",
       "      <td>id355833</td>\n",
       "      <td>1.868222e-03</td>\n",
       "      <td>0.008704</td>\n",
       "      <td>8</td>\n",
       "      <td>0.0</td>\n",
       "      <td>False</td>\n",
       "      <td>True</td>\n",
       "      <td>False</td>\n",
       "      <td>1</td>\n",
       "      <td>True</td>\n",
       "    </tr>\n",
       "  </tbody>\n",
       "</table>\n",
       "<p>5 rows × 31 columns</p>\n",
       "</div>"
      ],
      "text/plain": [
       "  training inum click  time time_fct   app mobile_os  impup  clup     ctrup  \\\n",
       "0    train   I7    no     9        9  app8       ios    439     2  0.455581   \n",
       "1    train  I23    no    15       15  app1       ios     64     0  0.000000   \n",
       "2    train  I28    no    12       12  app5       ios     80     0  0.000000   \n",
       "3    train  I30    no    19       19  app1       ios     25     0  0.000000   \n",
       "4    train  I35    no    24       24  app1   android   3834    29  0.756390   \n",
       "\n",
       "   ...        id    pred_logit  pred_rnd  pred_logit_dec  click_numeric  \\\n",
       "0  ...  id247135  3.382977e-13  0.009222              10            0.0   \n",
       "1  ...  id245079  1.156355e-02  0.008751               3            0.0   \n",
       "2  ...  id927245  2.655311e-03  0.008505               7            0.0   \n",
       "3  ...  id922188  1.349420e-02  0.009600               3            0.0   \n",
       "4  ...  id355833  1.868222e-03  0.008704               8            0.0   \n",
       "\n",
       "   target_logit  target_rnd  target_vneta  pred_spam  target_spam  \n",
       "0         False        True         False          1         True  \n",
       "1          True        True         False          1         True  \n",
       "2         False        True         False          1         True  \n",
       "3          True        True          True          1         True  \n",
       "4         False        True         False          1         True  \n",
       "\n",
       "[5 rows x 31 columns]"
      ]
     },
     "execution_count": 526,
     "metadata": {},
     "output_type": "execute_result"
    }
   ],
   "source": [
    "tz_gaming.head()"
   ]
  },
  {
   "cell_type": "code",
   "execution_count": null,
   "id": "1104740f",
   "metadata": {},
   "outputs": [],
   "source": [
    "dec_tab = dec_tab[[\"nr_impressions\", \"nr_clicks\", \"ctr\"]]\n",
    "dec_tab = dec_tab.reset_index(drop=True)"
   ]
  },
  {
   "cell_type": "markdown",
   "id": "2f97b194",
   "metadata": {},
   "source": [
    "## Part VII: Generative AI (5 points)\n",
    "\n",
    "Please describe how you used Generative AI-tools like ChatGPT to support your work on this assignment and enhance your learning. Create a pdf where you organize your interactions with AI and comment on what things did and did not go well. Bring any questions you may have about the assignment and the support you received from GenAI to class so we can discuss.\n",
    "\n",
    "Make sure to include:\n",
    "\n",
    "- Specific examples of prompts you used\n",
    "- How the AI responses helped or hindered your understanding\n",
    "- Any limitations or challenges you encountered\n",
    "- Key insights gained from using GenAI tools\n",
    "- Questions that arose during your interactions with AI\n",
    "- How GenAI complemented your learning process\n",
    "\n",
    "Note: No matter how you used Generative AI-tools, you will be expected to understand and talk meaningfully about the work you submitted for this assignment. You may be called on in class to walk us through your thought process and calculations."
   ]
  },
  {
   "cell_type": "markdown",
   "id": "3900a378",
   "metadata": {},
   "source": [
    "https://chatgpt.com/c/6795793d-bb1c-8013-ae21-58b13fac799f"
   ]
  }
 ],
 "metadata": {
  "jupytext": {
   "cell_metadata_filter": "-all",
   "main_language": "python",
   "notebook_metadata_filter": "-all"
  },
  "kernelspec": {
   "display_name": "base",
   "language": "python",
   "name": "python3"
  },
  "language_info": {
   "codemirror_mode": {
    "name": "ipython",
    "version": 3
   },
   "file_extension": ".py",
   "mimetype": "text/x-python",
   "name": "python",
   "nbconvert_exporter": "python",
   "pygments_lexer": "ipython3",
   "version": "3.11.9"
  }
 },
 "nbformat": 4,
 "nbformat_minor": 5
}
