{
 "cells": [
  {
   "cell_type": "markdown",
   "metadata": {},
   "source": [
    "> Note: Please read Question 17 at the end of this document carefully before you start your work. You will need to provide a detailed discussion of how you used GenAI for this assignment so make sure to keep notes, create screenshots, etc."
   ]
  },
  {
   "cell_type": "markdown",
   "metadata": {},
   "source": [
    "> Note: Please also review the assignment PDF in repo. That document has all the details about what you are expected to do to complete this individual assignment. Good luck!"
   ]
  },
  {
   "attachments": {},
   "cell_type": "markdown",
   "metadata": {},
   "source": [
    "# Tuango - Targeting Mobile App Messages\n",
    "\n",
    "Prepare \"Tuango: Targeting Mobile App Messages\" for class discussion and as an individual assignment and submit the assignment through GitHub. Detailed instructions are available on Canvas (tuango.pdf). See the assignment on Canvas for the \"invitation\" to get the repo. Once you accepted the invitation, you should see the repo at the page below.\n",
    "\n",
    "See the assignment on Canvas for the \"invitation\" to get the repo. When you are done with this individual assignment, save your code and commit and push the results to GitHub. Of course you can commit and push code as often as you like, but only before the due date. View the video linked below to refresh your memory on how to clone and push repos.\n",
    "\n",
    "<https://youtu.be/w6yzFv44CMc>\n",
    "\n",
    "\n",
    "Add text motivating your work in Markdown format. Markdown is a simple formatting syntax for authoring HTML. For more details on using markdown go to <http://commonmark.org/help/> for a 10-minute interactive Markdown tutorial\n",
    "\n",
    "Note that your python code must be fully \"reproducible\". That is, your code must without errors on my (or the TAs) computer. There are will not be any explicit tests for this assignment to confirm if your answers are (not) correct. However, the system will run your code and it is important to check that there is a green checkmark rather than a red X.\n",
    "\n",
    "If you get a red X, that means your code did not run without errors and that there are things for you the check and fix. When you are done, submit the link to your repo to Canvas. To help you get started test and roll example available using the command below.\n",
    "\n",
    "`usethis --name \"rsm-mgta455-bbb-test-rollout\" --dest \"~/Desktop\" --url \"https://www.dropbox.com/scl/fo/si2at367p43hu6dodjtgb/ALvl7nJfcRDTdMGlFtmkiCE?rlkey=yx5nwcd3bottgw6vc3r9lqte8&dl=1\"`\n",
    "\n",
    "<!-- dropbox links updated 2025 -->\n",
    "\n",
    "This is an individual assignment. As a reminder, it is an honor code violation to share any assignment or exam solution from this class with another student in a current class or a future class generation. This includes using cloud storage like Google Drive. It is also an honor code violation to obtain assignments or exams from a student in another current class or a past class generation for use as an aid in solving problems to be turned in and  graded. Please respect the honor code as it helps to maintain parity in the classroom. Any suspected violation will be reported to the Academic Integrity Office for review.\n",
    "\n",
    "## Setup\n",
    "\n",
    "Please complete this python notebook by answering the questions 1-16 in `tuango-msba.pdf`. The code blocks below will load a few python modules you will need and also the data you will need for this first notebook.\n",
    "\n",
    "> Hint: Make sure to study the reading on [Applied Logistic Regression](https://www.dropbox.com/scl/fi/0t6yqd3oi6zycm47p1srx/applied-logistic-regression-pyrsm.ipynb?rlkey=6q0mfcvba4vn92ty1hfi65m2j&dl=1) which has examples on how to run logistic regression models using the pyrsm package"
   ]
  },
  {
   "cell_type": "code",
   "execution_count": 296,
   "metadata": {},
   "outputs": [],
   "source": [
    "import numpy as np\n",
    "import pandas as pd\n",
    "import matplotlib.pyplot as plt\n",
    "import pyrsm as rsm\n",
    "import seaborn as sns\n",
    "\n",
    "# you can import additional python packages but only use packages that\n",
    "# are already part of the docker container"
   ]
  },
  {
   "cell_type": "code",
   "execution_count": 297,
   "metadata": {},
   "outputs": [],
   "source": [
    "# Use this dataset and notebook to answer questions 1-13\n",
    "tuango = pd.read_parquet(\"data/tuango_pre.parquet\")"
   ]
  },
  {
   "cell_type": "code",
   "execution_count": 298,
   "metadata": {},
   "outputs": [],
   "source": [
    "# feel free to use polars instead of pandas if you prefer\n",
    "# but you will need to adjust some of the sample code below\n",
    "# to make it work\n",
    "# tuango = pl.read_parquet(\"data/tuango_pre.parquet\")"
   ]
  },
  {
   "cell_type": "code",
   "execution_count": 299,
   "metadata": {},
   "outputs": [
    {
     "data": {
      "text/markdown": [
       "# Tuango: Targeting Mobile App Push Messages\n",
       "\n",
       "This file contains information about the test and does not have results about the roll-out. Values for `buyer` and `ordersize` are missing for all customers that were not part of the test.\n",
       "\n",
       "## Variable Names and Descriptions\n",
       "* userid: Unique user ID\n",
       "\n",
       "**Response to the customized push message**\n",
       "* buyer: Did the customer buy the Karaoke deal? (\"yes\" or \"no\")\n",
       "* ordersize: Number of 30-minute Karaoke sessions the customer purchased\n",
       "\n",
       "**Recency, Frequency, and Monetary variables**\n",
       "* recency: Days since last purchase of a deal (before the Karaoke deal offer)\n",
       "* frequency: Number of deals purchased during the one year period before the Karaoke deal offer\n",
       "* monetary: Average amount spent per order (in RMB) during the one year period before the Karaoke deal offer\n",
       "\n",
       "**Other variables in the dataset**\n",
       "* age: Age of the customer\n",
       "* gender: Gender identity of the customer (M = male, F = female, O = Other or unknown)\n",
       "* music: Customer made a purchase in the music category during the one-year period before the Karaoke deal offer (\"no\" or \"yes\")\n",
       "* test: Splits the dataset into test (1) and rollout (0) data\n",
       "* training: Splits the dataset into training (1) and test (0) data. This variable will not be used in this assignment"
      ],
      "text/plain": [
       "<IPython.core.display.Markdown object>"
      ]
     },
     "metadata": {},
     "output_type": "display_data"
    }
   ],
   "source": [
    "# dataset description\n",
    "tuango_description = rsm.md(\"data/tuango_pre_description.md\")"
   ]
  },
  {
   "cell_type": "code",
   "execution_count": 300,
   "metadata": {},
   "outputs": [
    {
     "data": {
      "text/plain": [
       "buyer\n",
       "NaN    397252\n",
       "no      18888\n",
       "yes      2020\n",
       "Name: count, dtype: int64"
      ]
     },
     "execution_count": 300,
     "metadata": {},
     "output_type": "execute_result"
    }
   ],
   "source": [
    "# you will likely find the below useful in this assignment\n",
    "# there are missing values in the data that you will need to deal with\n",
    "# why do you think there missing values?\n",
    "# do you think there are data quality issues?\n",
    "# or is there a simpler explanation?\n",
    "tuango.buyer.value_counts(dropna=False)"
   ]
  },
  {
   "cell_type": "code",
   "execution_count": 301,
   "metadata": {},
   "outputs": [
    {
     "data": {
      "text/plain": [
       "buyer\n",
       "True     397252\n",
       "False     20908\n",
       "Name: count, dtype: int64"
      ]
     },
     "execution_count": 301,
     "metadata": {},
     "output_type": "execute_result"
    }
   ],
   "source": [
    "# you will likely find the below useful in this assignment\n",
    "tuango.buyer.isna().value_counts()"
   ]
  },
  {
   "cell_type": "code",
   "execution_count": 302,
   "metadata": {},
   "outputs": [
    {
     "data": {
      "text/plain": [
       "buyer_yes\n",
       "NaN    397252\n",
       "0       18888\n",
       "1        2020\n",
       "Name: count, dtype: int64"
      ]
     },
     "execution_count": 302,
     "metadata": {},
     "output_type": "execute_result"
    }
   ],
   "source": [
    "# create a variable called 'buyer_yes' that has value 1 when buyer == 'yes', has value 0 when buyer == 'no' and has value np.nan when buyer.isna() is True\n",
    "tuango[\"buyer_yes\"] = tuango[\"buyer\"].apply(lambda x: 1 if x == 'yes' else (0 if x == 'no' else np.nan))\n",
    "\n",
    "# you can check that you have this set up correctly using the command below\n",
    "tuango.buyer_yes.value_counts(dropna=False)"
   ]
  },
  {
   "cell_type": "code",
   "execution_count": 303,
   "metadata": {},
   "outputs": [
    {
     "data": {
      "text/html": [
       "<div>\n",
       "<style scoped>\n",
       "    .dataframe tbody tr th:only-of-type {\n",
       "        vertical-align: middle;\n",
       "    }\n",
       "\n",
       "    .dataframe tbody tr th {\n",
       "        vertical-align: top;\n",
       "    }\n",
       "\n",
       "    .dataframe thead th {\n",
       "        text-align: right;\n",
       "    }\n",
       "</style>\n",
       "<table border=\"1\" class=\"dataframe\">\n",
       "  <thead>\n",
       "    <tr style=\"text-align: right;\">\n",
       "      <th></th>\n",
       "      <th>userid</th>\n",
       "      <th>buyer</th>\n",
       "      <th>ordersize</th>\n",
       "      <th>recency</th>\n",
       "      <th>frequency</th>\n",
       "      <th>monetary</th>\n",
       "      <th>age</th>\n",
       "      <th>gender</th>\n",
       "      <th>music</th>\n",
       "      <th>training</th>\n",
       "      <th>test</th>\n",
       "      <th>buyer_yes</th>\n",
       "    </tr>\n",
       "  </thead>\n",
       "  <tbody>\n",
       "    <tr>\n",
       "      <th>0</th>\n",
       "      <td>U15889344</td>\n",
       "      <td>no</td>\n",
       "      <td>0.0</td>\n",
       "      <td>309</td>\n",
       "      <td>7.0</td>\n",
       "      <td>39.799999</td>\n",
       "      <td>44</td>\n",
       "      <td>F</td>\n",
       "      <td>yes</td>\n",
       "      <td>0.0</td>\n",
       "      <td>1</td>\n",
       "      <td>0</td>\n",
       "    </tr>\n",
       "    <tr>\n",
       "      <th>1</th>\n",
       "      <td>U60246497</td>\n",
       "      <td>no</td>\n",
       "      <td>0.0</td>\n",
       "      <td>297</td>\n",
       "      <td>8.0</td>\n",
       "      <td>39.799999</td>\n",
       "      <td>80</td>\n",
       "      <td>M</td>\n",
       "      <td>yes</td>\n",
       "      <td>1.0</td>\n",
       "      <td>1</td>\n",
       "      <td>0</td>\n",
       "    </tr>\n",
       "    <tr>\n",
       "      <th>2</th>\n",
       "      <td>U22965759</td>\n",
       "      <td>no</td>\n",
       "      <td>0.0</td>\n",
       "      <td>295</td>\n",
       "      <td>1.0</td>\n",
       "      <td>72.900002</td>\n",
       "      <td>59</td>\n",
       "      <td>F</td>\n",
       "      <td>yes</td>\n",
       "      <td>1.0</td>\n",
       "      <td>1</td>\n",
       "      <td>0</td>\n",
       "    </tr>\n",
       "    <tr>\n",
       "      <th>3</th>\n",
       "      <td>U40811142</td>\n",
       "      <td>no</td>\n",
       "      <td>0.0</td>\n",
       "      <td>277</td>\n",
       "      <td>1.0</td>\n",
       "      <td>40.000000</td>\n",
       "      <td>37</td>\n",
       "      <td>F</td>\n",
       "      <td>yes</td>\n",
       "      <td>0.0</td>\n",
       "      <td>1</td>\n",
       "      <td>0</td>\n",
       "    </tr>\n",
       "    <tr>\n",
       "      <th>4</th>\n",
       "      <td>U76283952</td>\n",
       "      <td>no</td>\n",
       "      <td>0.0</td>\n",
       "      <td>259</td>\n",
       "      <td>1.0</td>\n",
       "      <td>21.000000</td>\n",
       "      <td>43</td>\n",
       "      <td>F</td>\n",
       "      <td>yes</td>\n",
       "      <td>1.0</td>\n",
       "      <td>1</td>\n",
       "      <td>0</td>\n",
       "    </tr>\n",
       "  </tbody>\n",
       "</table>\n",
       "</div>"
      ],
      "text/plain": [
       "      userid buyer  ordersize  recency  frequency   monetary  age gender  \\\n",
       "0  U15889344    no        0.0      309        7.0  39.799999   44      F   \n",
       "1  U60246497    no        0.0      297        8.0  39.799999   80      M   \n",
       "2  U22965759    no        0.0      295        1.0  72.900002   59      F   \n",
       "3  U40811142    no        0.0      277        1.0  40.000000   37      F   \n",
       "4  U76283952    no        0.0      259        1.0  21.000000   43      F   \n",
       "\n",
       "  music  training  test buyer_yes  \n",
       "0   yes       0.0     1         0  \n",
       "1   yes       1.0     1         0  \n",
       "2   yes       1.0     1         0  \n",
       "3   yes       0.0     1         0  \n",
       "4   yes       1.0     1         0  "
      ]
     },
     "execution_count": 303,
     "metadata": {},
     "output_type": "execute_result"
    }
   ],
   "source": [
    "tuango.head()"
   ]
  },
  {
   "attachments": {},
   "cell_type": "markdown",
   "metadata": {},
   "source": [
    "## Part I:  Preliminary Analysis\n",
    "\n",
    "### Question 1\n",
    "\n",
    "What proportion of customers responded to the deal offer message (i.e., bought the deal)?"
   ]
  },
  {
   "cell_type": "code",
   "execution_count": 304,
   "metadata": {},
   "outputs": [
    {
     "data": {
      "text/plain": [
       "0.09661373636885402"
      ]
     },
     "execution_count": 304,
     "metadata": {},
     "output_type": "execute_result"
    }
   ],
   "source": [
    "# insert calculation code here\n",
    "# the result should be expressed as a proportion/decimal\n",
    "# assign the calculated number to \"q1\"\n",
    "# there is no need to round the result\n",
    "\n",
    "total_responses = tuango[\"buyer\"].notna().sum()\n",
    "\n",
    "# Number of \"yes\" responses\n",
    "yes_responses = (tuango[\"buyer\"] == \"yes\").sum()\n",
    "\n",
    "# Proportion of buyers\n",
    "q1 = yes_responses / total_responses\n",
    "\n",
    "# The result is stored in q1\n",
    "q1"
   ]
  },
  {
   "attachments": {},
   "cell_type": "markdown",
   "metadata": {},
   "source": [
    "### Question 2\n",
    "\n",
    "What was the average number of karaoke sessions purchased by customers that bought one or more 30-minute sessions? Use the “ordersize” variable for your calculation (2 points)\n"
   ]
  },
  {
   "cell_type": "code",
   "execution_count": 305,
   "metadata": {},
   "outputs": [
    {
     "name": "stdout",
     "output_type": "stream",
     "text": [
      "ordersize    3.941089\n",
      "Name: yes, dtype: float64\n"
     ]
    },
    {
     "data": {
      "text/html": [
       "<div>\n",
       "<style scoped>\n",
       "    .dataframe tbody tr th:only-of-type {\n",
       "        vertical-align: middle;\n",
       "    }\n",
       "\n",
       "    .dataframe tbody tr th {\n",
       "        vertical-align: top;\n",
       "    }\n",
       "\n",
       "    .dataframe thead tr th {\n",
       "        text-align: left;\n",
       "    }\n",
       "\n",
       "    .dataframe thead tr:last-of-type th {\n",
       "        text-align: right;\n",
       "    }\n",
       "</style>\n",
       "<table border=\"1\" class=\"dataframe\">\n",
       "  <thead>\n",
       "    <tr>\n",
       "      <th></th>\n",
       "      <th>count</th>\n",
       "      <th>mean</th>\n",
       "      <th>std</th>\n",
       "    </tr>\n",
       "    <tr>\n",
       "      <th></th>\n",
       "      <th>ordersize</th>\n",
       "      <th>ordersize</th>\n",
       "      <th>ordersize</th>\n",
       "    </tr>\n",
       "    <tr>\n",
       "      <th>buyer</th>\n",
       "      <th></th>\n",
       "      <th></th>\n",
       "      <th></th>\n",
       "    </tr>\n",
       "  </thead>\n",
       "  <tbody>\n",
       "    <tr>\n",
       "      <th>yes</th>\n",
       "      <td>2020</td>\n",
       "      <td>3.941089</td>\n",
       "      <td>1.701904</td>\n",
       "    </tr>\n",
       "    <tr>\n",
       "      <th>no</th>\n",
       "      <td>18888</td>\n",
       "      <td>0.000000</td>\n",
       "      <td>0.000000</td>\n",
       "    </tr>\n",
       "  </tbody>\n",
       "</table>\n",
       "</div>"
      ],
      "text/plain": [
       "          count      mean       std\n",
       "      ordersize ordersize ordersize\n",
       "buyer                              \n",
       "yes        2020  3.941089  1.701904\n",
       "no        18888  0.000000  0.000000"
      ]
     },
     "execution_count": 305,
     "metadata": {},
     "output_type": "execute_result"
    }
   ],
   "source": [
    "# insert calculation code here to create a pd.pivot_table that shows\n",
    "# (1) counts the number of yes and no (buyer), (2) the mean (ordersize), and\n",
    "# (3) the standard deviation in ordersize for yes and no responses\n",
    "q2 = tuango.pivot_table(index='buyer', values='ordersize', aggfunc=['count', 'mean', 'std'], observed=True)\n",
    "# the below should show your result\n",
    "# do not apply any rounding to your answer\n",
    "print(q2.loc[\"yes\", \"mean\"])\n",
    "q2"
   ]
  },
  {
   "attachments": {},
   "cell_type": "markdown",
   "metadata": {},
   "source": [
    "## Part II: Building Targeting Models\n",
    "### Question 3\n",
    "\n",
    "Estimate a logistic regression model using “buyer” as the response variable (aka target or dependent variable) and, recency, frequency, monetary, age, gender, and music as the explanatory variables (aka features or independent variables)"
   ]
  },
  {
   "cell_type": "code",
   "execution_count": 306,
   "metadata": {},
   "outputs": [
    {
     "name": "stdout",
     "output_type": "stream",
     "text": [
      "Logistic regression (GLM)\n",
      "Data                 : tuango\n",
      "Response variable    : buyer\n",
      "Level                : yes\n",
      "Explanatory variables: recency, frequency, monetary, age, gender, music\n",
      "Null hyp.: There is no effect of x on buyer\n",
      "Alt. hyp.: There is an effect of x on buyer\n",
      "\n",
      "               OR     OR%  coefficient  std.error  z.value p.value     \n",
      "Intercept   0.051  -94.9%        -2.98      0.097  -30.768  < .001  ***\n",
      "gender[F]   1.731   73.1%         0.55      0.054   10.073  < .001  ***\n",
      "gender[O]   1.078    7.8%         0.07      0.128    0.584   0.559     \n",
      "music[yes]  1.908   90.8%         0.65      0.059   10.912  < .001  ***\n",
      "recency     0.999   -0.1%        -0.00      0.000   -3.292  < .001  ***\n",
      "frequency   1.114   11.4%         0.11      0.010   10.861  < .001  ***\n",
      "monetary    1.002    0.2%         0.00      0.000   12.499  < .001  ***\n",
      "age         0.988   -1.2%        -0.01      0.001   -9.115  < .001  ***\n",
      "\n",
      "Signif. codes:  0 '***' 0.001 '**' 0.01 '*' 0.05 '.' 0.1 ' ' 1\n",
      "\n",
      "Pseudo R-squared (McFadden): 0.046\n",
      "Pseudo R-squared (McFadden adjusted): 0.045\n",
      "Area under the RO Curve (AUC): 0.657\n",
      "Log-likelihood: -6334.179, AIC: 12684.358, BIC: 12747.941\n",
      "Chi-squared: 611.493, df(7), p.value < 0.001 \n",
      "Nr obs: 20,908\n"
     ]
    }
   ],
   "source": [
    "clf = rsm.model.logistic(\n",
    "    data={\"tuango\": tuango},\n",
    "    rvar=\"buyer\",\n",
    "    lev=\"yes\",\n",
    "    evar=[\n",
    "        \"recency\",\n",
    "        \"frequency\",\n",
    "        \"monetary\",\n",
    "        \"age\",\n",
    "        \"gender\",\n",
    "        \"music\",\n",
    "    ],\n",
    ")\n",
    "clf.summary()"
   ]
  },
  {
   "attachments": {},
   "cell_type": "markdown",
   "metadata": {},
   "source": [
    "### Question 4\n",
    "\n",
    "Create Prediction plots for all explanatory variables. Describe the effect of each explanatory variable on the probability that a customer will purchase the karaoke deal"
   ]
  },
  {
   "cell_type": "code",
   "execution_count": 307,
   "metadata": {},
   "outputs": [
    {
     "data": {
      "image/png": "[encoded data removed]",
      "text/plain": [
       "<Figure size 1000x1200 with 6 Axes>"
      ]
     },
     "metadata": {},
     "output_type": "display_data"
    }
   ],
   "source": [
    "clf.plot(\"pred\")"
   ]
  },
  {
   "cell_type": "markdown",
   "metadata": {},
   "source": [
    "•\tFrequency, monetary, and music have a **positive** effect, where higher values increase the probability of purchase.\n",
    "\n",
    "•\tRecency and age have a **negative** effect, where higher values decrease the probability of purchase.\n",
    "\n",
    "•\tGender shows that females are the most likely group to purchase, followed by “other,” with males being the least likely.\n",
    "\n",
    "These results align with common marketing principles: recent, frequent, and high-spending customers who are aligned with the product’s target demographic (younger, female, and music-loving) are the most likely to purchase."
   ]
  },
  {
   "attachments": {},
   "cell_type": "markdown",
   "metadata": {},
   "source": [
    "### Question 5\n",
    "\n",
    "Use Permutation Importance to assess variable importance. Which variables seem to be most and least important in the model? Explain how Permutation Importance allows you to evaluate variable importance."
   ]
  },
  {
   "cell_type": "code",
   "execution_count": 308,
   "metadata": {},
   "outputs": [
    {
     "data": {
      "image/png": "[encoded data removed]",
      "text/plain": [
       "<Figure size 600x500 with 1 Axes>"
      ]
     },
     "metadata": {},
     "output_type": "display_data"
    }
   ],
   "source": [
    "clf.plot(\"vimp\") # variable importance"
   ]
  },
  {
   "cell_type": "markdown",
   "metadata": {},
   "source": [
    "**Music** is the most while **recency** is the least important variable in the model. \n",
    "\n",
    "Permutation Importance is an intuitive and effective method for quantifying the contribution of each feature to a model’s predictions. It works by isolating each feature’s influence and measuring the impact of its absence (via shuffling) on the model’s performance."
   ]
  },
  {
   "attachments": {},
   "cell_type": "markdown",
   "metadata": {},
   "source": [
    "### Question 6\n",
    "\n",
    "Add the predicted values from the logistic regression to the \"tuango\" DataFrame. Use \"pred_logit\" as the variable name. Compare the average of the predicted values to the overall response rate (i.e., proportion of buyers). What do you notice when you do this calculation using only the data used to estimate the model? Explain."
   ]
  },
  {
   "cell_type": "code",
   "execution_count": 309,
   "metadata": {},
   "outputs": [
    {
     "data": {
      "text/plain": [
       "0    0.141318\n",
       "1    0.064122\n",
       "2    0.072710\n",
       "3    0.088488\n",
       "4    0.080623\n",
       "Name: pred_logit, dtype: float64"
      ]
     },
     "execution_count": 309,
     "metadata": {},
     "output_type": "execute_result"
    }
   ],
   "source": [
    "tuango[\"pred_logit\"] = clf.predict()[\"prediction\"]\n",
    "tuango[\"pred_logit\"].head()"
   ]
  },
  {
   "cell_type": "code",
   "execution_count": 310,
   "metadata": {},
   "outputs": [
    {
     "data": {
      "text/plain": [
       "0.09659991341853146"
      ]
     },
     "execution_count": 310,
     "metadata": {},
     "output_type": "execute_result"
    }
   ],
   "source": [
    "average_ordersize_logit = tuango[\"pred_logit\"].mean()\n",
    "average_ordersize_logit"
   ]
  },
  {
   "cell_type": "code",
   "execution_count": 311,
   "metadata": {},
   "outputs": [
    {
     "data": {
      "text/plain": [
       "0.09661373636885402"
      ]
     },
     "execution_count": 311,
     "metadata": {},
     "output_type": "execute_result"
    }
   ],
   "source": [
    "q1"
   ]
  },
  {
   "cell_type": "code",
   "execution_count": 312,
   "metadata": {},
   "outputs": [
    {
     "name": "stdout",
     "output_type": "stream",
     "text": [
      "Logistic regression (GLM)\n",
      "Data                 : tuango\n",
      "Response variable    : buyer\n",
      "Level                : yes\n",
      "Explanatory variables: recency, frequency, monetary, age, gender, music\n",
      "Null hyp.: There is no effect of x on buyer\n",
      "Alt. hyp.: There is an effect of x on buyer\n",
      "\n",
      "               OR     OR%  coefficient  std.error  z.value p.value     \n",
      "Intercept   0.051  -94.9%        -2.98      0.097  -30.768  < .001  ***\n",
      "gender[F]   1.731   73.1%         0.55      0.054   10.073  < .001  ***\n",
      "gender[O]   1.078    7.8%         0.07      0.128    0.584   0.559     \n",
      "music[yes]  1.908   90.8%         0.65      0.059   10.912  < .001  ***\n",
      "recency     0.999   -0.1%        -0.00      0.000   -3.292  < .001  ***\n",
      "frequency   1.114   11.4%         0.11      0.010   10.861  < .001  ***\n",
      "monetary    1.002    0.2%         0.00      0.000   12.499  < .001  ***\n",
      "age         0.988   -1.2%        -0.01      0.001   -9.115  < .001  ***\n",
      "\n",
      "Signif. codes:  0 '***' 0.001 '**' 0.01 '*' 0.05 '.' 0.1 ' ' 1\n",
      "\n",
      "Pseudo R-squared (McFadden): 0.046\n",
      "Pseudo R-squared (McFadden adjusted): 0.045\n",
      "Area under the RO Curve (AUC): 0.657\n",
      "Log-likelihood: -6334.179, AIC: 12684.358, BIC: 12747.941\n",
      "Chi-squared: 611.493, df(7), p.value < 0.001 \n",
      "Nr obs: 20,908\n"
     ]
    }
   ],
   "source": [
    "clf.summary()"
   ]
  },
  {
   "cell_type": "markdown",
   "metadata": {},
   "source": [
    "The weak performance of the model is a key reason it cannot explain much variance in the data. The ***Pseudo R-squared (McFadden): 0.046*** confirms that the model explains only 4.6% of the variance in the response variable, ***which is quite low***.\n",
    "\n",
    "•\tAn AUC of 0.657 indicates that the model’s ability to distinguish buyers from non-buyers is moderate at best. This suggests that the explanatory variables do not strongly predict purchase behavior.\n",
    "\n",
    "•\tSome predictors have statistically significant effects, but their magnitude is small, meaning they contribute little to explaining purchase likelihood\n",
    "\n",
    "•\tThe model may be missing key variables (e.g., customer preferences, product-specific factors) that could better explain buyer behavior.\n",
    "\n",
    "•\tIf the proportion of buyers (buyer == yes) is small, logistic regression may struggle to capture variability due to the dominance of non-buyers in the data."
   ]
  },
  {
   "attachments": {},
   "cell_type": "markdown",
   "metadata": {},
   "source": [
    "### Question 7\n",
    "\n",
    "Estimate a linear regression model using \"ordersize\" as the response variable and recency, frequency, monetary, age, gender, and music as the explanatory variables. Estimate this regression ***using only those customers who placed an order after the deal offer message***. Describe why you think it does, or does not, make sense to focus on this group of customers"
   ]
  },
  {
   "cell_type": "code",
   "execution_count": 313,
   "metadata": {},
   "outputs": [],
   "source": [
    "tuango_buyer = tuango[tuango[\"buyer\"] == \"yes\"]"
   ]
  },
  {
   "cell_type": "code",
   "execution_count": 314,
   "metadata": {},
   "outputs": [
    {
     "data": {
      "text/html": [
       "<div>\n",
       "<style scoped>\n",
       "    .dataframe tbody tr th:only-of-type {\n",
       "        vertical-align: middle;\n",
       "    }\n",
       "\n",
       "    .dataframe tbody tr th {\n",
       "        vertical-align: top;\n",
       "    }\n",
       "\n",
       "    .dataframe thead th {\n",
       "        text-align: right;\n",
       "    }\n",
       "</style>\n",
       "<table border=\"1\" class=\"dataframe\">\n",
       "  <thead>\n",
       "    <tr style=\"text-align: right;\">\n",
       "      <th></th>\n",
       "      <th>userid</th>\n",
       "      <th>buyer</th>\n",
       "      <th>ordersize</th>\n",
       "      <th>recency</th>\n",
       "      <th>frequency</th>\n",
       "      <th>monetary</th>\n",
       "      <th>age</th>\n",
       "      <th>gender</th>\n",
       "      <th>music</th>\n",
       "      <th>training</th>\n",
       "      <th>test</th>\n",
       "      <th>buyer_yes</th>\n",
       "      <th>pred_logit</th>\n",
       "    </tr>\n",
       "  </thead>\n",
       "  <tbody>\n",
       "    <tr>\n",
       "      <th>8</th>\n",
       "      <td>U79932394</td>\n",
       "      <td>yes</td>\n",
       "      <td>4.0</td>\n",
       "      <td>212</td>\n",
       "      <td>1.0</td>\n",
       "      <td>19.900000</td>\n",
       "      <td>59</td>\n",
       "      <td>F</td>\n",
       "      <td>yes</td>\n",
       "      <td>1.0</td>\n",
       "      <td>1</td>\n",
       "      <td>1</td>\n",
       "      <td>0.070039</td>\n",
       "    </tr>\n",
       "    <tr>\n",
       "      <th>14</th>\n",
       "      <td>U73924857</td>\n",
       "      <td>yes</td>\n",
       "      <td>5.0</td>\n",
       "      <td>177</td>\n",
       "      <td>10.0</td>\n",
       "      <td>40.000000</td>\n",
       "      <td>41</td>\n",
       "      <td>F</td>\n",
       "      <td>yes</td>\n",
       "      <td>1.0</td>\n",
       "      <td>1</td>\n",
       "      <td>1</td>\n",
       "      <td>0.213864</td>\n",
       "    </tr>\n",
       "    <tr>\n",
       "      <th>29</th>\n",
       "      <td>U74007327</td>\n",
       "      <td>yes</td>\n",
       "      <td>5.0</td>\n",
       "      <td>107</td>\n",
       "      <td>1.0</td>\n",
       "      <td>72.000000</td>\n",
       "      <td>26</td>\n",
       "      <td>O</td>\n",
       "      <td>yes</td>\n",
       "      <td>0.0</td>\n",
       "      <td>1</td>\n",
       "      <td>1</td>\n",
       "      <td>0.082310</td>\n",
       "    </tr>\n",
       "    <tr>\n",
       "      <th>34</th>\n",
       "      <td>U17047572</td>\n",
       "      <td>yes</td>\n",
       "      <td>3.0</td>\n",
       "      <td>101</td>\n",
       "      <td>4.0</td>\n",
       "      <td>70.000000</td>\n",
       "      <td>56</td>\n",
       "      <td>F</td>\n",
       "      <td>yes</td>\n",
       "      <td>0.0</td>\n",
       "      <td>1</td>\n",
       "      <td>1</td>\n",
       "      <td>0.120792</td>\n",
       "    </tr>\n",
       "    <tr>\n",
       "      <th>49</th>\n",
       "      <td>U67414450</td>\n",
       "      <td>yes</td>\n",
       "      <td>4.0</td>\n",
       "      <td>50</td>\n",
       "      <td>1.0</td>\n",
       "      <td>65.599998</td>\n",
       "      <td>20</td>\n",
       "      <td>F</td>\n",
       "      <td>yes</td>\n",
       "      <td>1.0</td>\n",
       "      <td>1</td>\n",
       "      <td>1</td>\n",
       "      <td>0.139709</td>\n",
       "    </tr>\n",
       "  </tbody>\n",
       "</table>\n",
       "</div>"
      ],
      "text/plain": [
       "       userid buyer  ordersize  recency  frequency   monetary  age gender  \\\n",
       "8   U79932394   yes        4.0      212        1.0  19.900000   59      F   \n",
       "14  U73924857   yes        5.0      177       10.0  40.000000   41      F   \n",
       "29  U74007327   yes        5.0      107        1.0  72.000000   26      O   \n",
       "34  U17047572   yes        3.0      101        4.0  70.000000   56      F   \n",
       "49  U67414450   yes        4.0       50        1.0  65.599998   20      F   \n",
       "\n",
       "   music  training  test buyer_yes  pred_logit  \n",
       "8    yes       1.0     1         1    0.070039  \n",
       "14   yes       1.0     1         1    0.213864  \n",
       "29   yes       0.0     1         1    0.082310  \n",
       "34   yes       0.0     1         1    0.120792  \n",
       "49   yes       1.0     1         1    0.139709  "
      ]
     },
     "execution_count": 314,
     "metadata": {},
     "output_type": "execute_result"
    }
   ],
   "source": [
    "tuango_buyer.head()"
   ]
  },
  {
   "cell_type": "code",
   "execution_count": 315,
   "metadata": {},
   "outputs": [
    {
     "name": "stdout",
     "output_type": "stream",
     "text": [
      "Linear regression (OLS)\n",
      "Data                 : tuango_buyer\n",
      "Response variable    : ordersize\n",
      "Explanatory variables: recency, frequency, monetary, age, gender, music\n",
      "Null hyp.: the effect of x on ordersize is zero\n",
      "Alt. hyp.: the effect of x on ordersize is not zero\n",
      "\n",
      "            coefficient  std.error  t.value p.value     \n",
      "Intercept         3.665      0.174   21.104  < .001  ***\n",
      "gender[F]         0.126      0.089    1.425   0.154     \n",
      "gender[O]         0.259      0.208    1.243   0.214     \n",
      "music[yes]        0.025      0.097    0.255   0.799     \n",
      "recency           0.000      0.001    0.591   0.555     \n",
      "frequency         0.023      0.016    1.456   0.145     \n",
      "monetary          0.000      0.000    1.035   0.301     \n",
      "age               0.001      0.003    0.389   0.697     \n",
      "\n",
      "Signif. codes:  0 '***' 0.001 '**' 0.01 '*' 0.05 '.' 0.1 ' ' 1\n",
      "\n",
      "R-squared: 0.003, Adjusted R-squared: -0.0\n",
      "F-statistic: 0.939 df(7, 2012), p.value 0.475\n",
      "Nr obs: 2,020\n"
     ]
    }
   ],
   "source": [
    "reg = rsm.model.regress(data={\"tuango_buyer\": tuango_buyer}, rvar=\"ordersize\", evar=[\n",
    "        \"recency\",\n",
    "        \"frequency\",\n",
    "        \"monetary\",\n",
    "        \"age\",\n",
    "        \"gender\",\n",
    "        \"music\",\n",
    "    ])\n",
    "reg.summary()"
   ]
  },
  {
   "cell_type": "markdown",
   "metadata": {},
   "source": [
    "Focusing only on buyers ***does not make sense*** because:\n",
    "\n",
    "1.\tSelection Bias: Excludes non-buyers, making the results unrepresentative of the broader customer base.\n",
    "\n",
    "2.\tWeak Model Performance: The model explains only 0.3% of the variance in ordersize ***(R-squared = 0.003)*** and has no significant predictors.\n",
    "    \n",
    "3.\tMissed Insights: Ignores why some customers did not purchase, which is crucial for improving targeting strategies.\n",
    "\n",
    "It only makes sense if the goal is to study differences in purchase volume among buyers, not overall customer behavior."
   ]
  },
  {
   "attachments": {},
   "cell_type": "markdown",
   "metadata": {},
   "source": [
    "### Question 8\n",
    "\n",
    "Use Permutation Importance to assess variable importance. Which variables seem to be most important in the model?"
   ]
  },
  {
   "cell_type": "code",
   "execution_count": 316,
   "metadata": {},
   "outputs": [
    {
     "data": {
      "image/png": "[encoded data removed]",
      "text/plain": [
       "<Figure size 600x500 with 1 Axes>"
      ]
     },
     "metadata": {},
     "output_type": "display_data"
    }
   ],
   "source": [
    "reg.plot(\"vimp\") # variable importance"
   ]
  },
  {
   "cell_type": "markdown",
   "metadata": {},
   "source": [
    "**Gender** is the most while **music** is the least important variable in the model"
   ]
  },
  {
   "attachments": {},
   "cell_type": "markdown",
   "metadata": {},
   "source": [
    "### Question 9\n",
    "\n",
    "What do the linear regression model results suggest about our ability to predict ordersize for customers who responded to the deal?"
   ]
  },
  {
   "cell_type": "markdown",
   "metadata": {},
   "source": [
    "The linear regression model results suggest that the model performs ***very poorly*** in predicting ordersize (number of sessions purchased) for customers who responded to the deal."
   ]
  },
  {
   "cell_type": "markdown",
   "metadata": {},
   "source": [
    "•\tR-squared = 0.003, so the model explains only ***0.3% of the variance*** in ordersize, which is ***negligible***.\n",
    "\n",
    "•\tNone of the predictors are statistically significant (***p > 0.05*** for all)"
   ]
  },
  {
   "attachments": {},
   "cell_type": "markdown",
   "metadata": {},
   "source": [
    "### Question 10\n",
    "\n",
    "Add the predicted values from the linear regression to the \"tuango\" data.frame. Compare the average of the predicted values to the average value of ordersize. Make sure to focus only on buyers. What do you notice?"
   ]
  },
  {
   "cell_type": "code",
   "execution_count": 317,
   "metadata": {},
   "outputs": [
    {
     "name": "stderr",
     "output_type": "stream",
     "text": [
      "/tmp/ipykernel_75510/2564032090.py:1: SettingWithCopyWarning: \n",
      "A value is trying to be set on a copy of a slice from a DataFrame.\n",
      "Try using .loc[row_indexer,col_indexer] = value instead\n",
      "\n",
      "See the caveats in the documentation: https://pandas.pydata.org/pandas-docs/stable/user_guide/indexing.html#returning-a-view-versus-a-copy\n",
      "  tuango_buyer[\"pred_linear\"] = reg.predict()[\"prediction\"]\n"
     ]
    },
    {
     "data": {
      "text/plain": [
       "8     3.974319\n",
       "14    4.153051\n",
       "29    4.046473\n",
       "34    4.015176\n",
       "49    3.888904\n",
       "Name: pred_linear, dtype: float64"
      ]
     },
     "execution_count": 317,
     "metadata": {},
     "output_type": "execute_result"
    }
   ],
   "source": [
    "tuango_buyer[\"pred_linear\"] = reg.predict()[\"prediction\"]\n",
    "tuango_buyer[\"pred_linear\"].head()"
   ]
  },
  {
   "cell_type": "code",
   "execution_count": 318,
   "metadata": {},
   "outputs": [
    {
     "data": {
      "text/plain": [
       "3.941089108910902"
      ]
     },
     "execution_count": 318,
     "metadata": {},
     "output_type": "execute_result"
    }
   ],
   "source": [
    "tuango_buyer[\"pred_linear\"].mean()"
   ]
  },
  {
   "cell_type": "code",
   "execution_count": 319,
   "metadata": {},
   "outputs": [
    {
     "data": {
      "text/plain": [
       "3.9410891089108913"
      ]
     },
     "execution_count": 319,
     "metadata": {},
     "output_type": "execute_result"
    }
   ],
   "source": [
    "q2.loc[\"yes\", (\"mean\", \"ordersize\")]"
   ]
  },
  {
   "cell_type": "markdown",
   "metadata": {},
   "source": [
    "The average of the predicted values is ***almost identical*** to the average of the actual ordersize values for buyers.\n",
    "\n",
    "1.\tWeak Model Performance:\n",
    "\n",
    "•\tThe model explains only ***0.3%*** of the variance in ordersize (R-squared = 0.003). The predictors have ***almost no effect***, so the model essentially predicts the mean value of ordersize for all buyers, regardless of the inputs.\n",
    "\n",
    "2.\tLinear Regression Tendency:\n",
    "\n",
    "•\tLinear regression minimizes the sum of squared errors, so when the predictors lack explanatory power, the model defaults to predicting the mean of the response variable (ordersize) for all observations.\n",
    "\n",
    "3.\tLack of Predictive Power:\n",
    "\n",
    "•\tSince none of the predictors significantly impact ordersize, the model doesn’t provide individualized predictions. It just replicates the overall mean, leading to nearly identical averages."
   ]
  },
  {
   "attachments": {},
   "cell_type": "markdown",
   "metadata": {},
   "source": [
    "## Part III: Profitability Analysis\n",
    "\n",
    "The following questions focus on the profit and return on marketing expenditures from offering the deal to (some of) the remaining 397,252 potential customers in Hangzhou (i.e., 418,160 – 20,908).\n",
    "\n",
    "To calculate profit and return on marketing expenditures assume the following:\n",
    "- Price per 30-minute session is 49 RMB\n",
    "- Marginal cost of sending a deal offer message is 9 RMB\n",
    "- Tuango’s fee on each deal sold is 50% of sales revenues\n",
    "\n",
    "### Question 11\n",
    "\n",
    "What is the breakeven response rate? Use the average ordersize from question 2 in your revenue calculations."
   ]
  },
  {
   "cell_type": "code",
   "execution_count": 320,
   "metadata": {},
   "outputs": [
    {
     "data": {
      "text/plain": [
       "0.09320949834524941"
      ]
     },
     "execution_count": 320,
     "metadata": {},
     "output_type": "execute_result"
    }
   ],
   "source": [
    "# state your assumptions that are relevant to calculate\n",
    "# the breakeven response rate\n",
    "# breakeven should be of type `float`\n",
    "margin = 49 # float\n",
    "cost = 9 # float\n",
    "average_ordersize = q2.loc[\"yes\", (\"mean\", \"ordersize\")]\n",
    "breakeven = cost / (0.5 * margin * average_ordersize) # float, do not apply rounding, do not express as a percentage\n",
    "q11 = breakeven # float, DO NOT APPLY ROUNDING, do not express as a percentage\n",
    "q11"
   ]
  },
  {
   "attachments": {},
   "cell_type": "markdown",
   "metadata": {
    "lines_to_next_cell": 2
   },
   "source": [
    "### Question 12\n",
    "\n",
    "What is the projected profit in RMB and the return on marketing expenditures if you offer the deal to all 397,252 remaining customers (i.e., target everyone)?"
   ]
  },
  {
   "cell_type": "code",
   "execution_count": 321,
   "metadata": {},
   "outputs": [
    {
     "data": {
      "text/html": [
       "<div>\n",
       "<style scoped>\n",
       "    .dataframe tbody tr th:only-of-type {\n",
       "        vertical-align: middle;\n",
       "    }\n",
       "\n",
       "    .dataframe tbody tr th {\n",
       "        vertical-align: top;\n",
       "    }\n",
       "\n",
       "    .dataframe thead th {\n",
       "        text-align: right;\n",
       "    }\n",
       "</style>\n",
       "<table border=\"1\" class=\"dataframe\">\n",
       "  <thead>\n",
       "    <tr style=\"text-align: right;\">\n",
       "      <th></th>\n",
       "      <th>n_obs</th>\n",
       "      <th>perc</th>\n",
       "    </tr>\n",
       "    <tr>\n",
       "      <th>buyer</th>\n",
       "      <th></th>\n",
       "      <th></th>\n",
       "    </tr>\n",
       "  </thead>\n",
       "  <tbody>\n",
       "    <tr>\n",
       "      <th>yes</th>\n",
       "      <td>2020</td>\n",
       "      <td>0.096614</td>\n",
       "    </tr>\n",
       "    <tr>\n",
       "      <th>no</th>\n",
       "      <td>18888</td>\n",
       "      <td>0.903386</td>\n",
       "    </tr>\n",
       "  </tbody>\n",
       "</table>\n",
       "</div>"
      ],
      "text/plain": [
       "       n_obs      perc\n",
       "buyer                 \n",
       "yes     2020  0.096614\n",
       "no     18888  0.903386"
      ]
     },
     "execution_count": 321,
     "metadata": {},
     "output_type": "execute_result"
    }
   ],
   "source": [
    "ncust = tuango.groupby(\"buyer\", observed=False).buyer.agg(\"count\")\n",
    "response = pd.DataFrame(\n",
    "    {\n",
    "        \"n_obs\": ncust,\n",
    "        \"perc\": ncust.agg(lambda x: (x / x.sum())),\n",
    "    }\n",
    ")\n",
    "response"
   ]
  },
  {
   "cell_type": "code",
   "execution_count": 322,
   "metadata": {},
   "outputs": [
    {
     "data": {
      "text/plain": [
       "(397252,\n",
       " 3575268,\n",
       " 38380.0,\n",
       " 0.09661373636885402,\n",
       " 7411691.0,\n",
       " 130577.5,\n",
       " 0.036522436919414154)"
      ]
     },
     "execution_count": 322,
     "metadata": {},
     "output_type": "execute_result"
    }
   ],
   "source": [
    "# insert calculation code here\n",
    "# all variables should be numeric (integer or float) and of length 1\n",
    "# _all stands for 'targeting all'\n",
    "tuango[\"message_all\"] = True\n",
    "\n",
    "nr_message_all = 397252\n",
    "message_cost_all = nr_message_all * cost\n",
    "nr_responses_all = nr_message_all * response.loc['yes', 'perc']\n",
    "response_rate_all = response.loc['yes', 'perc']\n",
    "revenue_all = nr_responses_all * average_ordersize * margin\n",
    "profit_all = (0.5 * revenue_all) - message_cost_all\n",
    "ROME_all = profit_all / message_cost_all\n",
    "\n",
    "nr_message_all, message_cost_all, nr_responses_all, response_rate_all, revenue_all, profit_all, ROME_all"
   ]
  },
  {
   "attachments": {},
   "cell_type": "markdown",
   "metadata": {},
   "source": [
    "### Question 13\n",
    "\n",
    "Evaluate the performance implications of offering the deal to only those customers (out of 397,252) with a predicted probability of purchase greater than the breakeven response rate. Determine the projected profit in RMB and the return on marketing expenditures for both approaches. (6 points)\n",
    "\n",
    "Note: Fine tune your estimate from Q2 above by determining the average amount spent among the people that (1) will receive a message and (2) bought a karaoke deal. Also, use the actual number of messages you plan to send out to the group of customers in the rollout sample (i.e., “test == 0”)"
   ]
  },
  {
   "cell_type": "code",
   "execution_count": 323,
   "metadata": {},
   "outputs": [
    {
     "data": {
      "text/html": [
       "<div>\n",
       "<style scoped>\n",
       "    .dataframe tbody tr th:only-of-type {\n",
       "        vertical-align: middle;\n",
       "    }\n",
       "\n",
       "    .dataframe tbody tr th {\n",
       "        vertical-align: top;\n",
       "    }\n",
       "\n",
       "    .dataframe thead th {\n",
       "        text-align: right;\n",
       "    }\n",
       "</style>\n",
       "<table border=\"1\" class=\"dataframe\">\n",
       "  <thead>\n",
       "    <tr style=\"text-align: right;\">\n",
       "      <th></th>\n",
       "      <th>userid</th>\n",
       "      <th>buyer</th>\n",
       "      <th>ordersize</th>\n",
       "      <th>recency</th>\n",
       "      <th>frequency</th>\n",
       "      <th>monetary</th>\n",
       "      <th>age</th>\n",
       "      <th>gender</th>\n",
       "      <th>music</th>\n",
       "      <th>training</th>\n",
       "      <th>test</th>\n",
       "      <th>buyer_yes</th>\n",
       "      <th>pred_logit</th>\n",
       "      <th>message_all</th>\n",
       "    </tr>\n",
       "  </thead>\n",
       "  <tbody>\n",
       "    <tr>\n",
       "      <th>0</th>\n",
       "      <td>U15889344</td>\n",
       "      <td>no</td>\n",
       "      <td>0.0</td>\n",
       "      <td>309</td>\n",
       "      <td>7.0</td>\n",
       "      <td>39.799999</td>\n",
       "      <td>44</td>\n",
       "      <td>F</td>\n",
       "      <td>yes</td>\n",
       "      <td>0.0</td>\n",
       "      <td>1</td>\n",
       "      <td>0</td>\n",
       "      <td>0.141318</td>\n",
       "      <td>True</td>\n",
       "    </tr>\n",
       "    <tr>\n",
       "      <th>1</th>\n",
       "      <td>U60246497</td>\n",
       "      <td>no</td>\n",
       "      <td>0.0</td>\n",
       "      <td>297</td>\n",
       "      <td>8.0</td>\n",
       "      <td>39.799999</td>\n",
       "      <td>80</td>\n",
       "      <td>M</td>\n",
       "      <td>yes</td>\n",
       "      <td>1.0</td>\n",
       "      <td>1</td>\n",
       "      <td>0</td>\n",
       "      <td>0.064122</td>\n",
       "      <td>True</td>\n",
       "    </tr>\n",
       "    <tr>\n",
       "      <th>2</th>\n",
       "      <td>U22965759</td>\n",
       "      <td>no</td>\n",
       "      <td>0.0</td>\n",
       "      <td>295</td>\n",
       "      <td>1.0</td>\n",
       "      <td>72.900002</td>\n",
       "      <td>59</td>\n",
       "      <td>F</td>\n",
       "      <td>yes</td>\n",
       "      <td>1.0</td>\n",
       "      <td>1</td>\n",
       "      <td>0</td>\n",
       "      <td>0.072710</td>\n",
       "      <td>True</td>\n",
       "    </tr>\n",
       "    <tr>\n",
       "      <th>3</th>\n",
       "      <td>U40811142</td>\n",
       "      <td>no</td>\n",
       "      <td>0.0</td>\n",
       "      <td>277</td>\n",
       "      <td>1.0</td>\n",
       "      <td>40.000000</td>\n",
       "      <td>37</td>\n",
       "      <td>F</td>\n",
       "      <td>yes</td>\n",
       "      <td>0.0</td>\n",
       "      <td>1</td>\n",
       "      <td>0</td>\n",
       "      <td>0.088488</td>\n",
       "      <td>True</td>\n",
       "    </tr>\n",
       "    <tr>\n",
       "      <th>4</th>\n",
       "      <td>U76283952</td>\n",
       "      <td>no</td>\n",
       "      <td>0.0</td>\n",
       "      <td>259</td>\n",
       "      <td>1.0</td>\n",
       "      <td>21.000000</td>\n",
       "      <td>43</td>\n",
       "      <td>F</td>\n",
       "      <td>yes</td>\n",
       "      <td>1.0</td>\n",
       "      <td>1</td>\n",
       "      <td>0</td>\n",
       "      <td>0.080623</td>\n",
       "      <td>True</td>\n",
       "    </tr>\n",
       "  </tbody>\n",
       "</table>\n",
       "</div>"
      ],
      "text/plain": [
       "      userid buyer  ordersize  recency  frequency   monetary  age gender  \\\n",
       "0  U15889344    no        0.0      309        7.0  39.799999   44      F   \n",
       "1  U60246497    no        0.0      297        8.0  39.799999   80      M   \n",
       "2  U22965759    no        0.0      295        1.0  72.900002   59      F   \n",
       "3  U40811142    no        0.0      277        1.0  40.000000   37      F   \n",
       "4  U76283952    no        0.0      259        1.0  21.000000   43      F   \n",
       "\n",
       "  music  training  test buyer_yes  pred_logit  message_all  \n",
       "0   yes       0.0     1         0    0.141318         True  \n",
       "1   yes       1.0     1         0    0.064122         True  \n",
       "2   yes       1.0     1         0    0.072710         True  \n",
       "3   yes       0.0     1         0    0.088488         True  \n",
       "4   yes       1.0     1         0    0.080623         True  "
      ]
     },
     "execution_count": 323,
     "metadata": {},
     "output_type": "execute_result"
    }
   ],
   "source": [
    "tuango.head()"
   ]
  },
  {
   "cell_type": "code",
   "execution_count": 324,
   "metadata": {},
   "outputs": [
    {
     "data": {
      "text/html": [
       "<div>\n",
       "<style scoped>\n",
       "    .dataframe tbody tr th:only-of-type {\n",
       "        vertical-align: middle;\n",
       "    }\n",
       "\n",
       "    .dataframe tbody tr th {\n",
       "        vertical-align: top;\n",
       "    }\n",
       "\n",
       "    .dataframe thead th {\n",
       "        text-align: right;\n",
       "    }\n",
       "</style>\n",
       "<table border=\"1\" class=\"dataframe\">\n",
       "  <thead>\n",
       "    <tr style=\"text-align: right;\">\n",
       "      <th></th>\n",
       "      <th>n_obs</th>\n",
       "      <th>perc</th>\n",
       "    </tr>\n",
       "    <tr>\n",
       "      <th>message_logit</th>\n",
       "      <th></th>\n",
       "      <th></th>\n",
       "    </tr>\n",
       "  </thead>\n",
       "  <tbody>\n",
       "    <tr>\n",
       "      <th>False</th>\n",
       "      <td>244034</td>\n",
       "      <td>0.58359</td>\n",
       "    </tr>\n",
       "    <tr>\n",
       "      <th>True</th>\n",
       "      <td>174126</td>\n",
       "      <td>0.41641</td>\n",
       "    </tr>\n",
       "  </tbody>\n",
       "</table>\n",
       "</div>"
      ],
      "text/plain": [
       "                n_obs     perc\n",
       "message_logit                 \n",
       "False          244034  0.58359\n",
       "True           174126  0.41641"
      ]
     },
     "execution_count": 324,
     "metadata": {},
     "output_type": "execute_result"
    }
   ],
   "source": [
    "tuango[\"message_logit\"] = (tuango[\"pred_logit\"] > q11) & (tuango[\"test\"] == 0)\n",
    "ncust_exact = tuango.groupby(\"message_logit\", observed=False).message_logit.agg(\"count\")\n",
    "response_exact = pd.DataFrame(\n",
    "    {\n",
    "        \"n_obs\": ncust_exact,\n",
    "        \"perc\": ncust_exact.agg(lambda x: (x / x.sum())),\n",
    "    }\n",
    ")\n",
    "response_exact"
   ]
  },
  {
   "cell_type": "code",
   "execution_count": 325,
   "metadata": {},
   "outputs": [
    {
     "data": {
      "text/html": [
       "<div>\n",
       "<style scoped>\n",
       "    .dataframe tbody tr th:only-of-type {\n",
       "        vertical-align: middle;\n",
       "    }\n",
       "\n",
       "    .dataframe tbody tr th {\n",
       "        vertical-align: top;\n",
       "    }\n",
       "\n",
       "    .dataframe thead th {\n",
       "        text-align: right;\n",
       "    }\n",
       "</style>\n",
       "<table border=\"1\" class=\"dataframe\">\n",
       "  <thead>\n",
       "    <tr style=\"text-align: right;\">\n",
       "      <th></th>\n",
       "      <th>userid</th>\n",
       "      <th>buyer</th>\n",
       "      <th>ordersize</th>\n",
       "      <th>recency</th>\n",
       "      <th>frequency</th>\n",
       "      <th>monetary</th>\n",
       "      <th>age</th>\n",
       "      <th>gender</th>\n",
       "      <th>music</th>\n",
       "      <th>training</th>\n",
       "      <th>test</th>\n",
       "      <th>buyer_yes</th>\n",
       "      <th>pred_logit</th>\n",
       "      <th>message_all</th>\n",
       "      <th>message_logit</th>\n",
       "    </tr>\n",
       "  </thead>\n",
       "  <tbody>\n",
       "    <tr>\n",
       "      <th>0</th>\n",
       "      <td>U15889344</td>\n",
       "      <td>no</td>\n",
       "      <td>0.0</td>\n",
       "      <td>309</td>\n",
       "      <td>7.0</td>\n",
       "      <td>39.799999</td>\n",
       "      <td>44</td>\n",
       "      <td>F</td>\n",
       "      <td>yes</td>\n",
       "      <td>0.0</td>\n",
       "      <td>1</td>\n",
       "      <td>0</td>\n",
       "      <td>0.141318</td>\n",
       "      <td>True</td>\n",
       "      <td>False</td>\n",
       "    </tr>\n",
       "    <tr>\n",
       "      <th>1</th>\n",
       "      <td>U60246497</td>\n",
       "      <td>no</td>\n",
       "      <td>0.0</td>\n",
       "      <td>297</td>\n",
       "      <td>8.0</td>\n",
       "      <td>39.799999</td>\n",
       "      <td>80</td>\n",
       "      <td>M</td>\n",
       "      <td>yes</td>\n",
       "      <td>1.0</td>\n",
       "      <td>1</td>\n",
       "      <td>0</td>\n",
       "      <td>0.064122</td>\n",
       "      <td>True</td>\n",
       "      <td>False</td>\n",
       "    </tr>\n",
       "    <tr>\n",
       "      <th>2</th>\n",
       "      <td>U22965759</td>\n",
       "      <td>no</td>\n",
       "      <td>0.0</td>\n",
       "      <td>295</td>\n",
       "      <td>1.0</td>\n",
       "      <td>72.900002</td>\n",
       "      <td>59</td>\n",
       "      <td>F</td>\n",
       "      <td>yes</td>\n",
       "      <td>1.0</td>\n",
       "      <td>1</td>\n",
       "      <td>0</td>\n",
       "      <td>0.072710</td>\n",
       "      <td>True</td>\n",
       "      <td>False</td>\n",
       "    </tr>\n",
       "    <tr>\n",
       "      <th>3</th>\n",
       "      <td>U40811142</td>\n",
       "      <td>no</td>\n",
       "      <td>0.0</td>\n",
       "      <td>277</td>\n",
       "      <td>1.0</td>\n",
       "      <td>40.000000</td>\n",
       "      <td>37</td>\n",
       "      <td>F</td>\n",
       "      <td>yes</td>\n",
       "      <td>0.0</td>\n",
       "      <td>1</td>\n",
       "      <td>0</td>\n",
       "      <td>0.088488</td>\n",
       "      <td>True</td>\n",
       "      <td>False</td>\n",
       "    </tr>\n",
       "    <tr>\n",
       "      <th>4</th>\n",
       "      <td>U76283952</td>\n",
       "      <td>no</td>\n",
       "      <td>0.0</td>\n",
       "      <td>259</td>\n",
       "      <td>1.0</td>\n",
       "      <td>21.000000</td>\n",
       "      <td>43</td>\n",
       "      <td>F</td>\n",
       "      <td>yes</td>\n",
       "      <td>1.0</td>\n",
       "      <td>1</td>\n",
       "      <td>0</td>\n",
       "      <td>0.080623</td>\n",
       "      <td>True</td>\n",
       "      <td>False</td>\n",
       "    </tr>\n",
       "  </tbody>\n",
       "</table>\n",
       "</div>"
      ],
      "text/plain": [
       "      userid buyer  ordersize  recency  frequency   monetary  age gender  \\\n",
       "0  U15889344    no        0.0      309        7.0  39.799999   44      F   \n",
       "1  U60246497    no        0.0      297        8.0  39.799999   80      M   \n",
       "2  U22965759    no        0.0      295        1.0  72.900002   59      F   \n",
       "3  U40811142    no        0.0      277        1.0  40.000000   37      F   \n",
       "4  U76283952    no        0.0      259        1.0  21.000000   43      F   \n",
       "\n",
       "  music  training  test buyer_yes  pred_logit  message_all  message_logit  \n",
       "0   yes       0.0     1         0    0.141318         True          False  \n",
       "1   yes       1.0     1         0    0.064122         True          False  \n",
       "2   yes       1.0     1         0    0.072710         True          False  \n",
       "3   yes       0.0     1         0    0.088488         True          False  \n",
       "4   yes       1.0     1         0    0.080623         True          False  "
      ]
     },
     "execution_count": 325,
     "metadata": {},
     "output_type": "execute_result"
    }
   ],
   "source": [
    "tuango.head()"
   ]
  },
  {
   "cell_type": "code",
   "execution_count": 326,
   "metadata": {},
   "outputs": [
    {
     "data": {
      "text/plain": [
       "(174126,\n",
       " 1567134,\n",
       " 24441.801355587937,\n",
       " 0.14036847659504,\n",
       " 4720038.539108883,\n",
       " 792885.2695544413,\n",
       " 0.5059460579340639)"
      ]
     },
     "execution_count": 326,
     "metadata": {},
     "output_type": "execute_result"
    }
   ],
   "source": [
    "nr_message_logit = response_exact.loc[True, \"n_obs\"]\n",
    "message_cost_logit = nr_message_logit * cost\n",
    "nr_responses_logit = (tuango[\"pred_logit\"] * tuango[\"message_logit\"]).sum()\n",
    "response_rate_logit = nr_responses_logit / nr_message_logit\n",
    "revenue_logit = nr_responses_logit * average_ordersize * margin\n",
    "profit_logit = 0.5 * revenue_logit - message_cost_logit\n",
    "ROME_logit = profit_logit / message_cost_logit\n",
    "\n",
    "\n",
    "nr_message_logit, message_cost_logit, nr_responses_logit, response_rate_logit, revenue_logit, profit_logit, ROME_logit"
   ]
  },
  {
   "attachments": {},
   "cell_type": "markdown",
   "metadata": {},
   "source": [
    "### Question 14\n",
    "\n",
    "Create a bar chart with profit information for the analyses conducted in questions 12 and 13"
   ]
  },
  {
   "cell_type": "code",
   "execution_count": 327,
   "metadata": {},
   "outputs": [],
   "source": [
    "performance_data = pd.DataFrame(\n",
    "    {\n",
    "        \"name\": [\"Targeting All\", \"Logistic\"],\n",
    "        \"Profit\": [profit_all, profit_logit],\n",
    "        \"ROME\": [ROME_all, ROME_logit],\n",
    "    }\n",
    ")"
   ]
  },
  {
   "cell_type": "code",
   "execution_count": 328,
   "metadata": {},
   "outputs": [
    {
     "data": {
      "image/png": "[encoded data removed]",
      "text/plain": [
       "<Figure size 640x480 with 1 Axes>"
      ]
     },
     "metadata": {},
     "output_type": "display_data"
    }
   ],
   "source": [
    "plt.clf()\n",
    "fig = sns.barplot(x=\"name\", y=\"Profit\", color=\"pink\", data=performance_data)\n",
    "fig.set(xlabel=\"\", ylabel=\"Campaign profit\")\n",
    "for index, row in performance_data.iterrows():\n",
    "    fig.text(row.name, row.Profit - 8000, f\"{int(row.Profit):,}\", color=\"black\", ha=\"center\")\n",
    "plt.show()"
   ]
  },
  {
   "attachments": {},
   "cell_type": "markdown",
   "metadata": {},
   "source": [
    "### Question 15\n",
    "\n",
    "Create a bar chart with ROME for the analyses conducted in questions 12 and 13"
   ]
  },
  {
   "cell_type": "code",
   "execution_count": 329,
   "metadata": {},
   "outputs": [
    {
     "data": {
      "image/png": "[encoded data removed]",
      "text/plain": [
       "<Figure size 640x480 with 1 Axes>"
      ]
     },
     "metadata": {},
     "output_type": "display_data"
    }
   ],
   "source": [
    "plt.clf()\n",
    "fig = sns.barplot(x=\"name\", y=\"ROME\", color=\"pink\", data=performance_data)\n",
    "fig.set(xlabel=\"\", ylabel=\"Return on Marketing Expenditures (ROME)\")\n",
    "for index, row in performance_data.iterrows():\n",
    "    adj = rsm.ifelse(index == 0, 0.05, 0.15)\n",
    "    fig.text(\n",
    "        row.name,\n",
    "        row.ROME - adj,\n",
    "        f\"{round((100*row.ROME), 2):,}%\",\n",
    "        color=\"black\",\n",
    "        ha=\"center\",\n",
    "    )\n",
    "plt.show()"
   ]
  },
  {
   "attachments": {},
   "cell_type": "markdown",
   "metadata": {},
   "source": [
    "### Question 16\n",
    "\n",
    "You also have access to a dataset with the results from the deal offer roll-out (tuango_post.parquet). Tuango decided to contact all remaining 397,252 customers because this would provide data that could be used to evaluate different targeting approaches. The data has a \"test\" variable (test = 1 for the data used in the test, test = 0 for the remaining customers). Use this variable to evaluate the actual performance on the 'roll out' sample for the targeting approaches from questions 12 and 13. Also re-create the plots from question 14 and 15 based on this new dataset.\n",
    "\n",
    "Specifically, redo questions 12-15 using the tuango-post.parquet date and make the required code adjustments to calculate the actual performance on the 'roll out' sample correctly.\n",
    "\n",
    "Hint 1: It is important that you do NOT use any information about buyers that were in the 'roll out' sample (i.e., test == 0) when calculating the break-even response rate etc. for targeting.\n",
    "\n",
    "Hint 2: You have the actual data on what happened in the \"post\" data. Use that information to calculate performance (i.e., do not \"project\" the performance like you had to do for questions 12 and 13)."
   ]
  },
  {
   "cell_type": "code",
   "execution_count": 330,
   "metadata": {},
   "outputs": [],
   "source": [
    "tuango_post = pd.read_parquet(\"data/tuango_post.parquet\")"
   ]
  },
  {
   "cell_type": "code",
   "execution_count": 331,
   "metadata": {},
   "outputs": [
    {
     "data": {
      "text/plain": [
       "0.09621915056437727"
      ]
     },
     "execution_count": 331,
     "metadata": {},
     "output_type": "execute_result"
    }
   ],
   "source": [
    "# insert calculation code here\n",
    "# the result should be expressed as a proportion/decimal\n",
    "# assign the calculated number to \"q1\"\n",
    "# there is no need to round the result\n",
    "\n",
    "total_responses = tuango_post[\"buyer\"].notna().sum()\n",
    "\n",
    "# Number of \"yes\" responses\n",
    "yes_responses = (tuango_post[\"buyer\"] == \"yes\").sum()\n",
    "\n",
    "# Proportion of buyers\n",
    "q1_post = yes_responses / total_responses\n",
    "\n",
    "# The result is stored in q1\n",
    "q1_post"
   ]
  },
  {
   "cell_type": "code",
   "execution_count": 332,
   "metadata": {},
   "outputs": [
    {
     "name": "stdout",
     "output_type": "stream",
     "text": [
      "ordersize    3.938114\n",
      "Name: yes, dtype: float64\n"
     ]
    },
    {
     "data": {
      "text/html": [
       "<div>\n",
       "<style scoped>\n",
       "    .dataframe tbody tr th:only-of-type {\n",
       "        vertical-align: middle;\n",
       "    }\n",
       "\n",
       "    .dataframe tbody tr th {\n",
       "        vertical-align: top;\n",
       "    }\n",
       "\n",
       "    .dataframe thead tr th {\n",
       "        text-align: left;\n",
       "    }\n",
       "\n",
       "    .dataframe thead tr:last-of-type th {\n",
       "        text-align: right;\n",
       "    }\n",
       "</style>\n",
       "<table border=\"1\" class=\"dataframe\">\n",
       "  <thead>\n",
       "    <tr>\n",
       "      <th></th>\n",
       "      <th>count</th>\n",
       "      <th>mean</th>\n",
       "      <th>std</th>\n",
       "    </tr>\n",
       "    <tr>\n",
       "      <th></th>\n",
       "      <th>ordersize</th>\n",
       "      <th>ordersize</th>\n",
       "      <th>ordersize</th>\n",
       "    </tr>\n",
       "    <tr>\n",
       "      <th>buyer</th>\n",
       "      <th></th>\n",
       "      <th></th>\n",
       "      <th></th>\n",
       "    </tr>\n",
       "  </thead>\n",
       "  <tbody>\n",
       "    <tr>\n",
       "      <th>yes</th>\n",
       "      <td>40235</td>\n",
       "      <td>3.938114</td>\n",
       "      <td>1.697232</td>\n",
       "    </tr>\n",
       "    <tr>\n",
       "      <th>no</th>\n",
       "      <td>377925</td>\n",
       "      <td>0.000000</td>\n",
       "      <td>0.000000</td>\n",
       "    </tr>\n",
       "  </tbody>\n",
       "</table>\n",
       "</div>"
      ],
      "text/plain": [
       "          count      mean       std\n",
       "      ordersize ordersize ordersize\n",
       "buyer                              \n",
       "yes       40235  3.938114  1.697232\n",
       "no       377925  0.000000  0.000000"
      ]
     },
     "execution_count": 332,
     "metadata": {},
     "output_type": "execute_result"
    }
   ],
   "source": [
    "# insert calculation code here to create a pd.pivot_table that shows\n",
    "# (1) counts the number of yes and no (buyer), (2) the mean (ordersize), and\n",
    "# (3) the standard deviation in ordersize for yes and no responses\n",
    "q2_post = tuango_post.pivot_table(index='buyer', values='ordersize', aggfunc=['count', 'mean', 'std'], observed=True)\n",
    "# the below should show your result\n",
    "# do not apply any rounding to your answer\n",
    "print(q2_post.loc[\"yes\", \"mean\"])\n",
    "q2_post"
   ]
  },
  {
   "cell_type": "code",
   "execution_count": 333,
   "metadata": {},
   "outputs": [
    {
     "name": "stdout",
     "output_type": "stream",
     "text": [
      "Logistic regression (GLM)\n",
      "Data                 : tuango_post\n",
      "Response variable    : buyer\n",
      "Level                : yes\n",
      "Explanatory variables: recency, frequency, monetary, age, gender, music\n",
      "Null hyp.: There is no effect of x on buyer\n",
      "Alt. hyp.: There is an effect of x on buyer\n",
      "\n",
      "               OR     OR%  coefficient  std.error  z.value p.value     \n",
      "Intercept   0.050  -95.0%        -2.99      0.022 -138.153  < .001  ***\n",
      "gender[F]   1.759   75.9%         0.56      0.012   46.145  < .001  ***\n",
      "gender[O]   1.071    7.1%         0.07      0.029    2.373   0.018    *\n",
      "music[yes]  1.879   87.9%         0.63      0.013   47.753  < .001  ***\n",
      "recency     0.999   -0.1%        -0.00      0.000  -14.782  < .001  ***\n",
      "frequency   1.121   12.1%         0.11      0.002   51.307  < .001  ***\n",
      "monetary    1.002    0.2%         0.00      0.000   57.229  < .001  ***\n",
      "age         0.987   -1.3%        -0.01      0.000  -41.380  < .001  ***\n",
      "\n",
      "Signif. codes:  0 '***' 0.001 '**' 0.01 '*' 0.05 '.' 0.1 ' ' 1\n",
      "\n",
      "Pseudo R-squared (McFadden): 0.048\n",
      "Pseudo R-squared (McFadden adjusted): 0.048\n",
      "Area under the RO Curve (AUC): 0.66\n",
      "Log-likelihood: -126024.536, AIC: 252065.071, BIC: 252152.62\n",
      "Chi-squared: 12809.521, df(7), p.value < 0.001 \n",
      "Nr obs: 418,160\n"
     ]
    }
   ],
   "source": [
    "clf_post = rsm.model.logistic(\n",
    "    data={\"tuango_post\": tuango_post},\n",
    "    rvar=\"buyer\",\n",
    "    lev=\"yes\",\n",
    "    evar=[\n",
    "        \"recency\",\n",
    "        \"frequency\",\n",
    "        \"monetary\",\n",
    "        \"age\",\n",
    "        \"gender\",\n",
    "        \"music\",\n",
    "    ],\n",
    ")\n",
    "clf_post.summary()"
   ]
  },
  {
   "cell_type": "code",
   "execution_count": 334,
   "metadata": {},
   "outputs": [
    {
     "data": {
      "image/png": "[encoded data removed]",
      "text/plain": [
       "<Figure size 1000x1200 with 6 Axes>"
      ]
     },
     "metadata": {},
     "output_type": "display_data"
    }
   ],
   "source": [
    "clf_post.plot(\"pred\")"
   ]
  },
  {
   "cell_type": "code",
   "execution_count": 335,
   "metadata": {},
   "outputs": [
    {
     "data": {
      "image/png": "[encoded data removed]",
      "text/plain": [
       "<Figure size 600x500 with 1 Axes>"
      ]
     },
     "metadata": {},
     "output_type": "display_data"
    }
   ],
   "source": [
    "clf_post.plot(\"vimp\") # variable importance"
   ]
  },
  {
   "cell_type": "code",
   "execution_count": 336,
   "metadata": {},
   "outputs": [
    {
     "data": {
      "text/plain": [
       "0    0.143066\n",
       "1    0.063879\n",
       "2    0.071288\n",
       "3    0.087050\n",
       "4    0.079130\n",
       "Name: pred_logit_post, dtype: float64"
      ]
     },
     "execution_count": 336,
     "metadata": {},
     "output_type": "execute_result"
    }
   ],
   "source": [
    "tuango_post[\"pred_logit_post\"] = clf_post.predict()[\"prediction\"]\n",
    "tuango_post[\"pred_logit_post\"].head()"
   ]
  },
  {
   "cell_type": "code",
   "execution_count": 337,
   "metadata": {},
   "outputs": [
    {
     "data": {
      "text/plain": [
       "0.09621915056438622"
      ]
     },
     "execution_count": 337,
     "metadata": {},
     "output_type": "execute_result"
    }
   ],
   "source": [
    "average_ordersize_logit_post = tuango_post[\"pred_logit_post\"].mean()\n",
    "average_ordersize_logit_post"
   ]
  },
  {
   "cell_type": "code",
   "execution_count": 338,
   "metadata": {},
   "outputs": [
    {
     "data": {
      "text/plain": [
       "0.09621915056437727"
      ]
     },
     "execution_count": 338,
     "metadata": {},
     "output_type": "execute_result"
    }
   ],
   "source": [
    "q1_post"
   ]
  },
  {
   "cell_type": "code",
   "execution_count": 339,
   "metadata": {},
   "outputs": [],
   "source": [
    "average_ordersize_post = q2_post.loc[\"yes\", (\"mean\", \"ordersize\")]"
   ]
  },
  {
   "cell_type": "code",
   "execution_count": 340,
   "metadata": {},
   "outputs": [
    {
     "data": {
      "text/html": [
       "<div>\n",
       "<style scoped>\n",
       "    .dataframe tbody tr th:only-of-type {\n",
       "        vertical-align: middle;\n",
       "    }\n",
       "\n",
       "    .dataframe tbody tr th {\n",
       "        vertical-align: top;\n",
       "    }\n",
       "\n",
       "    .dataframe thead th {\n",
       "        text-align: right;\n",
       "    }\n",
       "</style>\n",
       "<table border=\"1\" class=\"dataframe\">\n",
       "  <thead>\n",
       "    <tr style=\"text-align: right;\">\n",
       "      <th></th>\n",
       "      <th>n_obs</th>\n",
       "      <th>perc</th>\n",
       "    </tr>\n",
       "    <tr>\n",
       "      <th>buyer</th>\n",
       "      <th></th>\n",
       "      <th></th>\n",
       "    </tr>\n",
       "  </thead>\n",
       "  <tbody>\n",
       "    <tr>\n",
       "      <th>yes</th>\n",
       "      <td>40235</td>\n",
       "      <td>0.096219</td>\n",
       "    </tr>\n",
       "    <tr>\n",
       "      <th>no</th>\n",
       "      <td>377925</td>\n",
       "      <td>0.903781</td>\n",
       "    </tr>\n",
       "  </tbody>\n",
       "</table>\n",
       "</div>"
      ],
      "text/plain": [
       "        n_obs      perc\n",
       "buyer                  \n",
       "yes     40235  0.096219\n",
       "no     377925  0.903781"
      ]
     },
     "execution_count": 340,
     "metadata": {},
     "output_type": "execute_result"
    }
   ],
   "source": [
    "ncust_post = tuango_post.groupby(\"buyer\", observed=False).buyer.agg(\"count\")\n",
    "response_post = pd.DataFrame(\n",
    "    {\n",
    "        \"n_obs\": ncust_post,\n",
    "        \"perc\": ncust_post.agg(lambda x: (x / x.sum())),\n",
    "    }\n",
    ")\n",
    "response_post"
   ]
  },
  {
   "cell_type": "markdown",
   "metadata": {},
   "source": [
    "### Question 12 (post)\n",
    "\n",
    "What is the projected profit in RMB and the return on marketing expenditures if you offer the deal to all 397,252 remaining customers (i.e., target everyone)?"
   ]
  },
  {
   "cell_type": "code",
   "execution_count": 341,
   "metadata": {},
   "outputs": [
    {
     "data": {
      "text/plain": [
       "(397252,\n",
       " 3575268,\n",
       " 38223.25,\n",
       " 0.09621915056437727,\n",
       " 7375847.5,\n",
       " 112655.75,\n",
       " 0.03150973577365389)"
      ]
     },
     "execution_count": 341,
     "metadata": {},
     "output_type": "execute_result"
    }
   ],
   "source": [
    "# insert calculation code here\n",
    "# all variables should be numeric (integer or float) and of length 1\n",
    "# _all stands for 'targeting all'\n",
    "tuango_post[\"message_all\"] = True\n",
    "\n",
    "nr_message_all_post = 397252\n",
    "message_cost_all_post = nr_message_all_post * cost\n",
    "nr_responses_all_post = nr_message_all * response_post.loc['yes', 'perc']\n",
    "response_rate_all_post = response_post.loc['yes', 'perc']\n",
    "revenue_all_post = nr_responses_all_post * average_ordersize_post * margin\n",
    "profit_all_post = (0.5 * revenue_all_post) - message_cost_all_post\n",
    "ROME_all_post = profit_all_post / message_cost_all_post\n",
    "\n",
    "nr_message_all_post, message_cost_all_post, nr_responses_all_post, response_rate_all_post, revenue_all_post, profit_all_post, ROME_all_post"
   ]
  },
  {
   "cell_type": "markdown",
   "metadata": {},
   "source": [
    "### Question 13 (post)\n",
    "\n",
    "Evaluate the performance implications of offering the deal to only those customers (out of 397,252) with a predicted probability of purchase greater than the breakeven response rate. Determine the projected profit in RMB and the return on marketing expenditures for both approaches. (6 points)\n",
    "\n",
    "Note: Fine tune your estimate from Q2 above by determining the average amount spent among the people that (1) will receive a message and (2) bought a karaoke deal. Also, use the actual number of messages you plan to send out to the group of customers in the rollout sample (i.e., “test == 0”)"
   ]
  },
  {
   "cell_type": "code",
   "execution_count": 342,
   "metadata": {},
   "outputs": [
    {
     "data": {
      "text/html": [
       "<div>\n",
       "<style scoped>\n",
       "    .dataframe tbody tr th:only-of-type {\n",
       "        vertical-align: middle;\n",
       "    }\n",
       "\n",
       "    .dataframe tbody tr th {\n",
       "        vertical-align: top;\n",
       "    }\n",
       "\n",
       "    .dataframe thead th {\n",
       "        text-align: right;\n",
       "    }\n",
       "</style>\n",
       "<table border=\"1\" class=\"dataframe\">\n",
       "  <thead>\n",
       "    <tr style=\"text-align: right;\">\n",
       "      <th></th>\n",
       "      <th>n_obs</th>\n",
       "      <th>perc</th>\n",
       "    </tr>\n",
       "    <tr>\n",
       "      <th>message_logit_post</th>\n",
       "      <th></th>\n",
       "      <th></th>\n",
       "    </tr>\n",
       "  </thead>\n",
       "  <tbody>\n",
       "    <tr>\n",
       "      <th>False</th>\n",
       "      <td>237984</td>\n",
       "      <td>0.569122</td>\n",
       "    </tr>\n",
       "    <tr>\n",
       "      <th>True</th>\n",
       "      <td>180176</td>\n",
       "      <td>0.430878</td>\n",
       "    </tr>\n",
       "  </tbody>\n",
       "</table>\n",
       "</div>"
      ],
      "text/plain": [
       "                     n_obs      perc\n",
       "message_logit_post                  \n",
       "False               237984  0.569122\n",
       "True                180176  0.430878"
      ]
     },
     "execution_count": 342,
     "metadata": {},
     "output_type": "execute_result"
    }
   ],
   "source": [
    "tuango_post[\"message_logit_post\"] = tuango_post[\"pred_logit_post\"] > q11\n",
    "ncust_exact_post = tuango_post.groupby(\"message_logit_post\", observed=False).message_logit_post.agg(\"count\")\n",
    "response_exact_post = pd.DataFrame(\n",
    "    {\n",
    "        \"n_obs\": ncust_exact_post,\n",
    "        \"perc\": ncust_exact_post.agg(lambda x: (x / x.sum())),\n",
    "    }\n",
    ")\n",
    "response_exact_post"
   ]
  },
  {
   "cell_type": "code",
   "execution_count": 343,
   "metadata": {},
   "outputs": [
    {
     "data": {
      "text/plain": [
       "(180176,\n",
       " 1621584,\n",
       " 25474.517871054217,\n",
       " 0.14138685435937204,\n",
       " 4915755.697197924,\n",
       " 836293.8485989622,\n",
       " 0.515726504824272)"
      ]
     },
     "execution_count": 343,
     "metadata": {},
     "output_type": "execute_result"
    }
   ],
   "source": [
    "nr_message_logit_post = response_exact_post.loc[True, 'n_obs']\n",
    "message_cost_logit_post = nr_message_logit_post * cost\n",
    "nr_responses_logit_post = (tuango_post[\"pred_logit_post\"] * tuango_post[\"message_logit_post\"]).sum()\n",
    "response_rate_logit_post = nr_responses_logit_post / nr_message_logit_post\n",
    "revenue_logit_post = nr_responses_logit_post * average_ordersize_post * margin\n",
    "profit_logit_post = 0.5 * revenue_logit_post - message_cost_logit_post\n",
    "ROME_logit_post = profit_logit_post / message_cost_logit_post\n",
    "\n",
    "\n",
    "nr_message_logit_post, message_cost_logit_post, nr_responses_logit_post, response_rate_logit_post, revenue_logit_post, profit_logit_post, ROME_logit_post"
   ]
  },
  {
   "cell_type": "markdown",
   "metadata": {},
   "source": [
    "### Question 14 (post)\n",
    "\n",
    "Create a bar chart with profit information for the analyses conducted in questions 12 and 13"
   ]
  },
  {
   "cell_type": "code",
   "execution_count": 344,
   "metadata": {},
   "outputs": [],
   "source": [
    "performance_data_post = pd.DataFrame(\n",
    "    {\n",
    "        \"name\": [\"Targeting All\", \"Logistic\"],\n",
    "        \"Profit\": [profit_all_post, profit_logit_post],\n",
    "        \"ROME\": [ROME_all_post, ROME_logit_post],\n",
    "    }\n",
    ")"
   ]
  },
  {
   "cell_type": "code",
   "execution_count": 345,
   "metadata": {},
   "outputs": [
    {
     "data": {
      "image/png": "[encoded data removed]",
      "text/plain": [
       "<Figure size 640x480 with 1 Axes>"
      ]
     },
     "metadata": {},
     "output_type": "display_data"
    }
   ],
   "source": [
    "plt.clf()\n",
    "fig = sns.barplot(x=\"name\", y=\"Profit\", color=\"pink\", data=performance_data)\n",
    "fig.set(xlabel=\"\", ylabel=\"Campaign profit\")\n",
    "for index, row in performance_data_post.iterrows():\n",
    "    fig.text(row.name, row.Profit - 8000, f\"{int(row.Profit):,}\", color=\"black\", ha=\"center\")\n",
    "plt.show()"
   ]
  },
  {
   "cell_type": "markdown",
   "metadata": {},
   "source": [
    "### Question 15 (post)\n",
    "\n",
    "Create a bar chart with ROME information for the analyses conducted in questions 12 and 13"
   ]
  },
  {
   "cell_type": "code",
   "execution_count": 346,
   "metadata": {},
   "outputs": [
    {
     "data": {
      "image/png": "[encoded data removed]",
      "text/plain": [
       "<Figure size 640x480 with 1 Axes>"
      ]
     },
     "metadata": {},
     "output_type": "display_data"
    }
   ],
   "source": [
    "plt.clf()\n",
    "fig = sns.barplot(x=\"name\", y=\"ROME\", color=\"pink\", data=performance_data_post)\n",
    "fig.set(xlabel=\"\", ylabel=\"Return on Marketing Expenditures (ROME)\")\n",
    "for index, row in performance_data.iterrows():\n",
    "    adj = rsm.ifelse(index == 0, 0.05, 0.15)\n",
    "    fig.text(\n",
    "        row.name,\n",
    "        row.ROME - adj,\n",
    "        f\"{round((100*row.ROME), 2):,}%\",\n",
    "        color=\"black\",\n",
    "        ha=\"center\",\n",
    "    )\n",
    "plt.show()"
   ]
  },
  {
   "cell_type": "markdown",
   "metadata": {},
   "source": [
    "### Question 17\n",
    "\n",
    "Please describe how you used Generative AI-tools like ChatGPT to support your work on this assignment and enhance your learning. Create a pdf where you organize your interactions with AI and comment on what things did and did not go well. Bring any questions you may have about the assignment and the support you received from GenAI to class so we can discuss.\n",
    "\n",
    "Make sure to include:\n",
    "- Specific examples of prompts you used\n",
    "- How the AI responses helped or hindered your understanding\n",
    "- Any limitations or challenges you encountered\n",
    "- Key insights gained from using GenAI tools\n",
    "- Questions that arose during your interactions with AI\n",
    "- How GenAI complemented your learning process\n",
    "\n",
    "Note: No matter how you used Generative AI-tools, you will be expected to understand and talk meaningfully about the work you submitted for this assignment. You may be called on in class to walk us through your thought process, calculations, and how different parts of your code work.\n"
   ]
  },
  {
   "cell_type": "markdown",
   "metadata": {},
   "source": [
    "https://chatgpt.com/share/e/6792813c-8818-8013-a018-7c6983ffeaf5"
   ]
  }
 ],
 "metadata": {
  "kernelspec": {
   "display_name": "base",
   "language": "python",
   "name": "python3"
  },
  "language_info": {
   "codemirror_mode": {
    "name": "ipython",
    "version": 3
   },
   "file_extension": ".py",
   "mimetype": "text/x-python",
   "name": "python",
   "nbconvert_exporter": "python",
   "pygments_lexer": "ipython3",
   "version": "3.11.9"
  }
 },
 "nbformat": 4,
 "nbformat_minor": 4
}
